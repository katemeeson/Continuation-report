{
 "cells": [
  {
   "cell_type": "code",
   "execution_count": 25,
   "id": "narrative-partner",
   "metadata": {
    "scrolled": true
   },
   "outputs": [
    {
     "name": "stdout",
     "output_type": "stream",
     "text": [
      "Collecting package metadata (current_repodata.json): done\n",
      "Solving environment: done\n",
      "\n",
      "## Package Plan ##\n",
      "\n",
      "  environment location: /opt/anaconda3/envs/sklearn-env\n",
      "\n",
      "  added / updated specs:\n",
      "    - scikit-learn\n",
      "\n",
      "\n",
      "The following packages will be downloaded:\n",
      "\n",
      "    package                    |            build\n",
      "    ---------------------------|-----------------\n",
      "    certifi-2021.5.30          |   py39h6e9494a_0         141 KB  conda-forge\n",
      "    scikit-learn-0.24.2        |   py39hb2f4e1b_0         5.0 MB\n",
      "    ------------------------------------------------------------\n",
      "                                           Total:         5.2 MB\n",
      "\n",
      "The following packages will be UPDATED:\n",
      "\n",
      "  ca-certificates    pkgs/main::ca-certificates-2021.4.13-~ --> conda-forge::ca-certificates-2021.5.30-h033912b_0\n",
      "  certifi            pkgs/main::certifi-2020.12.5-py39hecd~ --> conda-forge::certifi-2021.5.30-py39h6e9494a_0\n",
      "  scikit-learn                        0.24.1-py39hb2f4e1b_0 --> 0.24.2-py39hb2f4e1b_0\n",
      "\n",
      "The following packages will be SUPERSEDED by a higher-priority channel:\n",
      "\n",
      "  openssl              pkgs/main::openssl-1.1.1k-h9ed2024_0 --> conda-forge::openssl-1.1.1k-h0d85af4_0\n",
      "\n",
      "\n",
      "\n",
      "Downloading and Extracting Packages\n",
      "scikit-learn-0.24.2  | 5.0 MB    | ##################################### | 100% \n",
      "certifi-2021.5.30    | 141 KB    | ##################################### | 100% \n",
      "Preparing transaction: done\n",
      "Verifying transaction: done\n",
      "Executing transaction: \\ \n",
      "\n",
      "    Installed package of scikit-learn can be accelerated using scikit-learn-intelex.\n",
      "    More details are available here: https://intel.github.io/scikit-learn-intelex\n",
      "\n",
      "    For example:\n",
      "\n",
      "        $ conda install scikit-learn-intelex\n",
      "        $ python -m sklearnex my_application.py\n",
      "\n",
      "    \n",
      "\n",
      "done\n",
      "\n",
      "Note: you may need to restart the kernel to use updated packages.\n"
     ]
    }
   ],
   "source": [
    "conda install -c conda-forge scikit-learn"
   ]
  },
  {
   "cell_type": "code",
   "execution_count": 24,
   "id": "constitutional-sector",
   "metadata": {
    "scrolled": true
   },
   "outputs": [
    {
     "name": "stdout",
     "output_type": "stream",
     "text": [
      "Requirement already satisfied: plotly in /opt/anaconda3/envs/sklearn-env/lib/python3.9/site-packages (4.14.3)\n",
      "Requirement already satisfied: six in /opt/anaconda3/envs/sklearn-env/lib/python3.9/site-packages (from plotly) (1.15.0)\n",
      "Requirement already satisfied: retrying>=1.3.3 in /opt/anaconda3/envs/sklearn-env/lib/python3.9/site-packages (from plotly) (1.3.3)\n",
      "Note: you may need to restart the kernel to use updated packages.\n"
     ]
    }
   ],
   "source": [
    "pip install plotly"
   ]
  },
  {
   "cell_type": "code",
   "execution_count": 23,
   "id": "subject-mapping",
   "metadata": {
    "scrolled": true
   },
   "outputs": [
    {
     "name": "stdout",
     "output_type": "stream",
     "text": [
      "Requirement already satisfied: matplotlib in /opt/anaconda3/envs/sklearn-env/lib/python3.9/site-packages (3.3.3)\n",
      "Requirement already satisfied: python-dateutil>=2.1 in /opt/anaconda3/envs/sklearn-env/lib/python3.9/site-packages (from matplotlib) (2.8.1)\n",
      "Requirement already satisfied: pyparsing!=2.0.4,!=2.1.2,!=2.1.6,>=2.0.3 in /opt/anaconda3/envs/sklearn-env/lib/python3.9/site-packages (from matplotlib) (2.4.7)\n",
      "Requirement already satisfied: kiwisolver>=1.0.1 in /opt/anaconda3/envs/sklearn-env/lib/python3.9/site-packages (from matplotlib) (1.3.1)\n",
      "Requirement already satisfied: cycler>=0.10 in /opt/anaconda3/envs/sklearn-env/lib/python3.9/site-packages (from matplotlib) (0.10.0)\n",
      "Requirement already satisfied: numpy>=1.15 in /opt/anaconda3/envs/sklearn-env/lib/python3.9/site-packages (from matplotlib) (1.19.2)\n",
      "Requirement already satisfied: pillow>=6.2.0 in /opt/anaconda3/envs/sklearn-env/lib/python3.9/site-packages (from matplotlib) (8.1.0)\n",
      "Requirement already satisfied: six in /opt/anaconda3/envs/sklearn-env/lib/python3.9/site-packages (from cycler>=0.10->matplotlib) (1.15.0)\n",
      "Note: you may need to restart the kernel to use updated packages.\n"
     ]
    }
   ],
   "source": [
    "pip install matplotlib"
   ]
  },
  {
   "cell_type": "code",
   "execution_count": 22,
   "id": "deadly-baltimore",
   "metadata": {
    "scrolled": true
   },
   "outputs": [
    {
     "name": "stdout",
     "output_type": "stream",
     "text": [
      "Requirement already satisfied: kneed in /opt/anaconda3/envs/sklearn-env/lib/python3.9/site-packages (0.7.0)\n",
      "Requirement already satisfied: numpy>=1.14.2 in /opt/anaconda3/envs/sklearn-env/lib/python3.9/site-packages (from kneed) (1.19.2)\n",
      "Requirement already satisfied: scipy in /opt/anaconda3/envs/sklearn-env/lib/python3.9/site-packages (from kneed) (1.5.2)\n",
      "Requirement already satisfied: matplotlib in /opt/anaconda3/envs/sklearn-env/lib/python3.9/site-packages (from kneed) (3.3.3)\n",
      "Requirement already satisfied: kiwisolver>=1.0.1 in /opt/anaconda3/envs/sklearn-env/lib/python3.9/site-packages (from matplotlib->kneed) (1.3.1)\n",
      "Requirement already satisfied: pillow>=6.2.0 in /opt/anaconda3/envs/sklearn-env/lib/python3.9/site-packages (from matplotlib->kneed) (8.1.0)\n",
      "Requirement already satisfied: python-dateutil>=2.1 in /opt/anaconda3/envs/sklearn-env/lib/python3.9/site-packages (from matplotlib->kneed) (2.8.1)\n",
      "Requirement already satisfied: cycler>=0.10 in /opt/anaconda3/envs/sklearn-env/lib/python3.9/site-packages (from matplotlib->kneed) (0.10.0)\n",
      "Requirement already satisfied: pyparsing!=2.0.4,!=2.1.2,!=2.1.6,>=2.0.3 in /opt/anaconda3/envs/sklearn-env/lib/python3.9/site-packages (from matplotlib->kneed) (2.4.7)\n",
      "Requirement already satisfied: six in /opt/anaconda3/envs/sklearn-env/lib/python3.9/site-packages (from cycler>=0.10->matplotlib->kneed) (1.15.0)\n",
      "Note: you may need to restart the kernel to use updated packages.\n"
     ]
    }
   ],
   "source": [
    "pip install kneed"
   ]
  },
  {
   "cell_type": "code",
   "execution_count": null,
   "id": "contemporary-pride",
   "metadata": {},
   "outputs": [],
   "source": [
    "conda install seaborn  "
   ]
  },
  {
   "cell_type": "code",
   "execution_count": 75,
   "id": "useful-trade",
   "metadata": {},
   "outputs": [],
   "source": [
    "#Import necessary modules/packages (for entire coding)\n",
    "import visualisation\n",
    "import matplotlib.pyplot as plt\n",
    "import numpy as np\n",
    "import pandas as pd\n",
    "import visualisation \n",
    "import plotly\n",
    "import plotly.express as px\n",
    "import plotly.graph_objs as go\n",
    "from sklearn.cluster import KMeans\n",
    "from sklearn import datasets\n",
    "from mpl_toolkits.mplot3d import Axes3D\n",
    "import seaborn as sns\n",
    "sns.set()\n",
    "from sklearn.preprocessing import StandardScaler\n",
    "from sklearn.decomposition import PCA\n",
    "from kneed import KneeLocator\n",
    "from scipy.cluster.hierarchy import dendrogram\n",
    "from sklearn.cluster import AgglomerativeClustering\n",
    "import scipy.cluster.hierarchy as shc\n",
    "%matplotlib inline\n",
    "from sklearn.metrics import silhouette_samples,silhouette_score\n",
    "from sklearn.metrics.cluster import adjusted_rand_score"
   ]
  },
  {
   "cell_type": "code",
   "execution_count": 4,
   "id": "built-cleaning",
   "metadata": {},
   "outputs": [
    {
     "name": "stdout",
     "output_type": "stream",
     "text": [
      "Samples: 9, Proteins: 2628\n"
     ]
    },
    {
     "data": {
      "text/html": [
       "<div>\n",
       "<style scoped>\n",
       "    .dataframe tbody tr th:only-of-type {\n",
       "        vertical-align: middle;\n",
       "    }\n",
       "\n",
       "    .dataframe tbody tr th {\n",
       "        vertical-align: top;\n",
       "    }\n",
       "\n",
       "    .dataframe thead th {\n",
       "        text-align: right;\n",
       "    }\n",
       "</style>\n",
       "<table border=\"1\" class=\"dataframe\">\n",
       "  <thead>\n",
       "    <tr style=\"text-align: right;\">\n",
       "      <th>Accession</th>\n",
       "      <th>1B18_HUMAN</th>\n",
       "      <th>2AAA_HUMAN</th>\n",
       "      <th>2AAB_HUMAN</th>\n",
       "      <th>4EBP2_HUMAN;4EBP1_HUMAN;4EBP3_HUMAN</th>\n",
       "      <th>6PGD_HUMAN</th>\n",
       "      <th>6PGL_HUMAN</th>\n",
       "      <th>1433B_HUMAN</th>\n",
       "      <th>1433E_HUMAN</th>\n",
       "      <th>1433F_HUMAN</th>\n",
       "      <th>1433G_HUMAN</th>\n",
       "      <th>...</th>\n",
       "      <th>SMC2_HUMAN</th>\n",
       "      <th>PPIH_HUMAN</th>\n",
       "      <th>SF3B1_HUMAN</th>\n",
       "      <th>KS6B2_HUMAN</th>\n",
       "      <th>BRK1_HUMAN</th>\n",
       "      <th>PDZD2_HUMAN</th>\n",
       "      <th>SQSTM_HUMAN</th>\n",
       "      <th>VP26A_HUMAN</th>\n",
       "      <th>CC149_HUMAN</th>\n",
       "      <th>label</th>\n",
       "    </tr>\n",
       "  </thead>\n",
       "  <tbody>\n",
       "    <tr>\n",
       "      <th>1_FC0_UNIMAN</th>\n",
       "      <td>135.786390</td>\n",
       "      <td>2717.152441</td>\n",
       "      <td>0.957894</td>\n",
       "      <td>713.186543</td>\n",
       "      <td>2553.155806</td>\n",
       "      <td>1553.432810</td>\n",
       "      <td>9404.851776</td>\n",
       "      <td>12134.891290</td>\n",
       "      <td>2083.855075</td>\n",
       "      <td>3221.205278</td>\n",
       "      <td>...</td>\n",
       "      <td>0.000000</td>\n",
       "      <td>15069.648050</td>\n",
       "      <td>4826.286732</td>\n",
       "      <td>0.000000</td>\n",
       "      <td>98.556887</td>\n",
       "      <td>1936.422674</td>\n",
       "      <td>2609.835234</td>\n",
       "      <td>735.099695</td>\n",
       "      <td>11677.882160</td>\n",
       "      <td>1_FC0_UNIMAN</td>\n",
       "    </tr>\n",
       "    <tr>\n",
       "      <th>2_FC0_UNIMAN</th>\n",
       "      <td>10.772416</td>\n",
       "      <td>3136.231976</td>\n",
       "      <td>2.629231</td>\n",
       "      <td>868.618474</td>\n",
       "      <td>2474.713822</td>\n",
       "      <td>1392.897386</td>\n",
       "      <td>10361.927580</td>\n",
       "      <td>10947.187770</td>\n",
       "      <td>1987.484437</td>\n",
       "      <td>3506.647732</td>\n",
       "      <td>...</td>\n",
       "      <td>0.000000</td>\n",
       "      <td>11550.864400</td>\n",
       "      <td>3855.626138</td>\n",
       "      <td>0.000000</td>\n",
       "      <td>0.000000</td>\n",
       "      <td>1879.789849</td>\n",
       "      <td>2786.084578</td>\n",
       "      <td>659.152613</td>\n",
       "      <td>726.751695</td>\n",
       "      <td>2_FC0_UNIMAN</td>\n",
       "    </tr>\n",
       "    <tr>\n",
       "      <th>3_FC0_UNIMAN</th>\n",
       "      <td>36.970907</td>\n",
       "      <td>2999.512457</td>\n",
       "      <td>1.850372</td>\n",
       "      <td>824.142912</td>\n",
       "      <td>2695.017392</td>\n",
       "      <td>1663.945952</td>\n",
       "      <td>9438.361047</td>\n",
       "      <td>11794.136990</td>\n",
       "      <td>2162.094395</td>\n",
       "      <td>3659.968211</td>\n",
       "      <td>...</td>\n",
       "      <td>0.000000</td>\n",
       "      <td>12840.776210</td>\n",
       "      <td>4007.991453</td>\n",
       "      <td>0.000000</td>\n",
       "      <td>0.000000</td>\n",
       "      <td>2057.976458</td>\n",
       "      <td>3283.612188</td>\n",
       "      <td>1100.849505</td>\n",
       "      <td>1008.956092</td>\n",
       "      <td>3_FC0_UNIMAN</td>\n",
       "    </tr>\n",
       "    <tr>\n",
       "      <th>1_FC100_UNIMAN</th>\n",
       "      <td>6.934908</td>\n",
       "      <td>3005.875169</td>\n",
       "      <td>0.195782</td>\n",
       "      <td>597.389097</td>\n",
       "      <td>2826.013498</td>\n",
       "      <td>1036.265158</td>\n",
       "      <td>7802.223217</td>\n",
       "      <td>8535.870247</td>\n",
       "      <td>2219.713738</td>\n",
       "      <td>3423.353485</td>\n",
       "      <td>...</td>\n",
       "      <td>0.000000</td>\n",
       "      <td>10518.028920</td>\n",
       "      <td>3798.314783</td>\n",
       "      <td>0.000000</td>\n",
       "      <td>40.164241</td>\n",
       "      <td>1013.182087</td>\n",
       "      <td>1868.223448</td>\n",
       "      <td>656.675534</td>\n",
       "      <td>1874.429476</td>\n",
       "      <td>1_FC100_UNIMAN</td>\n",
       "    </tr>\n",
       "    <tr>\n",
       "      <th>2_FC100_UNIMAN</th>\n",
       "      <td>45.906352</td>\n",
       "      <td>2795.020062</td>\n",
       "      <td>0.128790</td>\n",
       "      <td>565.994562</td>\n",
       "      <td>2642.527782</td>\n",
       "      <td>966.392636</td>\n",
       "      <td>8231.534193</td>\n",
       "      <td>9481.924830</td>\n",
       "      <td>1972.722544</td>\n",
       "      <td>3021.289539</td>\n",
       "      <td>...</td>\n",
       "      <td>0.000000</td>\n",
       "      <td>12331.798240</td>\n",
       "      <td>3343.531266</td>\n",
       "      <td>19.658531</td>\n",
       "      <td>90.792069</td>\n",
       "      <td>1753.996543</td>\n",
       "      <td>1108.381242</td>\n",
       "      <td>263.825213</td>\n",
       "      <td>5130.321783</td>\n",
       "      <td>2_FC100_UNIMAN</td>\n",
       "    </tr>\n",
       "    <tr>\n",
       "      <th>3_FC100_UNIMAN</th>\n",
       "      <td>16.630828</td>\n",
       "      <td>2821.660669</td>\n",
       "      <td>0.368443</td>\n",
       "      <td>603.498396</td>\n",
       "      <td>2649.418069</td>\n",
       "      <td>911.539294</td>\n",
       "      <td>7207.384058</td>\n",
       "      <td>9357.748538</td>\n",
       "      <td>1666.463579</td>\n",
       "      <td>3039.437635</td>\n",
       "      <td>...</td>\n",
       "      <td>5.020573</td>\n",
       "      <td>11514.501490</td>\n",
       "      <td>3475.156301</td>\n",
       "      <td>8.968705</td>\n",
       "      <td>80.584932</td>\n",
       "      <td>1794.266837</td>\n",
       "      <td>1483.254327</td>\n",
       "      <td>366.702038</td>\n",
       "      <td>4683.595291</td>\n",
       "      <td>3_FC100_UNIMAN</td>\n",
       "    </tr>\n",
       "    <tr>\n",
       "      <th>1_FC500_UNIMAN</th>\n",
       "      <td>34.062256</td>\n",
       "      <td>2347.035699</td>\n",
       "      <td>5.536934</td>\n",
       "      <td>681.696694</td>\n",
       "      <td>2324.440121</td>\n",
       "      <td>904.307932</td>\n",
       "      <td>5982.145641</td>\n",
       "      <td>9142.506278</td>\n",
       "      <td>1438.015395</td>\n",
       "      <td>2814.279645</td>\n",
       "      <td>...</td>\n",
       "      <td>50.786320</td>\n",
       "      <td>5986.918454</td>\n",
       "      <td>2227.797289</td>\n",
       "      <td>26.742719</td>\n",
       "      <td>6.401598</td>\n",
       "      <td>1300.057608</td>\n",
       "      <td>1194.204777</td>\n",
       "      <td>434.087824</td>\n",
       "      <td>4424.153049</td>\n",
       "      <td>1_FC500_UNIMAN</td>\n",
       "    </tr>\n",
       "    <tr>\n",
       "      <th>2_FC500_UNIMAN</th>\n",
       "      <td>21.822042</td>\n",
       "      <td>2334.977402</td>\n",
       "      <td>2.783264</td>\n",
       "      <td>658.935351</td>\n",
       "      <td>2307.042407</td>\n",
       "      <td>823.108470</td>\n",
       "      <td>6645.799110</td>\n",
       "      <td>8890.837549</td>\n",
       "      <td>1251.276573</td>\n",
       "      <td>2882.666074</td>\n",
       "      <td>...</td>\n",
       "      <td>31.827833</td>\n",
       "      <td>4912.573754</td>\n",
       "      <td>1400.202232</td>\n",
       "      <td>12.389011</td>\n",
       "      <td>10.217394</td>\n",
       "      <td>1319.553976</td>\n",
       "      <td>1221.458516</td>\n",
       "      <td>534.910767</td>\n",
       "      <td>3339.198646</td>\n",
       "      <td>2_FC500_UNIMAN</td>\n",
       "    </tr>\n",
       "    <tr>\n",
       "      <th>3_FC500_UNIMAN</th>\n",
       "      <td>9.196085</td>\n",
       "      <td>2740.521080</td>\n",
       "      <td>4.803573</td>\n",
       "      <td>712.519704</td>\n",
       "      <td>2446.558760</td>\n",
       "      <td>826.493416</td>\n",
       "      <td>6233.009015</td>\n",
       "      <td>8620.934413</td>\n",
       "      <td>1537.268474</td>\n",
       "      <td>3152.588740</td>\n",
       "      <td>...</td>\n",
       "      <td>0.000000</td>\n",
       "      <td>4950.512730</td>\n",
       "      <td>2444.526916</td>\n",
       "      <td>7.338352</td>\n",
       "      <td>4.239393</td>\n",
       "      <td>1194.265009</td>\n",
       "      <td>1213.826232</td>\n",
       "      <td>430.708927</td>\n",
       "      <td>542.741078</td>\n",
       "      <td>3_FC500_UNIMAN</td>\n",
       "    </tr>\n",
       "  </tbody>\n",
       "</table>\n",
       "<p>9 rows × 2629 columns</p>\n",
       "</div>"
      ],
      "text/plain": [
       "Accession       1B18_HUMAN   2AAA_HUMAN  2AAB_HUMAN  \\\n",
       "1_FC0_UNIMAN    135.786390  2717.152441    0.957894   \n",
       "2_FC0_UNIMAN     10.772416  3136.231976    2.629231   \n",
       "3_FC0_UNIMAN     36.970907  2999.512457    1.850372   \n",
       "1_FC100_UNIMAN    6.934908  3005.875169    0.195782   \n",
       "2_FC100_UNIMAN   45.906352  2795.020062    0.128790   \n",
       "3_FC100_UNIMAN   16.630828  2821.660669    0.368443   \n",
       "1_FC500_UNIMAN   34.062256  2347.035699    5.536934   \n",
       "2_FC500_UNIMAN   21.822042  2334.977402    2.783264   \n",
       "3_FC500_UNIMAN    9.196085  2740.521080    4.803573   \n",
       "\n",
       "Accession       4EBP2_HUMAN;4EBP1_HUMAN;4EBP3_HUMAN   6PGD_HUMAN   6PGL_HUMAN  \\\n",
       "1_FC0_UNIMAN                             713.186543  2553.155806  1553.432810   \n",
       "2_FC0_UNIMAN                             868.618474  2474.713822  1392.897386   \n",
       "3_FC0_UNIMAN                             824.142912  2695.017392  1663.945952   \n",
       "1_FC100_UNIMAN                           597.389097  2826.013498  1036.265158   \n",
       "2_FC100_UNIMAN                           565.994562  2642.527782   966.392636   \n",
       "3_FC100_UNIMAN                           603.498396  2649.418069   911.539294   \n",
       "1_FC500_UNIMAN                           681.696694  2324.440121   904.307932   \n",
       "2_FC500_UNIMAN                           658.935351  2307.042407   823.108470   \n",
       "3_FC500_UNIMAN                           712.519704  2446.558760   826.493416   \n",
       "\n",
       "Accession        1433B_HUMAN   1433E_HUMAN  1433F_HUMAN  1433G_HUMAN  ...  \\\n",
       "1_FC0_UNIMAN     9404.851776  12134.891290  2083.855075  3221.205278  ...   \n",
       "2_FC0_UNIMAN    10361.927580  10947.187770  1987.484437  3506.647732  ...   \n",
       "3_FC0_UNIMAN     9438.361047  11794.136990  2162.094395  3659.968211  ...   \n",
       "1_FC100_UNIMAN   7802.223217   8535.870247  2219.713738  3423.353485  ...   \n",
       "2_FC100_UNIMAN   8231.534193   9481.924830  1972.722544  3021.289539  ...   \n",
       "3_FC100_UNIMAN   7207.384058   9357.748538  1666.463579  3039.437635  ...   \n",
       "1_FC500_UNIMAN   5982.145641   9142.506278  1438.015395  2814.279645  ...   \n",
       "2_FC500_UNIMAN   6645.799110   8890.837549  1251.276573  2882.666074  ...   \n",
       "3_FC500_UNIMAN   6233.009015   8620.934413  1537.268474  3152.588740  ...   \n",
       "\n",
       "Accession       SMC2_HUMAN    PPIH_HUMAN  SF3B1_HUMAN  KS6B2_HUMAN  \\\n",
       "1_FC0_UNIMAN      0.000000  15069.648050  4826.286732     0.000000   \n",
       "2_FC0_UNIMAN      0.000000  11550.864400  3855.626138     0.000000   \n",
       "3_FC0_UNIMAN      0.000000  12840.776210  4007.991453     0.000000   \n",
       "1_FC100_UNIMAN    0.000000  10518.028920  3798.314783     0.000000   \n",
       "2_FC100_UNIMAN    0.000000  12331.798240  3343.531266    19.658531   \n",
       "3_FC100_UNIMAN    5.020573  11514.501490  3475.156301     8.968705   \n",
       "1_FC500_UNIMAN   50.786320   5986.918454  2227.797289    26.742719   \n",
       "2_FC500_UNIMAN   31.827833   4912.573754  1400.202232    12.389011   \n",
       "3_FC500_UNIMAN    0.000000   4950.512730  2444.526916     7.338352   \n",
       "\n",
       "Accession       BRK1_HUMAN  PDZD2_HUMAN  SQSTM_HUMAN  VP26A_HUMAN  \\\n",
       "1_FC0_UNIMAN     98.556887  1936.422674  2609.835234   735.099695   \n",
       "2_FC0_UNIMAN      0.000000  1879.789849  2786.084578   659.152613   \n",
       "3_FC0_UNIMAN      0.000000  2057.976458  3283.612188  1100.849505   \n",
       "1_FC100_UNIMAN   40.164241  1013.182087  1868.223448   656.675534   \n",
       "2_FC100_UNIMAN   90.792069  1753.996543  1108.381242   263.825213   \n",
       "3_FC100_UNIMAN   80.584932  1794.266837  1483.254327   366.702038   \n",
       "1_FC500_UNIMAN    6.401598  1300.057608  1194.204777   434.087824   \n",
       "2_FC500_UNIMAN   10.217394  1319.553976  1221.458516   534.910767   \n",
       "3_FC500_UNIMAN    4.239393  1194.265009  1213.826232   430.708927   \n",
       "\n",
       "Accession        CC149_HUMAN           label  \n",
       "1_FC0_UNIMAN    11677.882160    1_FC0_UNIMAN  \n",
       "2_FC0_UNIMAN      726.751695    2_FC0_UNIMAN  \n",
       "3_FC0_UNIMAN     1008.956092    3_FC0_UNIMAN  \n",
       "1_FC100_UNIMAN   1874.429476  1_FC100_UNIMAN  \n",
       "2_FC100_UNIMAN   5130.321783  2_FC100_UNIMAN  \n",
       "3_FC100_UNIMAN   4683.595291  3_FC100_UNIMAN  \n",
       "1_FC500_UNIMAN   4424.153049  1_FC500_UNIMAN  \n",
       "2_FC500_UNIMAN   3339.198646  2_FC500_UNIMAN  \n",
       "3_FC500_UNIMAN    542.741078  3_FC500_UNIMAN  \n",
       "\n",
       "[9 rows x 2629 columns]"
      ]
     },
     "execution_count": 4,
     "metadata": {},
     "output_type": "execute_result"
    }
   ],
   "source": [
    "#PCA and scree plots\n",
    "#Loading and manipulating data to get it ready for PCA. \n",
    "#FC0/100/500 correspond to Tet 0/100/500ng/mL and zero, intermediate or high Myc expression. \n",
    "data = pd.read_csv (r'/Users/katemeeson/Desktop/06052021.csv', index_col=[0])\n",
    "data = data.transpose()\n",
    "labels = data.index # The labels give the sample-type for each row \n",
    "N, D = data.shape\n",
    "data_unlabelled = data.copy() # this dataframe doesn't have labels in an extra column and is used in the PCA function\n",
    "data['label'] = labels # this one has row labels as an extra column, which is useful for plotting\n",
    "print('Samples: %s, Proteins: %s'%(N, D))\n",
    "data"
   ]
  },
  {
   "cell_type": "code",
   "execution_count": 5,
   "id": "junior-granny",
   "metadata": {},
   "outputs": [],
   "source": [
    "#Calculating PCA scores using the 'visualisation.py' algorithm\n",
    "W, scores, fracs = visualisation.do_pca(data_unlabelled, n_components=9)\n",
    "scores = scores/abs(scores).max().max()\n",
    "scores['label'] = labels"
   ]
  },
  {
   "cell_type": "code",
   "execution_count": 10,
   "id": "buried-western",
   "metadata": {},
   "outputs": [
    {
     "data": {
      "application/vnd.plotly.v1+json": {
       "config": {
        "plotlyServerURL": "https://plot.ly"
       },
       "data": [
        {
         "hovertemplate": "label=1_FC0_UNIMAN<br>PC1=%{x}<br>PC2=%{y}<extra></extra>",
         "legendgroup": "1_FC0_UNIMAN",
         "marker": {
          "color": "purple",
          "line": {
           "width": 1
          },
          "size": 8,
          "symbol": "circle"
         },
         "mode": "markers",
         "name": "1_FC0_UNIMAN",
         "orientation": "v",
         "showlegend": true,
         "type": "scatter",
         "x": [
          -0.7437422839465898
         ],
         "xaxis": "x",
         "y": [
          -0.4580136453176249
         ],
         "yaxis": "y"
        },
        {
         "hovertemplate": "label=2_FC0_UNIMAN<br>PC1=%{x}<br>PC2=%{y}<extra></extra>",
         "legendgroup": "2_FC0_UNIMAN",
         "marker": {
          "color": "purple",
          "line": {
           "width": 1
          },
          "size": 8,
          "symbol": "circle"
         },
         "mode": "markers",
         "name": "2_FC0_UNIMAN",
         "orientation": "v",
         "showlegend": true,
         "type": "scatter",
         "x": [
          -0.9301282605125931
         ],
         "xaxis": "x",
         "y": [
          -0.34326339033976394
         ],
         "yaxis": "y"
        },
        {
         "hovertemplate": "label=3_FC0_UNIMAN<br>PC1=%{x}<br>PC2=%{y}<extra></extra>",
         "legendgroup": "3_FC0_UNIMAN",
         "marker": {
          "color": "purple",
          "line": {
           "width": 1
          },
          "size": 8,
          "symbol": "circle"
         },
         "mode": "markers",
         "name": "3_FC0_UNIMAN",
         "orientation": "v",
         "showlegend": true,
         "type": "scatter",
         "x": [
          -0.9793292591845305
         ],
         "xaxis": "x",
         "y": [
          -0.40892106533014316
         ],
         "yaxis": "y"
        },
        {
         "hovertemplate": "label=1_FC100_UNIMAN<br>PC1=%{x}<br>PC2=%{y}<extra></extra>",
         "legendgroup": "1_FC100_UNIMAN",
         "marker": {
          "color": "red",
          "line": {
           "width": 1
          },
          "size": 8,
          "symbol": "circle"
         },
         "mode": "markers",
         "name": "1_FC100_UNIMAN",
         "orientation": "v",
         "showlegend": true,
         "type": "scatter",
         "x": [
          -0.2050193881466165
         ],
         "xaxis": "x",
         "y": [
          0.9346126082867717
         ],
         "yaxis": "y"
        },
        {
         "hovertemplate": "label=2_FC100_UNIMAN<br>PC1=%{x}<br>PC2=%{y}<extra></extra>",
         "legendgroup": "2_FC100_UNIMAN",
         "marker": {
          "color": "red",
          "line": {
           "width": 1
          },
          "size": 8,
          "symbol": "circle"
         },
         "mode": "markers",
         "name": "2_FC100_UNIMAN",
         "orientation": "v",
         "showlegend": true,
         "type": "scatter",
         "x": [
          0.05887858150919112
         ],
         "xaxis": "x",
         "y": [
          0.5797421245059886
         ],
         "yaxis": "y"
        },
        {
         "hovertemplate": "label=3_FC100_UNIMAN<br>PC1=%{x}<br>PC2=%{y}<extra></extra>",
         "legendgroup": "3_FC100_UNIMAN",
         "marker": {
          "color": "red",
          "line": {
           "width": 1
          },
          "size": 8,
          "symbol": "circle"
         },
         "mode": "markers",
         "name": "3_FC100_UNIMAN",
         "orientation": "v",
         "showlegend": true,
         "type": "scatter",
         "x": [
          0.002455495283818753
         ],
         "xaxis": "x",
         "y": [
          0.6409274098600244
         ],
         "yaxis": "y"
        },
        {
         "hovertemplate": "label=1_FC500_UNIMAN<br>PC1=%{x}<br>PC2=%{y}<extra></extra>",
         "legendgroup": "1_FC500_UNIMAN",
         "marker": {
          "color": "turquoise",
          "line": {
           "width": 1
          },
          "size": 8,
          "symbol": "circle"
         },
         "mode": "markers",
         "name": "1_FC500_UNIMAN",
         "orientation": "v",
         "showlegend": true,
         "type": "scatter",
         "x": [
          1
         ],
         "xaxis": "x",
         "y": [
          -0.3833352231202176
         ],
         "yaxis": "y"
        },
        {
         "hovertemplate": "label=2_FC500_UNIMAN<br>PC1=%{x}<br>PC2=%{y}<extra></extra>",
         "legendgroup": "2_FC500_UNIMAN",
         "marker": {
          "color": "turquoise",
          "line": {
           "width": 1
          },
          "size": 8,
          "symbol": "circle"
         },
         "mode": "markers",
         "name": "2_FC500_UNIMAN",
         "orientation": "v",
         "showlegend": true,
         "type": "scatter",
         "x": [
          0.975796289495838
         ],
         "xaxis": "x",
         "y": [
          -0.3872149379390194
         ],
         "yaxis": "y"
        },
        {
         "hovertemplate": "label=3_FC500_UNIMAN<br>PC1=%{x}<br>PC2=%{y}<extra></extra>",
         "legendgroup": "3_FC500_UNIMAN",
         "marker": {
          "color": "turquoise",
          "line": {
           "width": 1
          },
          "size": 8,
          "symbol": "circle"
         },
         "mode": "markers",
         "name": "3_FC500_UNIMAN",
         "orientation": "v",
         "showlegend": true,
         "type": "scatter",
         "x": [
          0.8210888255014838
         ],
         "xaxis": "x",
         "y": [
          -0.174533880606015
         ],
         "yaxis": "y"
        }
       ],
       "layout": {
        "legend": {
         "title": {
          "text": "label"
         },
         "tracegroupgap": 0
        },
        "template": {
         "data": {
          "bar": [
           {
            "error_x": {
             "color": "#2a3f5f"
            },
            "error_y": {
             "color": "#2a3f5f"
            },
            "marker": {
             "line": {
              "color": "#E5ECF6",
              "width": 0.5
             }
            },
            "type": "bar"
           }
          ],
          "barpolar": [
           {
            "marker": {
             "line": {
              "color": "#E5ECF6",
              "width": 0.5
             }
            },
            "type": "barpolar"
           }
          ],
          "carpet": [
           {
            "aaxis": {
             "endlinecolor": "#2a3f5f",
             "gridcolor": "white",
             "linecolor": "white",
             "minorgridcolor": "white",
             "startlinecolor": "#2a3f5f"
            },
            "baxis": {
             "endlinecolor": "#2a3f5f",
             "gridcolor": "white",
             "linecolor": "white",
             "minorgridcolor": "white",
             "startlinecolor": "#2a3f5f"
            },
            "type": "carpet"
           }
          ],
          "choropleth": [
           {
            "colorbar": {
             "outlinewidth": 0,
             "ticks": ""
            },
            "type": "choropleth"
           }
          ],
          "contour": [
           {
            "colorbar": {
             "outlinewidth": 0,
             "ticks": ""
            },
            "colorscale": [
             [
              0,
              "#0d0887"
             ],
             [
              0.1111111111111111,
              "#46039f"
             ],
             [
              0.2222222222222222,
              "#7201a8"
             ],
             [
              0.3333333333333333,
              "#9c179e"
             ],
             [
              0.4444444444444444,
              "#bd3786"
             ],
             [
              0.5555555555555556,
              "#d8576b"
             ],
             [
              0.6666666666666666,
              "#ed7953"
             ],
             [
              0.7777777777777778,
              "#fb9f3a"
             ],
             [
              0.8888888888888888,
              "#fdca26"
             ],
             [
              1,
              "#f0f921"
             ]
            ],
            "type": "contour"
           }
          ],
          "contourcarpet": [
           {
            "colorbar": {
             "outlinewidth": 0,
             "ticks": ""
            },
            "type": "contourcarpet"
           }
          ],
          "heatmap": [
           {
            "colorbar": {
             "outlinewidth": 0,
             "ticks": ""
            },
            "colorscale": [
             [
              0,
              "#0d0887"
             ],
             [
              0.1111111111111111,
              "#46039f"
             ],
             [
              0.2222222222222222,
              "#7201a8"
             ],
             [
              0.3333333333333333,
              "#9c179e"
             ],
             [
              0.4444444444444444,
              "#bd3786"
             ],
             [
              0.5555555555555556,
              "#d8576b"
             ],
             [
              0.6666666666666666,
              "#ed7953"
             ],
             [
              0.7777777777777778,
              "#fb9f3a"
             ],
             [
              0.8888888888888888,
              "#fdca26"
             ],
             [
              1,
              "#f0f921"
             ]
            ],
            "type": "heatmap"
           }
          ],
          "heatmapgl": [
           {
            "colorbar": {
             "outlinewidth": 0,
             "ticks": ""
            },
            "colorscale": [
             [
              0,
              "#0d0887"
             ],
             [
              0.1111111111111111,
              "#46039f"
             ],
             [
              0.2222222222222222,
              "#7201a8"
             ],
             [
              0.3333333333333333,
              "#9c179e"
             ],
             [
              0.4444444444444444,
              "#bd3786"
             ],
             [
              0.5555555555555556,
              "#d8576b"
             ],
             [
              0.6666666666666666,
              "#ed7953"
             ],
             [
              0.7777777777777778,
              "#fb9f3a"
             ],
             [
              0.8888888888888888,
              "#fdca26"
             ],
             [
              1,
              "#f0f921"
             ]
            ],
            "type": "heatmapgl"
           }
          ],
          "histogram": [
           {
            "marker": {
             "colorbar": {
              "outlinewidth": 0,
              "ticks": ""
             }
            },
            "type": "histogram"
           }
          ],
          "histogram2d": [
           {
            "colorbar": {
             "outlinewidth": 0,
             "ticks": ""
            },
            "colorscale": [
             [
              0,
              "#0d0887"
             ],
             [
              0.1111111111111111,
              "#46039f"
             ],
             [
              0.2222222222222222,
              "#7201a8"
             ],
             [
              0.3333333333333333,
              "#9c179e"
             ],
             [
              0.4444444444444444,
              "#bd3786"
             ],
             [
              0.5555555555555556,
              "#d8576b"
             ],
             [
              0.6666666666666666,
              "#ed7953"
             ],
             [
              0.7777777777777778,
              "#fb9f3a"
             ],
             [
              0.8888888888888888,
              "#fdca26"
             ],
             [
              1,
              "#f0f921"
             ]
            ],
            "type": "histogram2d"
           }
          ],
          "histogram2dcontour": [
           {
            "colorbar": {
             "outlinewidth": 0,
             "ticks": ""
            },
            "colorscale": [
             [
              0,
              "#0d0887"
             ],
             [
              0.1111111111111111,
              "#46039f"
             ],
             [
              0.2222222222222222,
              "#7201a8"
             ],
             [
              0.3333333333333333,
              "#9c179e"
             ],
             [
              0.4444444444444444,
              "#bd3786"
             ],
             [
              0.5555555555555556,
              "#d8576b"
             ],
             [
              0.6666666666666666,
              "#ed7953"
             ],
             [
              0.7777777777777778,
              "#fb9f3a"
             ],
             [
              0.8888888888888888,
              "#fdca26"
             ],
             [
              1,
              "#f0f921"
             ]
            ],
            "type": "histogram2dcontour"
           }
          ],
          "mesh3d": [
           {
            "colorbar": {
             "outlinewidth": 0,
             "ticks": ""
            },
            "type": "mesh3d"
           }
          ],
          "parcoords": [
           {
            "line": {
             "colorbar": {
              "outlinewidth": 0,
              "ticks": ""
             }
            },
            "type": "parcoords"
           }
          ],
          "pie": [
           {
            "automargin": true,
            "type": "pie"
           }
          ],
          "scatter": [
           {
            "marker": {
             "colorbar": {
              "outlinewidth": 0,
              "ticks": ""
             }
            },
            "type": "scatter"
           }
          ],
          "scatter3d": [
           {
            "line": {
             "colorbar": {
              "outlinewidth": 0,
              "ticks": ""
             }
            },
            "marker": {
             "colorbar": {
              "outlinewidth": 0,
              "ticks": ""
             }
            },
            "type": "scatter3d"
           }
          ],
          "scattercarpet": [
           {
            "marker": {
             "colorbar": {
              "outlinewidth": 0,
              "ticks": ""
             }
            },
            "type": "scattercarpet"
           }
          ],
          "scattergeo": [
           {
            "marker": {
             "colorbar": {
              "outlinewidth": 0,
              "ticks": ""
             }
            },
            "type": "scattergeo"
           }
          ],
          "scattergl": [
           {
            "marker": {
             "colorbar": {
              "outlinewidth": 0,
              "ticks": ""
             }
            },
            "type": "scattergl"
           }
          ],
          "scattermapbox": [
           {
            "marker": {
             "colorbar": {
              "outlinewidth": 0,
              "ticks": ""
             }
            },
            "type": "scattermapbox"
           }
          ],
          "scatterpolar": [
           {
            "marker": {
             "colorbar": {
              "outlinewidth": 0,
              "ticks": ""
             }
            },
            "type": "scatterpolar"
           }
          ],
          "scatterpolargl": [
           {
            "marker": {
             "colorbar": {
              "outlinewidth": 0,
              "ticks": ""
             }
            },
            "type": "scatterpolargl"
           }
          ],
          "scatterternary": [
           {
            "marker": {
             "colorbar": {
              "outlinewidth": 0,
              "ticks": ""
             }
            },
            "type": "scatterternary"
           }
          ],
          "surface": [
           {
            "colorbar": {
             "outlinewidth": 0,
             "ticks": ""
            },
            "colorscale": [
             [
              0,
              "#0d0887"
             ],
             [
              0.1111111111111111,
              "#46039f"
             ],
             [
              0.2222222222222222,
              "#7201a8"
             ],
             [
              0.3333333333333333,
              "#9c179e"
             ],
             [
              0.4444444444444444,
              "#bd3786"
             ],
             [
              0.5555555555555556,
              "#d8576b"
             ],
             [
              0.6666666666666666,
              "#ed7953"
             ],
             [
              0.7777777777777778,
              "#fb9f3a"
             ],
             [
              0.8888888888888888,
              "#fdca26"
             ],
             [
              1,
              "#f0f921"
             ]
            ],
            "type": "surface"
           }
          ],
          "table": [
           {
            "cells": {
             "fill": {
              "color": "#EBF0F8"
             },
             "line": {
              "color": "white"
             }
            },
            "header": {
             "fill": {
              "color": "#C8D4E3"
             },
             "line": {
              "color": "white"
             }
            },
            "type": "table"
           }
          ]
         },
         "layout": {
          "annotationdefaults": {
           "arrowcolor": "#2a3f5f",
           "arrowhead": 0,
           "arrowwidth": 1
          },
          "autotypenumbers": "strict",
          "coloraxis": {
           "colorbar": {
            "outlinewidth": 0,
            "ticks": ""
           }
          },
          "colorscale": {
           "diverging": [
            [
             0,
             "#8e0152"
            ],
            [
             0.1,
             "#c51b7d"
            ],
            [
             0.2,
             "#de77ae"
            ],
            [
             0.3,
             "#f1b6da"
            ],
            [
             0.4,
             "#fde0ef"
            ],
            [
             0.5,
             "#f7f7f7"
            ],
            [
             0.6,
             "#e6f5d0"
            ],
            [
             0.7,
             "#b8e186"
            ],
            [
             0.8,
             "#7fbc41"
            ],
            [
             0.9,
             "#4d9221"
            ],
            [
             1,
             "#276419"
            ]
           ],
           "sequential": [
            [
             0,
             "#0d0887"
            ],
            [
             0.1111111111111111,
             "#46039f"
            ],
            [
             0.2222222222222222,
             "#7201a8"
            ],
            [
             0.3333333333333333,
             "#9c179e"
            ],
            [
             0.4444444444444444,
             "#bd3786"
            ],
            [
             0.5555555555555556,
             "#d8576b"
            ],
            [
             0.6666666666666666,
             "#ed7953"
            ],
            [
             0.7777777777777778,
             "#fb9f3a"
            ],
            [
             0.8888888888888888,
             "#fdca26"
            ],
            [
             1,
             "#f0f921"
            ]
           ],
           "sequentialminus": [
            [
             0,
             "#0d0887"
            ],
            [
             0.1111111111111111,
             "#46039f"
            ],
            [
             0.2222222222222222,
             "#7201a8"
            ],
            [
             0.3333333333333333,
             "#9c179e"
            ],
            [
             0.4444444444444444,
             "#bd3786"
            ],
            [
             0.5555555555555556,
             "#d8576b"
            ],
            [
             0.6666666666666666,
             "#ed7953"
            ],
            [
             0.7777777777777778,
             "#fb9f3a"
            ],
            [
             0.8888888888888888,
             "#fdca26"
            ],
            [
             1,
             "#f0f921"
            ]
           ]
          },
          "colorway": [
           "#636efa",
           "#EF553B",
           "#00cc96",
           "#ab63fa",
           "#FFA15A",
           "#19d3f3",
           "#FF6692",
           "#B6E880",
           "#FF97FF",
           "#FECB52"
          ],
          "font": {
           "color": "#2a3f5f"
          },
          "geo": {
           "bgcolor": "white",
           "lakecolor": "white",
           "landcolor": "#E5ECF6",
           "showlakes": true,
           "showland": true,
           "subunitcolor": "white"
          },
          "hoverlabel": {
           "align": "left"
          },
          "hovermode": "closest",
          "mapbox": {
           "style": "light"
          },
          "paper_bgcolor": "white",
          "plot_bgcolor": "#E5ECF6",
          "polar": {
           "angularaxis": {
            "gridcolor": "white",
            "linecolor": "white",
            "ticks": ""
           },
           "bgcolor": "#E5ECF6",
           "radialaxis": {
            "gridcolor": "white",
            "linecolor": "white",
            "ticks": ""
           }
          },
          "scene": {
           "xaxis": {
            "backgroundcolor": "#E5ECF6",
            "gridcolor": "white",
            "gridwidth": 2,
            "linecolor": "white",
            "showbackground": true,
            "ticks": "",
            "zerolinecolor": "white"
           },
           "yaxis": {
            "backgroundcolor": "#E5ECF6",
            "gridcolor": "white",
            "gridwidth": 2,
            "linecolor": "white",
            "showbackground": true,
            "ticks": "",
            "zerolinecolor": "white"
           },
           "zaxis": {
            "backgroundcolor": "#E5ECF6",
            "gridcolor": "white",
            "gridwidth": 2,
            "linecolor": "white",
            "showbackground": true,
            "ticks": "",
            "zerolinecolor": "white"
           }
          },
          "shapedefaults": {
           "line": {
            "color": "#2a3f5f"
           }
          },
          "ternary": {
           "aaxis": {
            "gridcolor": "white",
            "linecolor": "white",
            "ticks": ""
           },
           "baxis": {
            "gridcolor": "white",
            "linecolor": "white",
            "ticks": ""
           },
           "bgcolor": "#E5ECF6",
           "caxis": {
            "gridcolor": "white",
            "linecolor": "white",
            "ticks": ""
           }
          },
          "title": {
           "x": 0.05
          },
          "xaxis": {
           "automargin": true,
           "gridcolor": "white",
           "linecolor": "white",
           "ticks": "",
           "title": {
            "standoff": 15
           },
           "zerolinecolor": "white",
           "zerolinewidth": 2
          },
          "yaxis": {
           "automargin": true,
           "gridcolor": "white",
           "linecolor": "white",
           "ticks": "",
           "title": {
            "standoff": 15
           },
           "zerolinecolor": "white",
           "zerolinewidth": 2
          }
         }
        },
        "title": {
         "text": "2D Clustering of FC0, 100 and 500"
        },
        "xaxis": {
         "anchor": "y",
         "domain": [
          0,
          1
         ],
         "title": {
          "text": "PC1"
         }
        },
        "yaxis": {
         "anchor": "x",
         "domain": [
          0,
          1
         ],
         "title": {
          "text": "PC2"
         }
        }
       }
      },
      "text/html": [
       "<div>                            <div id=\"5f31af66-c76a-473d-99b2-359da617d156\" class=\"plotly-graph-div\" style=\"height:525px; width:100%;\"></div>            <script type=\"text/javascript\">                require([\"plotly\"], function(Plotly) {                    window.PLOTLYENV=window.PLOTLYENV || {};                                    if (document.getElementById(\"5f31af66-c76a-473d-99b2-359da617d156\")) {                    Plotly.newPlot(                        \"5f31af66-c76a-473d-99b2-359da617d156\",                        [{\"hovertemplate\": \"label=1_FC0_UNIMAN<br>PC1=%{x}<br>PC2=%{y}<extra></extra>\", \"legendgroup\": \"1_FC0_UNIMAN\", \"marker\": {\"color\": \"purple\", \"line\": {\"width\": 1}, \"size\": 8, \"symbol\": \"circle\"}, \"mode\": \"markers\", \"name\": \"1_FC0_UNIMAN\", \"orientation\": \"v\", \"showlegend\": true, \"type\": \"scatter\", \"x\": [-0.7437422839465898], \"xaxis\": \"x\", \"y\": [-0.4580136453176249], \"yaxis\": \"y\"}, {\"hovertemplate\": \"label=2_FC0_UNIMAN<br>PC1=%{x}<br>PC2=%{y}<extra></extra>\", \"legendgroup\": \"2_FC0_UNIMAN\", \"marker\": {\"color\": \"purple\", \"line\": {\"width\": 1}, \"size\": 8, \"symbol\": \"circle\"}, \"mode\": \"markers\", \"name\": \"2_FC0_UNIMAN\", \"orientation\": \"v\", \"showlegend\": true, \"type\": \"scatter\", \"x\": [-0.9301282605125931], \"xaxis\": \"x\", \"y\": [-0.34326339033976394], \"yaxis\": \"y\"}, {\"hovertemplate\": \"label=3_FC0_UNIMAN<br>PC1=%{x}<br>PC2=%{y}<extra></extra>\", \"legendgroup\": \"3_FC0_UNIMAN\", \"marker\": {\"color\": \"purple\", \"line\": {\"width\": 1}, \"size\": 8, \"symbol\": \"circle\"}, \"mode\": \"markers\", \"name\": \"3_FC0_UNIMAN\", \"orientation\": \"v\", \"showlegend\": true, \"type\": \"scatter\", \"x\": [-0.9793292591845305], \"xaxis\": \"x\", \"y\": [-0.40892106533014316], \"yaxis\": \"y\"}, {\"hovertemplate\": \"label=1_FC100_UNIMAN<br>PC1=%{x}<br>PC2=%{y}<extra></extra>\", \"legendgroup\": \"1_FC100_UNIMAN\", \"marker\": {\"color\": \"red\", \"line\": {\"width\": 1}, \"size\": 8, \"symbol\": \"circle\"}, \"mode\": \"markers\", \"name\": \"1_FC100_UNIMAN\", \"orientation\": \"v\", \"showlegend\": true, \"type\": \"scatter\", \"x\": [-0.2050193881466165], \"xaxis\": \"x\", \"y\": [0.9346126082867717], \"yaxis\": \"y\"}, {\"hovertemplate\": \"label=2_FC100_UNIMAN<br>PC1=%{x}<br>PC2=%{y}<extra></extra>\", \"legendgroup\": \"2_FC100_UNIMAN\", \"marker\": {\"color\": \"red\", \"line\": {\"width\": 1}, \"size\": 8, \"symbol\": \"circle\"}, \"mode\": \"markers\", \"name\": \"2_FC100_UNIMAN\", \"orientation\": \"v\", \"showlegend\": true, \"type\": \"scatter\", \"x\": [0.05887858150919112], \"xaxis\": \"x\", \"y\": [0.5797421245059886], \"yaxis\": \"y\"}, {\"hovertemplate\": \"label=3_FC100_UNIMAN<br>PC1=%{x}<br>PC2=%{y}<extra></extra>\", \"legendgroup\": \"3_FC100_UNIMAN\", \"marker\": {\"color\": \"red\", \"line\": {\"width\": 1}, \"size\": 8, \"symbol\": \"circle\"}, \"mode\": \"markers\", \"name\": \"3_FC100_UNIMAN\", \"orientation\": \"v\", \"showlegend\": true, \"type\": \"scatter\", \"x\": [0.002455495283818753], \"xaxis\": \"x\", \"y\": [0.6409274098600244], \"yaxis\": \"y\"}, {\"hovertemplate\": \"label=1_FC500_UNIMAN<br>PC1=%{x}<br>PC2=%{y}<extra></extra>\", \"legendgroup\": \"1_FC500_UNIMAN\", \"marker\": {\"color\": \"turquoise\", \"line\": {\"width\": 1}, \"size\": 8, \"symbol\": \"circle\"}, \"mode\": \"markers\", \"name\": \"1_FC500_UNIMAN\", \"orientation\": \"v\", \"showlegend\": true, \"type\": \"scatter\", \"x\": [1.0], \"xaxis\": \"x\", \"y\": [-0.3833352231202176], \"yaxis\": \"y\"}, {\"hovertemplate\": \"label=2_FC500_UNIMAN<br>PC1=%{x}<br>PC2=%{y}<extra></extra>\", \"legendgroup\": \"2_FC500_UNIMAN\", \"marker\": {\"color\": \"turquoise\", \"line\": {\"width\": 1}, \"size\": 8, \"symbol\": \"circle\"}, \"mode\": \"markers\", \"name\": \"2_FC500_UNIMAN\", \"orientation\": \"v\", \"showlegend\": true, \"type\": \"scatter\", \"x\": [0.975796289495838], \"xaxis\": \"x\", \"y\": [-0.3872149379390194], \"yaxis\": \"y\"}, {\"hovertemplate\": \"label=3_FC500_UNIMAN<br>PC1=%{x}<br>PC2=%{y}<extra></extra>\", \"legendgroup\": \"3_FC500_UNIMAN\", \"marker\": {\"color\": \"turquoise\", \"line\": {\"width\": 1}, \"size\": 8, \"symbol\": \"circle\"}, \"mode\": \"markers\", \"name\": \"3_FC500_UNIMAN\", \"orientation\": \"v\", \"showlegend\": true, \"type\": \"scatter\", \"x\": [0.8210888255014838], \"xaxis\": \"x\", \"y\": [-0.174533880606015], \"yaxis\": \"y\"}],                        {\"legend\": {\"title\": {\"text\": \"label\"}, \"tracegroupgap\": 0}, \"template\": {\"data\": {\"bar\": [{\"error_x\": {\"color\": \"#2a3f5f\"}, \"error_y\": {\"color\": \"#2a3f5f\"}, \"marker\": {\"line\": {\"color\": \"#E5ECF6\", \"width\": 0.5}}, \"type\": \"bar\"}], \"barpolar\": [{\"marker\": {\"line\": {\"color\": \"#E5ECF6\", \"width\": 0.5}}, \"type\": \"barpolar\"}], \"carpet\": [{\"aaxis\": {\"endlinecolor\": \"#2a3f5f\", \"gridcolor\": \"white\", \"linecolor\": \"white\", \"minorgridcolor\": \"white\", \"startlinecolor\": \"#2a3f5f\"}, \"baxis\": {\"endlinecolor\": \"#2a3f5f\", \"gridcolor\": \"white\", \"linecolor\": \"white\", \"minorgridcolor\": \"white\", \"startlinecolor\": \"#2a3f5f\"}, \"type\": \"carpet\"}], \"choropleth\": [{\"colorbar\": {\"outlinewidth\": 0, \"ticks\": \"\"}, \"type\": \"choropleth\"}], \"contour\": [{\"colorbar\": {\"outlinewidth\": 0, \"ticks\": \"\"}, \"colorscale\": [[0.0, \"#0d0887\"], [0.1111111111111111, \"#46039f\"], [0.2222222222222222, \"#7201a8\"], [0.3333333333333333, \"#9c179e\"], [0.4444444444444444, \"#bd3786\"], [0.5555555555555556, \"#d8576b\"], [0.6666666666666666, \"#ed7953\"], [0.7777777777777778, \"#fb9f3a\"], [0.8888888888888888, \"#fdca26\"], [1.0, \"#f0f921\"]], \"type\": \"contour\"}], \"contourcarpet\": [{\"colorbar\": {\"outlinewidth\": 0, \"ticks\": \"\"}, \"type\": \"contourcarpet\"}], \"heatmap\": [{\"colorbar\": {\"outlinewidth\": 0, \"ticks\": \"\"}, \"colorscale\": [[0.0, \"#0d0887\"], [0.1111111111111111, \"#46039f\"], [0.2222222222222222, \"#7201a8\"], [0.3333333333333333, \"#9c179e\"], [0.4444444444444444, \"#bd3786\"], [0.5555555555555556, \"#d8576b\"], [0.6666666666666666, \"#ed7953\"], [0.7777777777777778, \"#fb9f3a\"], [0.8888888888888888, \"#fdca26\"], [1.0, \"#f0f921\"]], \"type\": \"heatmap\"}], \"heatmapgl\": [{\"colorbar\": {\"outlinewidth\": 0, \"ticks\": \"\"}, \"colorscale\": [[0.0, \"#0d0887\"], [0.1111111111111111, \"#46039f\"], [0.2222222222222222, \"#7201a8\"], [0.3333333333333333, \"#9c179e\"], [0.4444444444444444, \"#bd3786\"], [0.5555555555555556, \"#d8576b\"], [0.6666666666666666, \"#ed7953\"], [0.7777777777777778, \"#fb9f3a\"], [0.8888888888888888, \"#fdca26\"], [1.0, \"#f0f921\"]], \"type\": \"heatmapgl\"}], \"histogram\": [{\"marker\": {\"colorbar\": {\"outlinewidth\": 0, \"ticks\": \"\"}}, \"type\": \"histogram\"}], \"histogram2d\": [{\"colorbar\": {\"outlinewidth\": 0, \"ticks\": \"\"}, \"colorscale\": [[0.0, \"#0d0887\"], [0.1111111111111111, \"#46039f\"], [0.2222222222222222, \"#7201a8\"], [0.3333333333333333, \"#9c179e\"], [0.4444444444444444, \"#bd3786\"], [0.5555555555555556, \"#d8576b\"], [0.6666666666666666, \"#ed7953\"], [0.7777777777777778, \"#fb9f3a\"], [0.8888888888888888, \"#fdca26\"], [1.0, \"#f0f921\"]], \"type\": \"histogram2d\"}], \"histogram2dcontour\": [{\"colorbar\": {\"outlinewidth\": 0, \"ticks\": \"\"}, \"colorscale\": [[0.0, \"#0d0887\"], [0.1111111111111111, \"#46039f\"], [0.2222222222222222, \"#7201a8\"], [0.3333333333333333, \"#9c179e\"], [0.4444444444444444, \"#bd3786\"], [0.5555555555555556, \"#d8576b\"], [0.6666666666666666, \"#ed7953\"], [0.7777777777777778, \"#fb9f3a\"], [0.8888888888888888, \"#fdca26\"], [1.0, \"#f0f921\"]], \"type\": \"histogram2dcontour\"}], \"mesh3d\": [{\"colorbar\": {\"outlinewidth\": 0, \"ticks\": \"\"}, \"type\": \"mesh3d\"}], \"parcoords\": [{\"line\": {\"colorbar\": {\"outlinewidth\": 0, \"ticks\": \"\"}}, \"type\": \"parcoords\"}], \"pie\": [{\"automargin\": true, \"type\": \"pie\"}], \"scatter\": [{\"marker\": {\"colorbar\": {\"outlinewidth\": 0, \"ticks\": \"\"}}, \"type\": \"scatter\"}], \"scatter3d\": [{\"line\": {\"colorbar\": {\"outlinewidth\": 0, \"ticks\": \"\"}}, \"marker\": {\"colorbar\": {\"outlinewidth\": 0, \"ticks\": \"\"}}, \"type\": \"scatter3d\"}], \"scattercarpet\": [{\"marker\": {\"colorbar\": {\"outlinewidth\": 0, \"ticks\": \"\"}}, \"type\": \"scattercarpet\"}], \"scattergeo\": [{\"marker\": {\"colorbar\": {\"outlinewidth\": 0, \"ticks\": \"\"}}, \"type\": \"scattergeo\"}], \"scattergl\": [{\"marker\": {\"colorbar\": {\"outlinewidth\": 0, \"ticks\": \"\"}}, \"type\": \"scattergl\"}], \"scattermapbox\": [{\"marker\": {\"colorbar\": {\"outlinewidth\": 0, \"ticks\": \"\"}}, \"type\": \"scattermapbox\"}], \"scatterpolar\": [{\"marker\": {\"colorbar\": {\"outlinewidth\": 0, \"ticks\": \"\"}}, \"type\": \"scatterpolar\"}], \"scatterpolargl\": [{\"marker\": {\"colorbar\": {\"outlinewidth\": 0, \"ticks\": \"\"}}, \"type\": \"scatterpolargl\"}], \"scatterternary\": [{\"marker\": {\"colorbar\": {\"outlinewidth\": 0, \"ticks\": \"\"}}, \"type\": \"scatterternary\"}], \"surface\": [{\"colorbar\": {\"outlinewidth\": 0, \"ticks\": \"\"}, \"colorscale\": [[0.0, \"#0d0887\"], [0.1111111111111111, \"#46039f\"], [0.2222222222222222, \"#7201a8\"], [0.3333333333333333, \"#9c179e\"], [0.4444444444444444, \"#bd3786\"], [0.5555555555555556, \"#d8576b\"], [0.6666666666666666, \"#ed7953\"], [0.7777777777777778, \"#fb9f3a\"], [0.8888888888888888, \"#fdca26\"], [1.0, \"#f0f921\"]], \"type\": \"surface\"}], \"table\": [{\"cells\": {\"fill\": {\"color\": \"#EBF0F8\"}, \"line\": {\"color\": \"white\"}}, \"header\": {\"fill\": {\"color\": \"#C8D4E3\"}, \"line\": {\"color\": \"white\"}}, \"type\": \"table\"}]}, \"layout\": {\"annotationdefaults\": {\"arrowcolor\": \"#2a3f5f\", \"arrowhead\": 0, \"arrowwidth\": 1}, \"autotypenumbers\": \"strict\", \"coloraxis\": {\"colorbar\": {\"outlinewidth\": 0, \"ticks\": \"\"}}, \"colorscale\": {\"diverging\": [[0, \"#8e0152\"], [0.1, \"#c51b7d\"], [0.2, \"#de77ae\"], [0.3, \"#f1b6da\"], [0.4, \"#fde0ef\"], [0.5, \"#f7f7f7\"], [0.6, \"#e6f5d0\"], [0.7, \"#b8e186\"], [0.8, \"#7fbc41\"], [0.9, \"#4d9221\"], [1, \"#276419\"]], \"sequential\": [[0.0, \"#0d0887\"], [0.1111111111111111, \"#46039f\"], [0.2222222222222222, \"#7201a8\"], [0.3333333333333333, \"#9c179e\"], [0.4444444444444444, \"#bd3786\"], [0.5555555555555556, \"#d8576b\"], [0.6666666666666666, \"#ed7953\"], [0.7777777777777778, \"#fb9f3a\"], [0.8888888888888888, \"#fdca26\"], [1.0, \"#f0f921\"]], \"sequentialminus\": [[0.0, \"#0d0887\"], [0.1111111111111111, \"#46039f\"], [0.2222222222222222, \"#7201a8\"], [0.3333333333333333, \"#9c179e\"], [0.4444444444444444, \"#bd3786\"], [0.5555555555555556, \"#d8576b\"], [0.6666666666666666, \"#ed7953\"], [0.7777777777777778, \"#fb9f3a\"], [0.8888888888888888, \"#fdca26\"], [1.0, \"#f0f921\"]]}, \"colorway\": [\"#636efa\", \"#EF553B\", \"#00cc96\", \"#ab63fa\", \"#FFA15A\", \"#19d3f3\", \"#FF6692\", \"#B6E880\", \"#FF97FF\", \"#FECB52\"], \"font\": {\"color\": \"#2a3f5f\"}, \"geo\": {\"bgcolor\": \"white\", \"lakecolor\": \"white\", \"landcolor\": \"#E5ECF6\", \"showlakes\": true, \"showland\": true, \"subunitcolor\": \"white\"}, \"hoverlabel\": {\"align\": \"left\"}, \"hovermode\": \"closest\", \"mapbox\": {\"style\": \"light\"}, \"paper_bgcolor\": \"white\", \"plot_bgcolor\": \"#E5ECF6\", \"polar\": {\"angularaxis\": {\"gridcolor\": \"white\", \"linecolor\": \"white\", \"ticks\": \"\"}, \"bgcolor\": \"#E5ECF6\", \"radialaxis\": {\"gridcolor\": \"white\", \"linecolor\": \"white\", \"ticks\": \"\"}}, \"scene\": {\"xaxis\": {\"backgroundcolor\": \"#E5ECF6\", \"gridcolor\": \"white\", \"gridwidth\": 2, \"linecolor\": \"white\", \"showbackground\": true, \"ticks\": \"\", \"zerolinecolor\": \"white\"}, \"yaxis\": {\"backgroundcolor\": \"#E5ECF6\", \"gridcolor\": \"white\", \"gridwidth\": 2, \"linecolor\": \"white\", \"showbackground\": true, \"ticks\": \"\", \"zerolinecolor\": \"white\"}, \"zaxis\": {\"backgroundcolor\": \"#E5ECF6\", \"gridcolor\": \"white\", \"gridwidth\": 2, \"linecolor\": \"white\", \"showbackground\": true, \"ticks\": \"\", \"zerolinecolor\": \"white\"}}, \"shapedefaults\": {\"line\": {\"color\": \"#2a3f5f\"}}, \"ternary\": {\"aaxis\": {\"gridcolor\": \"white\", \"linecolor\": \"white\", \"ticks\": \"\"}, \"baxis\": {\"gridcolor\": \"white\", \"linecolor\": \"white\", \"ticks\": \"\"}, \"bgcolor\": \"#E5ECF6\", \"caxis\": {\"gridcolor\": \"white\", \"linecolor\": \"white\", \"ticks\": \"\"}}, \"title\": {\"x\": 0.05}, \"xaxis\": {\"automargin\": true, \"gridcolor\": \"white\", \"linecolor\": \"white\", \"ticks\": \"\", \"title\": {\"standoff\": 15}, \"zerolinecolor\": \"white\", \"zerolinewidth\": 2}, \"yaxis\": {\"automargin\": true, \"gridcolor\": \"white\", \"linecolor\": \"white\", \"ticks\": \"\", \"title\": {\"standoff\": 15}, \"zerolinecolor\": \"white\", \"zerolinewidth\": 2}}}, \"title\": {\"text\": \"2D Clustering of FC0, 100 and 500\"}, \"xaxis\": {\"anchor\": \"y\", \"domain\": [0.0, 1.0], \"title\": {\"text\": \"PC1\"}}, \"yaxis\": {\"anchor\": \"x\", \"domain\": [0.0, 1.0], \"title\": {\"text\": \"PC2\"}}},                        {\"responsive\": true}                    ).then(function(){\n",
       "                            \n",
       "var gd = document.getElementById('5f31af66-c76a-473d-99b2-359da617d156');\n",
       "var x = new MutationObserver(function (mutations, observer) {{\n",
       "        var display = window.getComputedStyle(gd).display;\n",
       "        if (!display || display === 'none') {{\n",
       "            console.log([gd, 'removed!']);\n",
       "            Plotly.purge(gd);\n",
       "            observer.disconnect();\n",
       "        }}\n",
       "}});\n",
       "\n",
       "// Listen for the removal of the full notebook cells\n",
       "var notebookContainer = gd.closest('#notebook-container');\n",
       "if (notebookContainer) {{\n",
       "    x.observe(notebookContainer, {childList: true});\n",
       "}}\n",
       "\n",
       "// Listen for the clearing of the current output cell\n",
       "var outputEl = gd.closest('.output');\n",
       "if (outputEl) {{\n",
       "    x.observe(outputEl, {childList: true});\n",
       "}}\n",
       "\n",
       "                        })                };                });            </script>        </div>"
      ]
     },
     "metadata": {},
     "output_type": "display_data"
    },
    {
     "data": {
      "application/vnd.plotly.v1+json": {
       "config": {
        "plotlyServerURL": "https://plot.ly"
       },
       "data": [
        {
         "type": "scatter",
         "x": [
          1,
          2,
          3,
          4,
          5,
          6,
          7,
          8,
          9
         ],
         "y": [
          0.43923778696327354,
          0.2124797141643493,
          0.12906031175452215,
          0.07788288047892665,
          0.04442280227875179,
          0.03506530570232308,
          0.03224848968283078,
          0.029602708975022807,
          3.7155153721176e-32
         ]
        }
       ],
       "layout": {
        "template": {
         "data": {
          "bar": [
           {
            "error_x": {
             "color": "#2a3f5f"
            },
            "error_y": {
             "color": "#2a3f5f"
            },
            "marker": {
             "line": {
              "color": "#E5ECF6",
              "width": 0.5
             }
            },
            "type": "bar"
           }
          ],
          "barpolar": [
           {
            "marker": {
             "line": {
              "color": "#E5ECF6",
              "width": 0.5
             }
            },
            "type": "barpolar"
           }
          ],
          "carpet": [
           {
            "aaxis": {
             "endlinecolor": "#2a3f5f",
             "gridcolor": "white",
             "linecolor": "white",
             "minorgridcolor": "white",
             "startlinecolor": "#2a3f5f"
            },
            "baxis": {
             "endlinecolor": "#2a3f5f",
             "gridcolor": "white",
             "linecolor": "white",
             "minorgridcolor": "white",
             "startlinecolor": "#2a3f5f"
            },
            "type": "carpet"
           }
          ],
          "choropleth": [
           {
            "colorbar": {
             "outlinewidth": 0,
             "ticks": ""
            },
            "type": "choropleth"
           }
          ],
          "contour": [
           {
            "colorbar": {
             "outlinewidth": 0,
             "ticks": ""
            },
            "colorscale": [
             [
              0,
              "#0d0887"
             ],
             [
              0.1111111111111111,
              "#46039f"
             ],
             [
              0.2222222222222222,
              "#7201a8"
             ],
             [
              0.3333333333333333,
              "#9c179e"
             ],
             [
              0.4444444444444444,
              "#bd3786"
             ],
             [
              0.5555555555555556,
              "#d8576b"
             ],
             [
              0.6666666666666666,
              "#ed7953"
             ],
             [
              0.7777777777777778,
              "#fb9f3a"
             ],
             [
              0.8888888888888888,
              "#fdca26"
             ],
             [
              1,
              "#f0f921"
             ]
            ],
            "type": "contour"
           }
          ],
          "contourcarpet": [
           {
            "colorbar": {
             "outlinewidth": 0,
             "ticks": ""
            },
            "type": "contourcarpet"
           }
          ],
          "heatmap": [
           {
            "colorbar": {
             "outlinewidth": 0,
             "ticks": ""
            },
            "colorscale": [
             [
              0,
              "#0d0887"
             ],
             [
              0.1111111111111111,
              "#46039f"
             ],
             [
              0.2222222222222222,
              "#7201a8"
             ],
             [
              0.3333333333333333,
              "#9c179e"
             ],
             [
              0.4444444444444444,
              "#bd3786"
             ],
             [
              0.5555555555555556,
              "#d8576b"
             ],
             [
              0.6666666666666666,
              "#ed7953"
             ],
             [
              0.7777777777777778,
              "#fb9f3a"
             ],
             [
              0.8888888888888888,
              "#fdca26"
             ],
             [
              1,
              "#f0f921"
             ]
            ],
            "type": "heatmap"
           }
          ],
          "heatmapgl": [
           {
            "colorbar": {
             "outlinewidth": 0,
             "ticks": ""
            },
            "colorscale": [
             [
              0,
              "#0d0887"
             ],
             [
              0.1111111111111111,
              "#46039f"
             ],
             [
              0.2222222222222222,
              "#7201a8"
             ],
             [
              0.3333333333333333,
              "#9c179e"
             ],
             [
              0.4444444444444444,
              "#bd3786"
             ],
             [
              0.5555555555555556,
              "#d8576b"
             ],
             [
              0.6666666666666666,
              "#ed7953"
             ],
             [
              0.7777777777777778,
              "#fb9f3a"
             ],
             [
              0.8888888888888888,
              "#fdca26"
             ],
             [
              1,
              "#f0f921"
             ]
            ],
            "type": "heatmapgl"
           }
          ],
          "histogram": [
           {
            "marker": {
             "colorbar": {
              "outlinewidth": 0,
              "ticks": ""
             }
            },
            "type": "histogram"
           }
          ],
          "histogram2d": [
           {
            "colorbar": {
             "outlinewidth": 0,
             "ticks": ""
            },
            "colorscale": [
             [
              0,
              "#0d0887"
             ],
             [
              0.1111111111111111,
              "#46039f"
             ],
             [
              0.2222222222222222,
              "#7201a8"
             ],
             [
              0.3333333333333333,
              "#9c179e"
             ],
             [
              0.4444444444444444,
              "#bd3786"
             ],
             [
              0.5555555555555556,
              "#d8576b"
             ],
             [
              0.6666666666666666,
              "#ed7953"
             ],
             [
              0.7777777777777778,
              "#fb9f3a"
             ],
             [
              0.8888888888888888,
              "#fdca26"
             ],
             [
              1,
              "#f0f921"
             ]
            ],
            "type": "histogram2d"
           }
          ],
          "histogram2dcontour": [
           {
            "colorbar": {
             "outlinewidth": 0,
             "ticks": ""
            },
            "colorscale": [
             [
              0,
              "#0d0887"
             ],
             [
              0.1111111111111111,
              "#46039f"
             ],
             [
              0.2222222222222222,
              "#7201a8"
             ],
             [
              0.3333333333333333,
              "#9c179e"
             ],
             [
              0.4444444444444444,
              "#bd3786"
             ],
             [
              0.5555555555555556,
              "#d8576b"
             ],
             [
              0.6666666666666666,
              "#ed7953"
             ],
             [
              0.7777777777777778,
              "#fb9f3a"
             ],
             [
              0.8888888888888888,
              "#fdca26"
             ],
             [
              1,
              "#f0f921"
             ]
            ],
            "type": "histogram2dcontour"
           }
          ],
          "mesh3d": [
           {
            "colorbar": {
             "outlinewidth": 0,
             "ticks": ""
            },
            "type": "mesh3d"
           }
          ],
          "parcoords": [
           {
            "line": {
             "colorbar": {
              "outlinewidth": 0,
              "ticks": ""
             }
            },
            "type": "parcoords"
           }
          ],
          "pie": [
           {
            "automargin": true,
            "type": "pie"
           }
          ],
          "scatter": [
           {
            "marker": {
             "colorbar": {
              "outlinewidth": 0,
              "ticks": ""
             }
            },
            "type": "scatter"
           }
          ],
          "scatter3d": [
           {
            "line": {
             "colorbar": {
              "outlinewidth": 0,
              "ticks": ""
             }
            },
            "marker": {
             "colorbar": {
              "outlinewidth": 0,
              "ticks": ""
             }
            },
            "type": "scatter3d"
           }
          ],
          "scattercarpet": [
           {
            "marker": {
             "colorbar": {
              "outlinewidth": 0,
              "ticks": ""
             }
            },
            "type": "scattercarpet"
           }
          ],
          "scattergeo": [
           {
            "marker": {
             "colorbar": {
              "outlinewidth": 0,
              "ticks": ""
             }
            },
            "type": "scattergeo"
           }
          ],
          "scattergl": [
           {
            "marker": {
             "colorbar": {
              "outlinewidth": 0,
              "ticks": ""
             }
            },
            "type": "scattergl"
           }
          ],
          "scattermapbox": [
           {
            "marker": {
             "colorbar": {
              "outlinewidth": 0,
              "ticks": ""
             }
            },
            "type": "scattermapbox"
           }
          ],
          "scatterpolar": [
           {
            "marker": {
             "colorbar": {
              "outlinewidth": 0,
              "ticks": ""
             }
            },
            "type": "scatterpolar"
           }
          ],
          "scatterpolargl": [
           {
            "marker": {
             "colorbar": {
              "outlinewidth": 0,
              "ticks": ""
             }
            },
            "type": "scatterpolargl"
           }
          ],
          "scatterternary": [
           {
            "marker": {
             "colorbar": {
              "outlinewidth": 0,
              "ticks": ""
             }
            },
            "type": "scatterternary"
           }
          ],
          "surface": [
           {
            "colorbar": {
             "outlinewidth": 0,
             "ticks": ""
            },
            "colorscale": [
             [
              0,
              "#0d0887"
             ],
             [
              0.1111111111111111,
              "#46039f"
             ],
             [
              0.2222222222222222,
              "#7201a8"
             ],
             [
              0.3333333333333333,
              "#9c179e"
             ],
             [
              0.4444444444444444,
              "#bd3786"
             ],
             [
              0.5555555555555556,
              "#d8576b"
             ],
             [
              0.6666666666666666,
              "#ed7953"
             ],
             [
              0.7777777777777778,
              "#fb9f3a"
             ],
             [
              0.8888888888888888,
              "#fdca26"
             ],
             [
              1,
              "#f0f921"
             ]
            ],
            "type": "surface"
           }
          ],
          "table": [
           {
            "cells": {
             "fill": {
              "color": "#EBF0F8"
             },
             "line": {
              "color": "white"
             }
            },
            "header": {
             "fill": {
              "color": "#C8D4E3"
             },
             "line": {
              "color": "white"
             }
            },
            "type": "table"
           }
          ]
         },
         "layout": {
          "annotationdefaults": {
           "arrowcolor": "#2a3f5f",
           "arrowhead": 0,
           "arrowwidth": 1
          },
          "autotypenumbers": "strict",
          "coloraxis": {
           "colorbar": {
            "outlinewidth": 0,
            "ticks": ""
           }
          },
          "colorscale": {
           "diverging": [
            [
             0,
             "#8e0152"
            ],
            [
             0.1,
             "#c51b7d"
            ],
            [
             0.2,
             "#de77ae"
            ],
            [
             0.3,
             "#f1b6da"
            ],
            [
             0.4,
             "#fde0ef"
            ],
            [
             0.5,
             "#f7f7f7"
            ],
            [
             0.6,
             "#e6f5d0"
            ],
            [
             0.7,
             "#b8e186"
            ],
            [
             0.8,
             "#7fbc41"
            ],
            [
             0.9,
             "#4d9221"
            ],
            [
             1,
             "#276419"
            ]
           ],
           "sequential": [
            [
             0,
             "#0d0887"
            ],
            [
             0.1111111111111111,
             "#46039f"
            ],
            [
             0.2222222222222222,
             "#7201a8"
            ],
            [
             0.3333333333333333,
             "#9c179e"
            ],
            [
             0.4444444444444444,
             "#bd3786"
            ],
            [
             0.5555555555555556,
             "#d8576b"
            ],
            [
             0.6666666666666666,
             "#ed7953"
            ],
            [
             0.7777777777777778,
             "#fb9f3a"
            ],
            [
             0.8888888888888888,
             "#fdca26"
            ],
            [
             1,
             "#f0f921"
            ]
           ],
           "sequentialminus": [
            [
             0,
             "#0d0887"
            ],
            [
             0.1111111111111111,
             "#46039f"
            ],
            [
             0.2222222222222222,
             "#7201a8"
            ],
            [
             0.3333333333333333,
             "#9c179e"
            ],
            [
             0.4444444444444444,
             "#bd3786"
            ],
            [
             0.5555555555555556,
             "#d8576b"
            ],
            [
             0.6666666666666666,
             "#ed7953"
            ],
            [
             0.7777777777777778,
             "#fb9f3a"
            ],
            [
             0.8888888888888888,
             "#fdca26"
            ],
            [
             1,
             "#f0f921"
            ]
           ]
          },
          "colorway": [
           "#636efa",
           "#EF553B",
           "#00cc96",
           "#ab63fa",
           "#FFA15A",
           "#19d3f3",
           "#FF6692",
           "#B6E880",
           "#FF97FF",
           "#FECB52"
          ],
          "font": {
           "color": "#2a3f5f"
          },
          "geo": {
           "bgcolor": "white",
           "lakecolor": "white",
           "landcolor": "#E5ECF6",
           "showlakes": true,
           "showland": true,
           "subunitcolor": "white"
          },
          "hoverlabel": {
           "align": "left"
          },
          "hovermode": "closest",
          "mapbox": {
           "style": "light"
          },
          "paper_bgcolor": "white",
          "plot_bgcolor": "#E5ECF6",
          "polar": {
           "angularaxis": {
            "gridcolor": "white",
            "linecolor": "white",
            "ticks": ""
           },
           "bgcolor": "#E5ECF6",
           "radialaxis": {
            "gridcolor": "white",
            "linecolor": "white",
            "ticks": ""
           }
          },
          "scene": {
           "xaxis": {
            "backgroundcolor": "#E5ECF6",
            "gridcolor": "white",
            "gridwidth": 2,
            "linecolor": "white",
            "showbackground": true,
            "ticks": "",
            "zerolinecolor": "white"
           },
           "yaxis": {
            "backgroundcolor": "#E5ECF6",
            "gridcolor": "white",
            "gridwidth": 2,
            "linecolor": "white",
            "showbackground": true,
            "ticks": "",
            "zerolinecolor": "white"
           },
           "zaxis": {
            "backgroundcolor": "#E5ECF6",
            "gridcolor": "white",
            "gridwidth": 2,
            "linecolor": "white",
            "showbackground": true,
            "ticks": "",
            "zerolinecolor": "white"
           }
          },
          "shapedefaults": {
           "line": {
            "color": "#2a3f5f"
           }
          },
          "ternary": {
           "aaxis": {
            "gridcolor": "white",
            "linecolor": "white",
            "ticks": ""
           },
           "baxis": {
            "gridcolor": "white",
            "linecolor": "white",
            "ticks": ""
           },
           "bgcolor": "#E5ECF6",
           "caxis": {
            "gridcolor": "white",
            "linecolor": "white",
            "ticks": ""
           }
          },
          "title": {
           "x": 0.05
          },
          "xaxis": {
           "automargin": true,
           "gridcolor": "white",
           "linecolor": "white",
           "ticks": "",
           "title": {
            "standoff": 15
           },
           "zerolinecolor": "white",
           "zerolinewidth": 2
          },
          "yaxis": {
           "automargin": true,
           "gridcolor": "white",
           "linecolor": "white",
           "ticks": "",
           "title": {
            "standoff": 15
           },
           "zerolinecolor": "white",
           "zerolinewidth": 2
          }
         }
        },
        "title": {
         "text": "Scree plot for the clustering of FC0, 100 and 500"
        },
        "xaxis": {
         "dtick": 1,
         "title": {
          "text": "Principal component"
         }
        },
        "yaxis": {
         "title": {
          "text": "Variance explained (fraction)"
         }
        }
       }
      },
      "text/html": [
       "<div>                            <div id=\"05c02c6e-f0b6-438b-9744-1533c495d706\" class=\"plotly-graph-div\" style=\"height:525px; width:100%;\"></div>            <script type=\"text/javascript\">                require([\"plotly\"], function(Plotly) {                    window.PLOTLYENV=window.PLOTLYENV || {};                                    if (document.getElementById(\"05c02c6e-f0b6-438b-9744-1533c495d706\")) {                    Plotly.newPlot(                        \"05c02c6e-f0b6-438b-9744-1533c495d706\",                        [{\"type\": \"scatter\", \"x\": [1, 2, 3, 4, 5, 6, 7, 8, 9], \"y\": [0.43923778696327354, 0.2124797141643493, 0.12906031175452215, 0.07788288047892665, 0.04442280227875179, 0.03506530570232308, 0.03224848968283078, 0.029602708975022807, 3.7155153721176e-32]}],                        {\"template\": {\"data\": {\"bar\": [{\"error_x\": {\"color\": \"#2a3f5f\"}, \"error_y\": {\"color\": \"#2a3f5f\"}, \"marker\": {\"line\": {\"color\": \"#E5ECF6\", \"width\": 0.5}}, \"type\": \"bar\"}], \"barpolar\": [{\"marker\": {\"line\": {\"color\": \"#E5ECF6\", \"width\": 0.5}}, \"type\": \"barpolar\"}], \"carpet\": [{\"aaxis\": {\"endlinecolor\": \"#2a3f5f\", \"gridcolor\": \"white\", \"linecolor\": \"white\", \"minorgridcolor\": \"white\", \"startlinecolor\": \"#2a3f5f\"}, \"baxis\": {\"endlinecolor\": \"#2a3f5f\", \"gridcolor\": \"white\", \"linecolor\": \"white\", \"minorgridcolor\": \"white\", \"startlinecolor\": \"#2a3f5f\"}, \"type\": \"carpet\"}], \"choropleth\": [{\"colorbar\": {\"outlinewidth\": 0, \"ticks\": \"\"}, \"type\": \"choropleth\"}], \"contour\": [{\"colorbar\": {\"outlinewidth\": 0, \"ticks\": \"\"}, \"colorscale\": [[0.0, \"#0d0887\"], [0.1111111111111111, \"#46039f\"], [0.2222222222222222, \"#7201a8\"], [0.3333333333333333, \"#9c179e\"], [0.4444444444444444, \"#bd3786\"], [0.5555555555555556, \"#d8576b\"], [0.6666666666666666, \"#ed7953\"], [0.7777777777777778, \"#fb9f3a\"], [0.8888888888888888, \"#fdca26\"], [1.0, \"#f0f921\"]], \"type\": \"contour\"}], \"contourcarpet\": [{\"colorbar\": {\"outlinewidth\": 0, \"ticks\": \"\"}, \"type\": \"contourcarpet\"}], \"heatmap\": [{\"colorbar\": {\"outlinewidth\": 0, \"ticks\": \"\"}, \"colorscale\": [[0.0, \"#0d0887\"], [0.1111111111111111, \"#46039f\"], [0.2222222222222222, \"#7201a8\"], [0.3333333333333333, \"#9c179e\"], [0.4444444444444444, \"#bd3786\"], [0.5555555555555556, \"#d8576b\"], [0.6666666666666666, \"#ed7953\"], [0.7777777777777778, \"#fb9f3a\"], [0.8888888888888888, \"#fdca26\"], [1.0, \"#f0f921\"]], \"type\": \"heatmap\"}], \"heatmapgl\": [{\"colorbar\": {\"outlinewidth\": 0, \"ticks\": \"\"}, \"colorscale\": [[0.0, \"#0d0887\"], [0.1111111111111111, \"#46039f\"], [0.2222222222222222, \"#7201a8\"], [0.3333333333333333, \"#9c179e\"], [0.4444444444444444, \"#bd3786\"], [0.5555555555555556, \"#d8576b\"], [0.6666666666666666, \"#ed7953\"], [0.7777777777777778, \"#fb9f3a\"], [0.8888888888888888, \"#fdca26\"], [1.0, \"#f0f921\"]], \"type\": \"heatmapgl\"}], \"histogram\": [{\"marker\": {\"colorbar\": {\"outlinewidth\": 0, \"ticks\": \"\"}}, \"type\": \"histogram\"}], \"histogram2d\": [{\"colorbar\": {\"outlinewidth\": 0, \"ticks\": \"\"}, \"colorscale\": [[0.0, \"#0d0887\"], [0.1111111111111111, \"#46039f\"], [0.2222222222222222, \"#7201a8\"], [0.3333333333333333, \"#9c179e\"], [0.4444444444444444, \"#bd3786\"], [0.5555555555555556, \"#d8576b\"], [0.6666666666666666, \"#ed7953\"], [0.7777777777777778, \"#fb9f3a\"], [0.8888888888888888, \"#fdca26\"], [1.0, \"#f0f921\"]], \"type\": \"histogram2d\"}], \"histogram2dcontour\": [{\"colorbar\": {\"outlinewidth\": 0, \"ticks\": \"\"}, \"colorscale\": [[0.0, \"#0d0887\"], [0.1111111111111111, \"#46039f\"], [0.2222222222222222, \"#7201a8\"], [0.3333333333333333, \"#9c179e\"], [0.4444444444444444, \"#bd3786\"], [0.5555555555555556, \"#d8576b\"], [0.6666666666666666, \"#ed7953\"], [0.7777777777777778, \"#fb9f3a\"], [0.8888888888888888, \"#fdca26\"], [1.0, \"#f0f921\"]], \"type\": \"histogram2dcontour\"}], \"mesh3d\": [{\"colorbar\": {\"outlinewidth\": 0, \"ticks\": \"\"}, \"type\": \"mesh3d\"}], \"parcoords\": [{\"line\": {\"colorbar\": {\"outlinewidth\": 0, \"ticks\": \"\"}}, \"type\": \"parcoords\"}], \"pie\": [{\"automargin\": true, \"type\": \"pie\"}], \"scatter\": [{\"marker\": {\"colorbar\": {\"outlinewidth\": 0, \"ticks\": \"\"}}, \"type\": \"scatter\"}], \"scatter3d\": [{\"line\": {\"colorbar\": {\"outlinewidth\": 0, \"ticks\": \"\"}}, \"marker\": {\"colorbar\": {\"outlinewidth\": 0, \"ticks\": \"\"}}, \"type\": \"scatter3d\"}], \"scattercarpet\": [{\"marker\": {\"colorbar\": {\"outlinewidth\": 0, \"ticks\": \"\"}}, \"type\": \"scattercarpet\"}], \"scattergeo\": [{\"marker\": {\"colorbar\": {\"outlinewidth\": 0, \"ticks\": \"\"}}, \"type\": \"scattergeo\"}], \"scattergl\": [{\"marker\": {\"colorbar\": {\"outlinewidth\": 0, \"ticks\": \"\"}}, \"type\": \"scattergl\"}], \"scattermapbox\": [{\"marker\": {\"colorbar\": {\"outlinewidth\": 0, \"ticks\": \"\"}}, \"type\": \"scattermapbox\"}], \"scatterpolar\": [{\"marker\": {\"colorbar\": {\"outlinewidth\": 0, \"ticks\": \"\"}}, \"type\": \"scatterpolar\"}], \"scatterpolargl\": [{\"marker\": {\"colorbar\": {\"outlinewidth\": 0, \"ticks\": \"\"}}, \"type\": \"scatterpolargl\"}], \"scatterternary\": [{\"marker\": {\"colorbar\": {\"outlinewidth\": 0, \"ticks\": \"\"}}, \"type\": \"scatterternary\"}], \"surface\": [{\"colorbar\": {\"outlinewidth\": 0, \"ticks\": \"\"}, \"colorscale\": [[0.0, \"#0d0887\"], [0.1111111111111111, \"#46039f\"], [0.2222222222222222, \"#7201a8\"], [0.3333333333333333, \"#9c179e\"], [0.4444444444444444, \"#bd3786\"], [0.5555555555555556, \"#d8576b\"], [0.6666666666666666, \"#ed7953\"], [0.7777777777777778, \"#fb9f3a\"], [0.8888888888888888, \"#fdca26\"], [1.0, \"#f0f921\"]], \"type\": \"surface\"}], \"table\": [{\"cells\": {\"fill\": {\"color\": \"#EBF0F8\"}, \"line\": {\"color\": \"white\"}}, \"header\": {\"fill\": {\"color\": \"#C8D4E3\"}, \"line\": {\"color\": \"white\"}}, \"type\": \"table\"}]}, \"layout\": {\"annotationdefaults\": {\"arrowcolor\": \"#2a3f5f\", \"arrowhead\": 0, \"arrowwidth\": 1}, \"autotypenumbers\": \"strict\", \"coloraxis\": {\"colorbar\": {\"outlinewidth\": 0, \"ticks\": \"\"}}, \"colorscale\": {\"diverging\": [[0, \"#8e0152\"], [0.1, \"#c51b7d\"], [0.2, \"#de77ae\"], [0.3, \"#f1b6da\"], [0.4, \"#fde0ef\"], [0.5, \"#f7f7f7\"], [0.6, \"#e6f5d0\"], [0.7, \"#b8e186\"], [0.8, \"#7fbc41\"], [0.9, \"#4d9221\"], [1, \"#276419\"]], \"sequential\": [[0.0, \"#0d0887\"], [0.1111111111111111, \"#46039f\"], [0.2222222222222222, \"#7201a8\"], [0.3333333333333333, \"#9c179e\"], [0.4444444444444444, \"#bd3786\"], [0.5555555555555556, \"#d8576b\"], [0.6666666666666666, \"#ed7953\"], [0.7777777777777778, \"#fb9f3a\"], [0.8888888888888888, \"#fdca26\"], [1.0, \"#f0f921\"]], \"sequentialminus\": [[0.0, \"#0d0887\"], [0.1111111111111111, \"#46039f\"], [0.2222222222222222, \"#7201a8\"], [0.3333333333333333, \"#9c179e\"], [0.4444444444444444, \"#bd3786\"], [0.5555555555555556, \"#d8576b\"], [0.6666666666666666, \"#ed7953\"], [0.7777777777777778, \"#fb9f3a\"], [0.8888888888888888, \"#fdca26\"], [1.0, \"#f0f921\"]]}, \"colorway\": [\"#636efa\", \"#EF553B\", \"#00cc96\", \"#ab63fa\", \"#FFA15A\", \"#19d3f3\", \"#FF6692\", \"#B6E880\", \"#FF97FF\", \"#FECB52\"], \"font\": {\"color\": \"#2a3f5f\"}, \"geo\": {\"bgcolor\": \"white\", \"lakecolor\": \"white\", \"landcolor\": \"#E5ECF6\", \"showlakes\": true, \"showland\": true, \"subunitcolor\": \"white\"}, \"hoverlabel\": {\"align\": \"left\"}, \"hovermode\": \"closest\", \"mapbox\": {\"style\": \"light\"}, \"paper_bgcolor\": \"white\", \"plot_bgcolor\": \"#E5ECF6\", \"polar\": {\"angularaxis\": {\"gridcolor\": \"white\", \"linecolor\": \"white\", \"ticks\": \"\"}, \"bgcolor\": \"#E5ECF6\", \"radialaxis\": {\"gridcolor\": \"white\", \"linecolor\": \"white\", \"ticks\": \"\"}}, \"scene\": {\"xaxis\": {\"backgroundcolor\": \"#E5ECF6\", \"gridcolor\": \"white\", \"gridwidth\": 2, \"linecolor\": \"white\", \"showbackground\": true, \"ticks\": \"\", \"zerolinecolor\": \"white\"}, \"yaxis\": {\"backgroundcolor\": \"#E5ECF6\", \"gridcolor\": \"white\", \"gridwidth\": 2, \"linecolor\": \"white\", \"showbackground\": true, \"ticks\": \"\", \"zerolinecolor\": \"white\"}, \"zaxis\": {\"backgroundcolor\": \"#E5ECF6\", \"gridcolor\": \"white\", \"gridwidth\": 2, \"linecolor\": \"white\", \"showbackground\": true, \"ticks\": \"\", \"zerolinecolor\": \"white\"}}, \"shapedefaults\": {\"line\": {\"color\": \"#2a3f5f\"}}, \"ternary\": {\"aaxis\": {\"gridcolor\": \"white\", \"linecolor\": \"white\", \"ticks\": \"\"}, \"baxis\": {\"gridcolor\": \"white\", \"linecolor\": \"white\", \"ticks\": \"\"}, \"bgcolor\": \"#E5ECF6\", \"caxis\": {\"gridcolor\": \"white\", \"linecolor\": \"white\", \"ticks\": \"\"}}, \"title\": {\"x\": 0.05}, \"xaxis\": {\"automargin\": true, \"gridcolor\": \"white\", \"linecolor\": \"white\", \"ticks\": \"\", \"title\": {\"standoff\": 15}, \"zerolinecolor\": \"white\", \"zerolinewidth\": 2}, \"yaxis\": {\"automargin\": true, \"gridcolor\": \"white\", \"linecolor\": \"white\", \"ticks\": \"\", \"title\": {\"standoff\": 15}, \"zerolinecolor\": \"white\", \"zerolinewidth\": 2}}}, \"title\": {\"text\": \"Scree plot for the clustering of FC0, 100 and 500\"}, \"xaxis\": {\"dtick\": 1.0, \"title\": {\"text\": \"Principal component\"}}, \"yaxis\": {\"title\": {\"text\": \"Variance explained (fraction)\"}}},                        {\"responsive\": true}                    ).then(function(){\n",
       "                            \n",
       "var gd = document.getElementById('05c02c6e-f0b6-438b-9744-1533c495d706');\n",
       "var x = new MutationObserver(function (mutations, observer) {{\n",
       "        var display = window.getComputedStyle(gd).display;\n",
       "        if (!display || display === 'none') {{\n",
       "            console.log([gd, 'removed!']);\n",
       "            Plotly.purge(gd);\n",
       "            observer.disconnect();\n",
       "        }}\n",
       "}});\n",
       "\n",
       "// Listen for the removal of the full notebook cells\n",
       "var notebookContainer = gd.closest('#notebook-container');\n",
       "if (notebookContainer) {{\n",
       "    x.observe(notebookContainer, {childList: true});\n",
       "}}\n",
       "\n",
       "// Listen for the clearing of the current output cell\n",
       "var outputEl = gd.closest('.output');\n",
       "if (outputEl) {{\n",
       "    x.observe(outputEl, {childList: true});\n",
       "}}\n",
       "\n",
       "                        })                };                });            </script>        </div>"
      ]
     },
     "metadata": {},
     "output_type": "display_data"
    },
    {
     "data": {
      "application/vnd.plotly.v1+json": {
       "config": {
        "plotlyServerURL": "https://plot.ly"
       },
       "data": [
        {
         "type": "scatter",
         "x": [
          1,
          2,
          3,
          4,
          5,
          6,
          7,
          8,
          9
         ],
         "y": [
          0.43923778696327354,
          0.6517175011276228,
          0.780777812882145,
          0.8586606933610716,
          0.9030834956398235,
          0.9381488013421466,
          0.9703972910249774,
          1.0000000000000002,
          1.0000000000000002
         ]
        }
       ],
       "layout": {
        "template": {
         "data": {
          "bar": [
           {
            "error_x": {
             "color": "#2a3f5f"
            },
            "error_y": {
             "color": "#2a3f5f"
            },
            "marker": {
             "line": {
              "color": "#E5ECF6",
              "width": 0.5
             }
            },
            "type": "bar"
           }
          ],
          "barpolar": [
           {
            "marker": {
             "line": {
              "color": "#E5ECF6",
              "width": 0.5
             }
            },
            "type": "barpolar"
           }
          ],
          "carpet": [
           {
            "aaxis": {
             "endlinecolor": "#2a3f5f",
             "gridcolor": "white",
             "linecolor": "white",
             "minorgridcolor": "white",
             "startlinecolor": "#2a3f5f"
            },
            "baxis": {
             "endlinecolor": "#2a3f5f",
             "gridcolor": "white",
             "linecolor": "white",
             "minorgridcolor": "white",
             "startlinecolor": "#2a3f5f"
            },
            "type": "carpet"
           }
          ],
          "choropleth": [
           {
            "colorbar": {
             "outlinewidth": 0,
             "ticks": ""
            },
            "type": "choropleth"
           }
          ],
          "contour": [
           {
            "colorbar": {
             "outlinewidth": 0,
             "ticks": ""
            },
            "colorscale": [
             [
              0,
              "#0d0887"
             ],
             [
              0.1111111111111111,
              "#46039f"
             ],
             [
              0.2222222222222222,
              "#7201a8"
             ],
             [
              0.3333333333333333,
              "#9c179e"
             ],
             [
              0.4444444444444444,
              "#bd3786"
             ],
             [
              0.5555555555555556,
              "#d8576b"
             ],
             [
              0.6666666666666666,
              "#ed7953"
             ],
             [
              0.7777777777777778,
              "#fb9f3a"
             ],
             [
              0.8888888888888888,
              "#fdca26"
             ],
             [
              1,
              "#f0f921"
             ]
            ],
            "type": "contour"
           }
          ],
          "contourcarpet": [
           {
            "colorbar": {
             "outlinewidth": 0,
             "ticks": ""
            },
            "type": "contourcarpet"
           }
          ],
          "heatmap": [
           {
            "colorbar": {
             "outlinewidth": 0,
             "ticks": ""
            },
            "colorscale": [
             [
              0,
              "#0d0887"
             ],
             [
              0.1111111111111111,
              "#46039f"
             ],
             [
              0.2222222222222222,
              "#7201a8"
             ],
             [
              0.3333333333333333,
              "#9c179e"
             ],
             [
              0.4444444444444444,
              "#bd3786"
             ],
             [
              0.5555555555555556,
              "#d8576b"
             ],
             [
              0.6666666666666666,
              "#ed7953"
             ],
             [
              0.7777777777777778,
              "#fb9f3a"
             ],
             [
              0.8888888888888888,
              "#fdca26"
             ],
             [
              1,
              "#f0f921"
             ]
            ],
            "type": "heatmap"
           }
          ],
          "heatmapgl": [
           {
            "colorbar": {
             "outlinewidth": 0,
             "ticks": ""
            },
            "colorscale": [
             [
              0,
              "#0d0887"
             ],
             [
              0.1111111111111111,
              "#46039f"
             ],
             [
              0.2222222222222222,
              "#7201a8"
             ],
             [
              0.3333333333333333,
              "#9c179e"
             ],
             [
              0.4444444444444444,
              "#bd3786"
             ],
             [
              0.5555555555555556,
              "#d8576b"
             ],
             [
              0.6666666666666666,
              "#ed7953"
             ],
             [
              0.7777777777777778,
              "#fb9f3a"
             ],
             [
              0.8888888888888888,
              "#fdca26"
             ],
             [
              1,
              "#f0f921"
             ]
            ],
            "type": "heatmapgl"
           }
          ],
          "histogram": [
           {
            "marker": {
             "colorbar": {
              "outlinewidth": 0,
              "ticks": ""
             }
            },
            "type": "histogram"
           }
          ],
          "histogram2d": [
           {
            "colorbar": {
             "outlinewidth": 0,
             "ticks": ""
            },
            "colorscale": [
             [
              0,
              "#0d0887"
             ],
             [
              0.1111111111111111,
              "#46039f"
             ],
             [
              0.2222222222222222,
              "#7201a8"
             ],
             [
              0.3333333333333333,
              "#9c179e"
             ],
             [
              0.4444444444444444,
              "#bd3786"
             ],
             [
              0.5555555555555556,
              "#d8576b"
             ],
             [
              0.6666666666666666,
              "#ed7953"
             ],
             [
              0.7777777777777778,
              "#fb9f3a"
             ],
             [
              0.8888888888888888,
              "#fdca26"
             ],
             [
              1,
              "#f0f921"
             ]
            ],
            "type": "histogram2d"
           }
          ],
          "histogram2dcontour": [
           {
            "colorbar": {
             "outlinewidth": 0,
             "ticks": ""
            },
            "colorscale": [
             [
              0,
              "#0d0887"
             ],
             [
              0.1111111111111111,
              "#46039f"
             ],
             [
              0.2222222222222222,
              "#7201a8"
             ],
             [
              0.3333333333333333,
              "#9c179e"
             ],
             [
              0.4444444444444444,
              "#bd3786"
             ],
             [
              0.5555555555555556,
              "#d8576b"
             ],
             [
              0.6666666666666666,
              "#ed7953"
             ],
             [
              0.7777777777777778,
              "#fb9f3a"
             ],
             [
              0.8888888888888888,
              "#fdca26"
             ],
             [
              1,
              "#f0f921"
             ]
            ],
            "type": "histogram2dcontour"
           }
          ],
          "mesh3d": [
           {
            "colorbar": {
             "outlinewidth": 0,
             "ticks": ""
            },
            "type": "mesh3d"
           }
          ],
          "parcoords": [
           {
            "line": {
             "colorbar": {
              "outlinewidth": 0,
              "ticks": ""
             }
            },
            "type": "parcoords"
           }
          ],
          "pie": [
           {
            "automargin": true,
            "type": "pie"
           }
          ],
          "scatter": [
           {
            "marker": {
             "colorbar": {
              "outlinewidth": 0,
              "ticks": ""
             }
            },
            "type": "scatter"
           }
          ],
          "scatter3d": [
           {
            "line": {
             "colorbar": {
              "outlinewidth": 0,
              "ticks": ""
             }
            },
            "marker": {
             "colorbar": {
              "outlinewidth": 0,
              "ticks": ""
             }
            },
            "type": "scatter3d"
           }
          ],
          "scattercarpet": [
           {
            "marker": {
             "colorbar": {
              "outlinewidth": 0,
              "ticks": ""
             }
            },
            "type": "scattercarpet"
           }
          ],
          "scattergeo": [
           {
            "marker": {
             "colorbar": {
              "outlinewidth": 0,
              "ticks": ""
             }
            },
            "type": "scattergeo"
           }
          ],
          "scattergl": [
           {
            "marker": {
             "colorbar": {
              "outlinewidth": 0,
              "ticks": ""
             }
            },
            "type": "scattergl"
           }
          ],
          "scattermapbox": [
           {
            "marker": {
             "colorbar": {
              "outlinewidth": 0,
              "ticks": ""
             }
            },
            "type": "scattermapbox"
           }
          ],
          "scatterpolar": [
           {
            "marker": {
             "colorbar": {
              "outlinewidth": 0,
              "ticks": ""
             }
            },
            "type": "scatterpolar"
           }
          ],
          "scatterpolargl": [
           {
            "marker": {
             "colorbar": {
              "outlinewidth": 0,
              "ticks": ""
             }
            },
            "type": "scatterpolargl"
           }
          ],
          "scatterternary": [
           {
            "marker": {
             "colorbar": {
              "outlinewidth": 0,
              "ticks": ""
             }
            },
            "type": "scatterternary"
           }
          ],
          "surface": [
           {
            "colorbar": {
             "outlinewidth": 0,
             "ticks": ""
            },
            "colorscale": [
             [
              0,
              "#0d0887"
             ],
             [
              0.1111111111111111,
              "#46039f"
             ],
             [
              0.2222222222222222,
              "#7201a8"
             ],
             [
              0.3333333333333333,
              "#9c179e"
             ],
             [
              0.4444444444444444,
              "#bd3786"
             ],
             [
              0.5555555555555556,
              "#d8576b"
             ],
             [
              0.6666666666666666,
              "#ed7953"
             ],
             [
              0.7777777777777778,
              "#fb9f3a"
             ],
             [
              0.8888888888888888,
              "#fdca26"
             ],
             [
              1,
              "#f0f921"
             ]
            ],
            "type": "surface"
           }
          ],
          "table": [
           {
            "cells": {
             "fill": {
              "color": "#EBF0F8"
             },
             "line": {
              "color": "white"
             }
            },
            "header": {
             "fill": {
              "color": "#C8D4E3"
             },
             "line": {
              "color": "white"
             }
            },
            "type": "table"
           }
          ]
         },
         "layout": {
          "annotationdefaults": {
           "arrowcolor": "#2a3f5f",
           "arrowhead": 0,
           "arrowwidth": 1
          },
          "autotypenumbers": "strict",
          "coloraxis": {
           "colorbar": {
            "outlinewidth": 0,
            "ticks": ""
           }
          },
          "colorscale": {
           "diverging": [
            [
             0,
             "#8e0152"
            ],
            [
             0.1,
             "#c51b7d"
            ],
            [
             0.2,
             "#de77ae"
            ],
            [
             0.3,
             "#f1b6da"
            ],
            [
             0.4,
             "#fde0ef"
            ],
            [
             0.5,
             "#f7f7f7"
            ],
            [
             0.6,
             "#e6f5d0"
            ],
            [
             0.7,
             "#b8e186"
            ],
            [
             0.8,
             "#7fbc41"
            ],
            [
             0.9,
             "#4d9221"
            ],
            [
             1,
             "#276419"
            ]
           ],
           "sequential": [
            [
             0,
             "#0d0887"
            ],
            [
             0.1111111111111111,
             "#46039f"
            ],
            [
             0.2222222222222222,
             "#7201a8"
            ],
            [
             0.3333333333333333,
             "#9c179e"
            ],
            [
             0.4444444444444444,
             "#bd3786"
            ],
            [
             0.5555555555555556,
             "#d8576b"
            ],
            [
             0.6666666666666666,
             "#ed7953"
            ],
            [
             0.7777777777777778,
             "#fb9f3a"
            ],
            [
             0.8888888888888888,
             "#fdca26"
            ],
            [
             1,
             "#f0f921"
            ]
           ],
           "sequentialminus": [
            [
             0,
             "#0d0887"
            ],
            [
             0.1111111111111111,
             "#46039f"
            ],
            [
             0.2222222222222222,
             "#7201a8"
            ],
            [
             0.3333333333333333,
             "#9c179e"
            ],
            [
             0.4444444444444444,
             "#bd3786"
            ],
            [
             0.5555555555555556,
             "#d8576b"
            ],
            [
             0.6666666666666666,
             "#ed7953"
            ],
            [
             0.7777777777777778,
             "#fb9f3a"
            ],
            [
             0.8888888888888888,
             "#fdca26"
            ],
            [
             1,
             "#f0f921"
            ]
           ]
          },
          "colorway": [
           "#636efa",
           "#EF553B",
           "#00cc96",
           "#ab63fa",
           "#FFA15A",
           "#19d3f3",
           "#FF6692",
           "#B6E880",
           "#FF97FF",
           "#FECB52"
          ],
          "font": {
           "color": "#2a3f5f"
          },
          "geo": {
           "bgcolor": "white",
           "lakecolor": "white",
           "landcolor": "#E5ECF6",
           "showlakes": true,
           "showland": true,
           "subunitcolor": "white"
          },
          "hoverlabel": {
           "align": "left"
          },
          "hovermode": "closest",
          "mapbox": {
           "style": "light"
          },
          "paper_bgcolor": "white",
          "plot_bgcolor": "#E5ECF6",
          "polar": {
           "angularaxis": {
            "gridcolor": "white",
            "linecolor": "white",
            "ticks": ""
           },
           "bgcolor": "#E5ECF6",
           "radialaxis": {
            "gridcolor": "white",
            "linecolor": "white",
            "ticks": ""
           }
          },
          "scene": {
           "xaxis": {
            "backgroundcolor": "#E5ECF6",
            "gridcolor": "white",
            "gridwidth": 2,
            "linecolor": "white",
            "showbackground": true,
            "ticks": "",
            "zerolinecolor": "white"
           },
           "yaxis": {
            "backgroundcolor": "#E5ECF6",
            "gridcolor": "white",
            "gridwidth": 2,
            "linecolor": "white",
            "showbackground": true,
            "ticks": "",
            "zerolinecolor": "white"
           },
           "zaxis": {
            "backgroundcolor": "#E5ECF6",
            "gridcolor": "white",
            "gridwidth": 2,
            "linecolor": "white",
            "showbackground": true,
            "ticks": "",
            "zerolinecolor": "white"
           }
          },
          "shapedefaults": {
           "line": {
            "color": "#2a3f5f"
           }
          },
          "ternary": {
           "aaxis": {
            "gridcolor": "white",
            "linecolor": "white",
            "ticks": ""
           },
           "baxis": {
            "gridcolor": "white",
            "linecolor": "white",
            "ticks": ""
           },
           "bgcolor": "#E5ECF6",
           "caxis": {
            "gridcolor": "white",
            "linecolor": "white",
            "ticks": ""
           }
          },
          "title": {
           "x": 0.05
          },
          "xaxis": {
           "automargin": true,
           "gridcolor": "white",
           "linecolor": "white",
           "ticks": "",
           "title": {
            "standoff": 15
           },
           "zerolinecolor": "white",
           "zerolinewidth": 2
          },
          "yaxis": {
           "automargin": true,
           "gridcolor": "white",
           "linecolor": "white",
           "ticks": "",
           "title": {
            "standoff": 15
           },
           "zerolinecolor": "white",
           "zerolinewidth": 2
          }
         }
        },
        "title": {
         "text": "Clustering of FC0, 100 and 500"
        },
        "xaxis": {
         "dtick": 1,
         "title": {
          "text": "Principal component"
         }
        },
        "yaxis": {
         "title": {
          "text": "Variance explained (cummulative)"
         }
        }
       }
      },
      "text/html": [
       "<div>                            <div id=\"bac3b7dc-e235-4723-a31f-e98399c9900f\" class=\"plotly-graph-div\" style=\"height:525px; width:100%;\"></div>            <script type=\"text/javascript\">                require([\"plotly\"], function(Plotly) {                    window.PLOTLYENV=window.PLOTLYENV || {};                                    if (document.getElementById(\"bac3b7dc-e235-4723-a31f-e98399c9900f\")) {                    Plotly.newPlot(                        \"bac3b7dc-e235-4723-a31f-e98399c9900f\",                        [{\"type\": \"scatter\", \"x\": [1, 2, 3, 4, 5, 6, 7, 8, 9], \"y\": [0.43923778696327354, 0.6517175011276228, 0.780777812882145, 0.8586606933610716, 0.9030834956398235, 0.9381488013421466, 0.9703972910249774, 1.0000000000000002, 1.0000000000000002]}],                        {\"template\": {\"data\": {\"bar\": [{\"error_x\": {\"color\": \"#2a3f5f\"}, \"error_y\": {\"color\": \"#2a3f5f\"}, \"marker\": {\"line\": {\"color\": \"#E5ECF6\", \"width\": 0.5}}, \"type\": \"bar\"}], \"barpolar\": [{\"marker\": {\"line\": {\"color\": \"#E5ECF6\", \"width\": 0.5}}, \"type\": \"barpolar\"}], \"carpet\": [{\"aaxis\": {\"endlinecolor\": \"#2a3f5f\", \"gridcolor\": \"white\", \"linecolor\": \"white\", \"minorgridcolor\": \"white\", \"startlinecolor\": \"#2a3f5f\"}, \"baxis\": {\"endlinecolor\": \"#2a3f5f\", \"gridcolor\": \"white\", \"linecolor\": \"white\", \"minorgridcolor\": \"white\", \"startlinecolor\": \"#2a3f5f\"}, \"type\": \"carpet\"}], \"choropleth\": [{\"colorbar\": {\"outlinewidth\": 0, \"ticks\": \"\"}, \"type\": \"choropleth\"}], \"contour\": [{\"colorbar\": {\"outlinewidth\": 0, \"ticks\": \"\"}, \"colorscale\": [[0.0, \"#0d0887\"], [0.1111111111111111, \"#46039f\"], [0.2222222222222222, \"#7201a8\"], [0.3333333333333333, \"#9c179e\"], [0.4444444444444444, \"#bd3786\"], [0.5555555555555556, \"#d8576b\"], [0.6666666666666666, \"#ed7953\"], [0.7777777777777778, \"#fb9f3a\"], [0.8888888888888888, \"#fdca26\"], [1.0, \"#f0f921\"]], \"type\": \"contour\"}], \"contourcarpet\": [{\"colorbar\": {\"outlinewidth\": 0, \"ticks\": \"\"}, \"type\": \"contourcarpet\"}], \"heatmap\": [{\"colorbar\": {\"outlinewidth\": 0, \"ticks\": \"\"}, \"colorscale\": [[0.0, \"#0d0887\"], [0.1111111111111111, \"#46039f\"], [0.2222222222222222, \"#7201a8\"], [0.3333333333333333, \"#9c179e\"], [0.4444444444444444, \"#bd3786\"], [0.5555555555555556, \"#d8576b\"], [0.6666666666666666, \"#ed7953\"], [0.7777777777777778, \"#fb9f3a\"], [0.8888888888888888, \"#fdca26\"], [1.0, \"#f0f921\"]], \"type\": \"heatmap\"}], \"heatmapgl\": [{\"colorbar\": {\"outlinewidth\": 0, \"ticks\": \"\"}, \"colorscale\": [[0.0, \"#0d0887\"], [0.1111111111111111, \"#46039f\"], [0.2222222222222222, \"#7201a8\"], [0.3333333333333333, \"#9c179e\"], [0.4444444444444444, \"#bd3786\"], [0.5555555555555556, \"#d8576b\"], [0.6666666666666666, \"#ed7953\"], [0.7777777777777778, \"#fb9f3a\"], [0.8888888888888888, \"#fdca26\"], [1.0, \"#f0f921\"]], \"type\": \"heatmapgl\"}], \"histogram\": [{\"marker\": {\"colorbar\": {\"outlinewidth\": 0, \"ticks\": \"\"}}, \"type\": \"histogram\"}], \"histogram2d\": [{\"colorbar\": {\"outlinewidth\": 0, \"ticks\": \"\"}, \"colorscale\": [[0.0, \"#0d0887\"], [0.1111111111111111, \"#46039f\"], [0.2222222222222222, \"#7201a8\"], [0.3333333333333333, \"#9c179e\"], [0.4444444444444444, \"#bd3786\"], [0.5555555555555556, \"#d8576b\"], [0.6666666666666666, \"#ed7953\"], [0.7777777777777778, \"#fb9f3a\"], [0.8888888888888888, \"#fdca26\"], [1.0, \"#f0f921\"]], \"type\": \"histogram2d\"}], \"histogram2dcontour\": [{\"colorbar\": {\"outlinewidth\": 0, \"ticks\": \"\"}, \"colorscale\": [[0.0, \"#0d0887\"], [0.1111111111111111, \"#46039f\"], [0.2222222222222222, \"#7201a8\"], [0.3333333333333333, \"#9c179e\"], [0.4444444444444444, \"#bd3786\"], [0.5555555555555556, \"#d8576b\"], [0.6666666666666666, \"#ed7953\"], [0.7777777777777778, \"#fb9f3a\"], [0.8888888888888888, \"#fdca26\"], [1.0, \"#f0f921\"]], \"type\": \"histogram2dcontour\"}], \"mesh3d\": [{\"colorbar\": {\"outlinewidth\": 0, \"ticks\": \"\"}, \"type\": \"mesh3d\"}], \"parcoords\": [{\"line\": {\"colorbar\": {\"outlinewidth\": 0, \"ticks\": \"\"}}, \"type\": \"parcoords\"}], \"pie\": [{\"automargin\": true, \"type\": \"pie\"}], \"scatter\": [{\"marker\": {\"colorbar\": {\"outlinewidth\": 0, \"ticks\": \"\"}}, \"type\": \"scatter\"}], \"scatter3d\": [{\"line\": {\"colorbar\": {\"outlinewidth\": 0, \"ticks\": \"\"}}, \"marker\": {\"colorbar\": {\"outlinewidth\": 0, \"ticks\": \"\"}}, \"type\": \"scatter3d\"}], \"scattercarpet\": [{\"marker\": {\"colorbar\": {\"outlinewidth\": 0, \"ticks\": \"\"}}, \"type\": \"scattercarpet\"}], \"scattergeo\": [{\"marker\": {\"colorbar\": {\"outlinewidth\": 0, \"ticks\": \"\"}}, \"type\": \"scattergeo\"}], \"scattergl\": [{\"marker\": {\"colorbar\": {\"outlinewidth\": 0, \"ticks\": \"\"}}, \"type\": \"scattergl\"}], \"scattermapbox\": [{\"marker\": {\"colorbar\": {\"outlinewidth\": 0, \"ticks\": \"\"}}, \"type\": \"scattermapbox\"}], \"scatterpolar\": [{\"marker\": {\"colorbar\": {\"outlinewidth\": 0, \"ticks\": \"\"}}, \"type\": \"scatterpolar\"}], \"scatterpolargl\": [{\"marker\": {\"colorbar\": {\"outlinewidth\": 0, \"ticks\": \"\"}}, \"type\": \"scatterpolargl\"}], \"scatterternary\": [{\"marker\": {\"colorbar\": {\"outlinewidth\": 0, \"ticks\": \"\"}}, \"type\": \"scatterternary\"}], \"surface\": [{\"colorbar\": {\"outlinewidth\": 0, \"ticks\": \"\"}, \"colorscale\": [[0.0, \"#0d0887\"], [0.1111111111111111, \"#46039f\"], [0.2222222222222222, \"#7201a8\"], [0.3333333333333333, \"#9c179e\"], [0.4444444444444444, \"#bd3786\"], [0.5555555555555556, \"#d8576b\"], [0.6666666666666666, \"#ed7953\"], [0.7777777777777778, \"#fb9f3a\"], [0.8888888888888888, \"#fdca26\"], [1.0, \"#f0f921\"]], \"type\": \"surface\"}], \"table\": [{\"cells\": {\"fill\": {\"color\": \"#EBF0F8\"}, \"line\": {\"color\": \"white\"}}, \"header\": {\"fill\": {\"color\": \"#C8D4E3\"}, \"line\": {\"color\": \"white\"}}, \"type\": \"table\"}]}, \"layout\": {\"annotationdefaults\": {\"arrowcolor\": \"#2a3f5f\", \"arrowhead\": 0, \"arrowwidth\": 1}, \"autotypenumbers\": \"strict\", \"coloraxis\": {\"colorbar\": {\"outlinewidth\": 0, \"ticks\": \"\"}}, \"colorscale\": {\"diverging\": [[0, \"#8e0152\"], [0.1, \"#c51b7d\"], [0.2, \"#de77ae\"], [0.3, \"#f1b6da\"], [0.4, \"#fde0ef\"], [0.5, \"#f7f7f7\"], [0.6, \"#e6f5d0\"], [0.7, \"#b8e186\"], [0.8, \"#7fbc41\"], [0.9, \"#4d9221\"], [1, \"#276419\"]], \"sequential\": [[0.0, \"#0d0887\"], [0.1111111111111111, \"#46039f\"], [0.2222222222222222, \"#7201a8\"], [0.3333333333333333, \"#9c179e\"], [0.4444444444444444, \"#bd3786\"], [0.5555555555555556, \"#d8576b\"], [0.6666666666666666, \"#ed7953\"], [0.7777777777777778, \"#fb9f3a\"], [0.8888888888888888, \"#fdca26\"], [1.0, \"#f0f921\"]], \"sequentialminus\": [[0.0, \"#0d0887\"], [0.1111111111111111, \"#46039f\"], [0.2222222222222222, \"#7201a8\"], [0.3333333333333333, \"#9c179e\"], [0.4444444444444444, \"#bd3786\"], [0.5555555555555556, \"#d8576b\"], [0.6666666666666666, \"#ed7953\"], [0.7777777777777778, \"#fb9f3a\"], [0.8888888888888888, \"#fdca26\"], [1.0, \"#f0f921\"]]}, \"colorway\": [\"#636efa\", \"#EF553B\", \"#00cc96\", \"#ab63fa\", \"#FFA15A\", \"#19d3f3\", \"#FF6692\", \"#B6E880\", \"#FF97FF\", \"#FECB52\"], \"font\": {\"color\": \"#2a3f5f\"}, \"geo\": {\"bgcolor\": \"white\", \"lakecolor\": \"white\", \"landcolor\": \"#E5ECF6\", \"showlakes\": true, \"showland\": true, \"subunitcolor\": \"white\"}, \"hoverlabel\": {\"align\": \"left\"}, \"hovermode\": \"closest\", \"mapbox\": {\"style\": \"light\"}, \"paper_bgcolor\": \"white\", \"plot_bgcolor\": \"#E5ECF6\", \"polar\": {\"angularaxis\": {\"gridcolor\": \"white\", \"linecolor\": \"white\", \"ticks\": \"\"}, \"bgcolor\": \"#E5ECF6\", \"radialaxis\": {\"gridcolor\": \"white\", \"linecolor\": \"white\", \"ticks\": \"\"}}, \"scene\": {\"xaxis\": {\"backgroundcolor\": \"#E5ECF6\", \"gridcolor\": \"white\", \"gridwidth\": 2, \"linecolor\": \"white\", \"showbackground\": true, \"ticks\": \"\", \"zerolinecolor\": \"white\"}, \"yaxis\": {\"backgroundcolor\": \"#E5ECF6\", \"gridcolor\": \"white\", \"gridwidth\": 2, \"linecolor\": \"white\", \"showbackground\": true, \"ticks\": \"\", \"zerolinecolor\": \"white\"}, \"zaxis\": {\"backgroundcolor\": \"#E5ECF6\", \"gridcolor\": \"white\", \"gridwidth\": 2, \"linecolor\": \"white\", \"showbackground\": true, \"ticks\": \"\", \"zerolinecolor\": \"white\"}}, \"shapedefaults\": {\"line\": {\"color\": \"#2a3f5f\"}}, \"ternary\": {\"aaxis\": {\"gridcolor\": \"white\", \"linecolor\": \"white\", \"ticks\": \"\"}, \"baxis\": {\"gridcolor\": \"white\", \"linecolor\": \"white\", \"ticks\": \"\"}, \"bgcolor\": \"#E5ECF6\", \"caxis\": {\"gridcolor\": \"white\", \"linecolor\": \"white\", \"ticks\": \"\"}}, \"title\": {\"x\": 0.05}, \"xaxis\": {\"automargin\": true, \"gridcolor\": \"white\", \"linecolor\": \"white\", \"ticks\": \"\", \"title\": {\"standoff\": 15}, \"zerolinecolor\": \"white\", \"zerolinewidth\": 2}, \"yaxis\": {\"automargin\": true, \"gridcolor\": \"white\", \"linecolor\": \"white\", \"ticks\": \"\", \"title\": {\"standoff\": 15}, \"zerolinecolor\": \"white\", \"zerolinewidth\": 2}}}, \"title\": {\"text\": \"Clustering of FC0, 100 and 500\"}, \"xaxis\": {\"dtick\": 1.0, \"title\": {\"text\": \"Principal component\"}}, \"yaxis\": {\"title\": {\"text\": \"Variance explained (cummulative)\"}}},                        {\"responsive\": true}                    ).then(function(){\n",
       "                            \n",
       "var gd = document.getElementById('bac3b7dc-e235-4723-a31f-e98399c9900f');\n",
       "var x = new MutationObserver(function (mutations, observer) {{\n",
       "        var display = window.getComputedStyle(gd).display;\n",
       "        if (!display || display === 'none') {{\n",
       "            console.log([gd, 'removed!']);\n",
       "            Plotly.purge(gd);\n",
       "            observer.disconnect();\n",
       "        }}\n",
       "}});\n",
       "\n",
       "// Listen for the removal of the full notebook cells\n",
       "var notebookContainer = gd.closest('#notebook-container');\n",
       "if (notebookContainer) {{\n",
       "    x.observe(notebookContainer, {childList: true});\n",
       "}}\n",
       "\n",
       "// Listen for the clearing of the current output cell\n",
       "var outputEl = gd.closest('.output');\n",
       "if (outputEl) {{\n",
       "    x.observe(outputEl, {childList: true});\n",
       "}}\n",
       "\n",
       "                        })                };                });            </script>        </div>"
      ]
     },
     "metadata": {},
     "output_type": "display_data"
    },
    {
     "data": {
      "application/vnd.plotly.v1+json": {
       "config": {
        "plotlyServerURL": "https://plot.ly"
       },
       "data": [
        {
         "hovertemplate": "label=1_FC0_UNIMAN<br>PC1=%{x}<br>PC2=%{y}<br>PC3=%{z}<extra></extra>",
         "legendgroup": "1_FC0_UNIMAN",
         "marker": {
          "color": "purple",
          "symbol": "circle"
         },
         "mode": "markers",
         "name": "1_FC0_UNIMAN",
         "scene": "scene",
         "showlegend": true,
         "type": "scatter3d",
         "x": [
          -0.7437422839465898
         ],
         "y": [
          -0.4580136453176249
         ],
         "z": [
          0.665045868901636
         ]
        },
        {
         "hovertemplate": "label=2_FC0_UNIMAN<br>PC1=%{x}<br>PC2=%{y}<br>PC3=%{z}<extra></extra>",
         "legendgroup": "2_FC0_UNIMAN",
         "marker": {
          "color": "purple",
          "symbol": "circle"
         },
         "mode": "markers",
         "name": "2_FC0_UNIMAN",
         "scene": "scene",
         "showlegend": true,
         "type": "scatter3d",
         "x": [
          -0.9301282605125931
         ],
         "y": [
          -0.34326339033976394
         ],
         "z": [
          -0.2959320867525661
         ]
        },
        {
         "hovertemplate": "label=3_FC0_UNIMAN<br>PC1=%{x}<br>PC2=%{y}<br>PC3=%{z}<extra></extra>",
         "legendgroup": "3_FC0_UNIMAN",
         "marker": {
          "color": "purple",
          "symbol": "circle"
         },
         "mode": "markers",
         "name": "3_FC0_UNIMAN",
         "scene": "scene",
         "showlegend": true,
         "type": "scatter3d",
         "x": [
          -0.9793292591845305
         ],
         "y": [
          -0.40892106533014316
         ],
         "z": [
          -0.3497944416738553
         ]
        },
        {
         "hovertemplate": "label=1_FC100_UNIMAN<br>PC1=%{x}<br>PC2=%{y}<br>PC3=%{z}<extra></extra>",
         "legendgroup": "1_FC100_UNIMAN",
         "marker": {
          "color": "red",
          "symbol": "circle"
         },
         "mode": "markers",
         "name": "1_FC100_UNIMAN",
         "scene": "scene",
         "showlegend": true,
         "type": "scatter3d",
         "x": [
          -0.2050193881466165
         ],
         "y": [
          0.9346126082867717
         ],
         "z": [
          -0.4809351116432717
         ]
        },
        {
         "hovertemplate": "label=2_FC100_UNIMAN<br>PC1=%{x}<br>PC2=%{y}<br>PC3=%{z}<extra></extra>",
         "legendgroup": "2_FC100_UNIMAN",
         "marker": {
          "color": "red",
          "symbol": "circle"
         },
         "mode": "markers",
         "name": "2_FC100_UNIMAN",
         "scene": "scene",
         "showlegend": true,
         "type": "scatter3d",
         "x": [
          0.05887858150919112
         ],
         "y": [
          0.5797421245059886
         ],
         "z": [
          0.4534261096835814
         ]
        },
        {
         "hovertemplate": "label=3_FC100_UNIMAN<br>PC1=%{x}<br>PC2=%{y}<br>PC3=%{z}<extra></extra>",
         "legendgroup": "3_FC100_UNIMAN",
         "marker": {
          "color": "red",
          "symbol": "circle"
         },
         "mode": "markers",
         "name": "3_FC100_UNIMAN",
         "scene": "scene",
         "showlegend": true,
         "type": "scatter3d",
         "x": [
          0.002455495283818753
         ],
         "y": [
          0.6409274098600244
         ],
         "z": [
          0.3471274446700865
         ]
        },
        {
         "hovertemplate": "label=1_FC500_UNIMAN<br>PC1=%{x}<br>PC2=%{y}<br>PC3=%{z}<extra></extra>",
         "legendgroup": "1_FC500_UNIMAN",
         "marker": {
          "color": "turquoise",
          "symbol": "circle"
         },
         "mode": "markers",
         "name": "1_FC500_UNIMAN",
         "scene": "scene",
         "showlegend": true,
         "type": "scatter3d",
         "x": [
          1
         ],
         "y": [
          -0.3833352231202176
         ],
         "z": [
          0.12806075495541444
         ]
        },
        {
         "hovertemplate": "label=2_FC500_UNIMAN<br>PC1=%{x}<br>PC2=%{y}<br>PC3=%{z}<extra></extra>",
         "legendgroup": "2_FC500_UNIMAN",
         "marker": {
          "color": "turquoise",
          "symbol": "circle"
         },
         "mode": "markers",
         "name": "2_FC500_UNIMAN",
         "scene": "scene",
         "showlegend": true,
         "type": "scatter3d",
         "x": [
          0.975796289495838
         ],
         "y": [
          -0.3872149379390194
         ],
         "z": [
          0.03904176791190711
         ]
        },
        {
         "hovertemplate": "label=3_FC500_UNIMAN<br>PC1=%{x}<br>PC2=%{y}<br>PC3=%{z}<extra></extra>",
         "legendgroup": "3_FC500_UNIMAN",
         "marker": {
          "color": "turquoise",
          "symbol": "circle"
         },
         "mode": "markers",
         "name": "3_FC500_UNIMAN",
         "scene": "scene",
         "showlegend": true,
         "type": "scatter3d",
         "x": [
          0.8210888255014838
         ],
         "y": [
          -0.174533880606015
         ],
         "z": [
          -0.506040306052933
         ]
        }
       ],
       "layout": {
        "legend": {
         "title": {
          "text": "label"
         },
         "tracegroupgap": 0
        },
        "scene": {
         "domain": {
          "x": [
           0,
           1
          ],
          "y": [
           0,
           1
          ]
         },
         "xaxis": {
          "title": {
           "text": "PC1"
          }
         },
         "yaxis": {
          "title": {
           "text": "PC2"
          }
         },
         "zaxis": {
          "title": {
           "text": "PC3"
          }
         }
        },
        "template": {
         "data": {
          "bar": [
           {
            "error_x": {
             "color": "#2a3f5f"
            },
            "error_y": {
             "color": "#2a3f5f"
            },
            "marker": {
             "line": {
              "color": "#E5ECF6",
              "width": 0.5
             }
            },
            "type": "bar"
           }
          ],
          "barpolar": [
           {
            "marker": {
             "line": {
              "color": "#E5ECF6",
              "width": 0.5
             }
            },
            "type": "barpolar"
           }
          ],
          "carpet": [
           {
            "aaxis": {
             "endlinecolor": "#2a3f5f",
             "gridcolor": "white",
             "linecolor": "white",
             "minorgridcolor": "white",
             "startlinecolor": "#2a3f5f"
            },
            "baxis": {
             "endlinecolor": "#2a3f5f",
             "gridcolor": "white",
             "linecolor": "white",
             "minorgridcolor": "white",
             "startlinecolor": "#2a3f5f"
            },
            "type": "carpet"
           }
          ],
          "choropleth": [
           {
            "colorbar": {
             "outlinewidth": 0,
             "ticks": ""
            },
            "type": "choropleth"
           }
          ],
          "contour": [
           {
            "colorbar": {
             "outlinewidth": 0,
             "ticks": ""
            },
            "colorscale": [
             [
              0,
              "#0d0887"
             ],
             [
              0.1111111111111111,
              "#46039f"
             ],
             [
              0.2222222222222222,
              "#7201a8"
             ],
             [
              0.3333333333333333,
              "#9c179e"
             ],
             [
              0.4444444444444444,
              "#bd3786"
             ],
             [
              0.5555555555555556,
              "#d8576b"
             ],
             [
              0.6666666666666666,
              "#ed7953"
             ],
             [
              0.7777777777777778,
              "#fb9f3a"
             ],
             [
              0.8888888888888888,
              "#fdca26"
             ],
             [
              1,
              "#f0f921"
             ]
            ],
            "type": "contour"
           }
          ],
          "contourcarpet": [
           {
            "colorbar": {
             "outlinewidth": 0,
             "ticks": ""
            },
            "type": "contourcarpet"
           }
          ],
          "heatmap": [
           {
            "colorbar": {
             "outlinewidth": 0,
             "ticks": ""
            },
            "colorscale": [
             [
              0,
              "#0d0887"
             ],
             [
              0.1111111111111111,
              "#46039f"
             ],
             [
              0.2222222222222222,
              "#7201a8"
             ],
             [
              0.3333333333333333,
              "#9c179e"
             ],
             [
              0.4444444444444444,
              "#bd3786"
             ],
             [
              0.5555555555555556,
              "#d8576b"
             ],
             [
              0.6666666666666666,
              "#ed7953"
             ],
             [
              0.7777777777777778,
              "#fb9f3a"
             ],
             [
              0.8888888888888888,
              "#fdca26"
             ],
             [
              1,
              "#f0f921"
             ]
            ],
            "type": "heatmap"
           }
          ],
          "heatmapgl": [
           {
            "colorbar": {
             "outlinewidth": 0,
             "ticks": ""
            },
            "colorscale": [
             [
              0,
              "#0d0887"
             ],
             [
              0.1111111111111111,
              "#46039f"
             ],
             [
              0.2222222222222222,
              "#7201a8"
             ],
             [
              0.3333333333333333,
              "#9c179e"
             ],
             [
              0.4444444444444444,
              "#bd3786"
             ],
             [
              0.5555555555555556,
              "#d8576b"
             ],
             [
              0.6666666666666666,
              "#ed7953"
             ],
             [
              0.7777777777777778,
              "#fb9f3a"
             ],
             [
              0.8888888888888888,
              "#fdca26"
             ],
             [
              1,
              "#f0f921"
             ]
            ],
            "type": "heatmapgl"
           }
          ],
          "histogram": [
           {
            "marker": {
             "colorbar": {
              "outlinewidth": 0,
              "ticks": ""
             }
            },
            "type": "histogram"
           }
          ],
          "histogram2d": [
           {
            "colorbar": {
             "outlinewidth": 0,
             "ticks": ""
            },
            "colorscale": [
             [
              0,
              "#0d0887"
             ],
             [
              0.1111111111111111,
              "#46039f"
             ],
             [
              0.2222222222222222,
              "#7201a8"
             ],
             [
              0.3333333333333333,
              "#9c179e"
             ],
             [
              0.4444444444444444,
              "#bd3786"
             ],
             [
              0.5555555555555556,
              "#d8576b"
             ],
             [
              0.6666666666666666,
              "#ed7953"
             ],
             [
              0.7777777777777778,
              "#fb9f3a"
             ],
             [
              0.8888888888888888,
              "#fdca26"
             ],
             [
              1,
              "#f0f921"
             ]
            ],
            "type": "histogram2d"
           }
          ],
          "histogram2dcontour": [
           {
            "colorbar": {
             "outlinewidth": 0,
             "ticks": ""
            },
            "colorscale": [
             [
              0,
              "#0d0887"
             ],
             [
              0.1111111111111111,
              "#46039f"
             ],
             [
              0.2222222222222222,
              "#7201a8"
             ],
             [
              0.3333333333333333,
              "#9c179e"
             ],
             [
              0.4444444444444444,
              "#bd3786"
             ],
             [
              0.5555555555555556,
              "#d8576b"
             ],
             [
              0.6666666666666666,
              "#ed7953"
             ],
             [
              0.7777777777777778,
              "#fb9f3a"
             ],
             [
              0.8888888888888888,
              "#fdca26"
             ],
             [
              1,
              "#f0f921"
             ]
            ],
            "type": "histogram2dcontour"
           }
          ],
          "mesh3d": [
           {
            "colorbar": {
             "outlinewidth": 0,
             "ticks": ""
            },
            "type": "mesh3d"
           }
          ],
          "parcoords": [
           {
            "line": {
             "colorbar": {
              "outlinewidth": 0,
              "ticks": ""
             }
            },
            "type": "parcoords"
           }
          ],
          "pie": [
           {
            "automargin": true,
            "type": "pie"
           }
          ],
          "scatter": [
           {
            "marker": {
             "colorbar": {
              "outlinewidth": 0,
              "ticks": ""
             }
            },
            "type": "scatter"
           }
          ],
          "scatter3d": [
           {
            "line": {
             "colorbar": {
              "outlinewidth": 0,
              "ticks": ""
             }
            },
            "marker": {
             "colorbar": {
              "outlinewidth": 0,
              "ticks": ""
             }
            },
            "type": "scatter3d"
           }
          ],
          "scattercarpet": [
           {
            "marker": {
             "colorbar": {
              "outlinewidth": 0,
              "ticks": ""
             }
            },
            "type": "scattercarpet"
           }
          ],
          "scattergeo": [
           {
            "marker": {
             "colorbar": {
              "outlinewidth": 0,
              "ticks": ""
             }
            },
            "type": "scattergeo"
           }
          ],
          "scattergl": [
           {
            "marker": {
             "colorbar": {
              "outlinewidth": 0,
              "ticks": ""
             }
            },
            "type": "scattergl"
           }
          ],
          "scattermapbox": [
           {
            "marker": {
             "colorbar": {
              "outlinewidth": 0,
              "ticks": ""
             }
            },
            "type": "scattermapbox"
           }
          ],
          "scatterpolar": [
           {
            "marker": {
             "colorbar": {
              "outlinewidth": 0,
              "ticks": ""
             }
            },
            "type": "scatterpolar"
           }
          ],
          "scatterpolargl": [
           {
            "marker": {
             "colorbar": {
              "outlinewidth": 0,
              "ticks": ""
             }
            },
            "type": "scatterpolargl"
           }
          ],
          "scatterternary": [
           {
            "marker": {
             "colorbar": {
              "outlinewidth": 0,
              "ticks": ""
             }
            },
            "type": "scatterternary"
           }
          ],
          "surface": [
           {
            "colorbar": {
             "outlinewidth": 0,
             "ticks": ""
            },
            "colorscale": [
             [
              0,
              "#0d0887"
             ],
             [
              0.1111111111111111,
              "#46039f"
             ],
             [
              0.2222222222222222,
              "#7201a8"
             ],
             [
              0.3333333333333333,
              "#9c179e"
             ],
             [
              0.4444444444444444,
              "#bd3786"
             ],
             [
              0.5555555555555556,
              "#d8576b"
             ],
             [
              0.6666666666666666,
              "#ed7953"
             ],
             [
              0.7777777777777778,
              "#fb9f3a"
             ],
             [
              0.8888888888888888,
              "#fdca26"
             ],
             [
              1,
              "#f0f921"
             ]
            ],
            "type": "surface"
           }
          ],
          "table": [
           {
            "cells": {
             "fill": {
              "color": "#EBF0F8"
             },
             "line": {
              "color": "white"
             }
            },
            "header": {
             "fill": {
              "color": "#C8D4E3"
             },
             "line": {
              "color": "white"
             }
            },
            "type": "table"
           }
          ]
         },
         "layout": {
          "annotationdefaults": {
           "arrowcolor": "#2a3f5f",
           "arrowhead": 0,
           "arrowwidth": 1
          },
          "autotypenumbers": "strict",
          "coloraxis": {
           "colorbar": {
            "outlinewidth": 0,
            "ticks": ""
           }
          },
          "colorscale": {
           "diverging": [
            [
             0,
             "#8e0152"
            ],
            [
             0.1,
             "#c51b7d"
            ],
            [
             0.2,
             "#de77ae"
            ],
            [
             0.3,
             "#f1b6da"
            ],
            [
             0.4,
             "#fde0ef"
            ],
            [
             0.5,
             "#f7f7f7"
            ],
            [
             0.6,
             "#e6f5d0"
            ],
            [
             0.7,
             "#b8e186"
            ],
            [
             0.8,
             "#7fbc41"
            ],
            [
             0.9,
             "#4d9221"
            ],
            [
             1,
             "#276419"
            ]
           ],
           "sequential": [
            [
             0,
             "#0d0887"
            ],
            [
             0.1111111111111111,
             "#46039f"
            ],
            [
             0.2222222222222222,
             "#7201a8"
            ],
            [
             0.3333333333333333,
             "#9c179e"
            ],
            [
             0.4444444444444444,
             "#bd3786"
            ],
            [
             0.5555555555555556,
             "#d8576b"
            ],
            [
             0.6666666666666666,
             "#ed7953"
            ],
            [
             0.7777777777777778,
             "#fb9f3a"
            ],
            [
             0.8888888888888888,
             "#fdca26"
            ],
            [
             1,
             "#f0f921"
            ]
           ],
           "sequentialminus": [
            [
             0,
             "#0d0887"
            ],
            [
             0.1111111111111111,
             "#46039f"
            ],
            [
             0.2222222222222222,
             "#7201a8"
            ],
            [
             0.3333333333333333,
             "#9c179e"
            ],
            [
             0.4444444444444444,
             "#bd3786"
            ],
            [
             0.5555555555555556,
             "#d8576b"
            ],
            [
             0.6666666666666666,
             "#ed7953"
            ],
            [
             0.7777777777777778,
             "#fb9f3a"
            ],
            [
             0.8888888888888888,
             "#fdca26"
            ],
            [
             1,
             "#f0f921"
            ]
           ]
          },
          "colorway": [
           "#636efa",
           "#EF553B",
           "#00cc96",
           "#ab63fa",
           "#FFA15A",
           "#19d3f3",
           "#FF6692",
           "#B6E880",
           "#FF97FF",
           "#FECB52"
          ],
          "font": {
           "color": "#2a3f5f"
          },
          "geo": {
           "bgcolor": "white",
           "lakecolor": "white",
           "landcolor": "#E5ECF6",
           "showlakes": true,
           "showland": true,
           "subunitcolor": "white"
          },
          "hoverlabel": {
           "align": "left"
          },
          "hovermode": "closest",
          "mapbox": {
           "style": "light"
          },
          "paper_bgcolor": "white",
          "plot_bgcolor": "#E5ECF6",
          "polar": {
           "angularaxis": {
            "gridcolor": "white",
            "linecolor": "white",
            "ticks": ""
           },
           "bgcolor": "#E5ECF6",
           "radialaxis": {
            "gridcolor": "white",
            "linecolor": "white",
            "ticks": ""
           }
          },
          "scene": {
           "xaxis": {
            "backgroundcolor": "#E5ECF6",
            "gridcolor": "white",
            "gridwidth": 2,
            "linecolor": "white",
            "showbackground": true,
            "ticks": "",
            "zerolinecolor": "white"
           },
           "yaxis": {
            "backgroundcolor": "#E5ECF6",
            "gridcolor": "white",
            "gridwidth": 2,
            "linecolor": "white",
            "showbackground": true,
            "ticks": "",
            "zerolinecolor": "white"
           },
           "zaxis": {
            "backgroundcolor": "#E5ECF6",
            "gridcolor": "white",
            "gridwidth": 2,
            "linecolor": "white",
            "showbackground": true,
            "ticks": "",
            "zerolinecolor": "white"
           }
          },
          "shapedefaults": {
           "line": {
            "color": "#2a3f5f"
           }
          },
          "ternary": {
           "aaxis": {
            "gridcolor": "white",
            "linecolor": "white",
            "ticks": ""
           },
           "baxis": {
            "gridcolor": "white",
            "linecolor": "white",
            "ticks": ""
           },
           "bgcolor": "#E5ECF6",
           "caxis": {
            "gridcolor": "white",
            "linecolor": "white",
            "ticks": ""
           }
          },
          "title": {
           "x": 0.05
          },
          "xaxis": {
           "automargin": true,
           "gridcolor": "white",
           "linecolor": "white",
           "ticks": "",
           "title": {
            "standoff": 15
           },
           "zerolinecolor": "white",
           "zerolinewidth": 2
          },
          "yaxis": {
           "automargin": true,
           "gridcolor": "white",
           "linecolor": "white",
           "ticks": "",
           "title": {
            "standoff": 15
           },
           "zerolinecolor": "white",
           "zerolinewidth": 2
          }
         }
        },
        "title": {
         "text": "3D Clustering of FC0, 100 and 500"
        }
       }
      },
      "text/html": [
       "<div>                            <div id=\"7b2ddc89-aab0-49cc-8327-ea99e050d321\" class=\"plotly-graph-div\" style=\"height:525px; width:100%;\"></div>            <script type=\"text/javascript\">                require([\"plotly\"], function(Plotly) {                    window.PLOTLYENV=window.PLOTLYENV || {};                                    if (document.getElementById(\"7b2ddc89-aab0-49cc-8327-ea99e050d321\")) {                    Plotly.newPlot(                        \"7b2ddc89-aab0-49cc-8327-ea99e050d321\",                        [{\"hovertemplate\": \"label=1_FC0_UNIMAN<br>PC1=%{x}<br>PC2=%{y}<br>PC3=%{z}<extra></extra>\", \"legendgroup\": \"1_FC0_UNIMAN\", \"marker\": {\"color\": \"purple\", \"symbol\": \"circle\"}, \"mode\": \"markers\", \"name\": \"1_FC0_UNIMAN\", \"scene\": \"scene\", \"showlegend\": true, \"type\": \"scatter3d\", \"x\": [-0.7437422839465898], \"y\": [-0.4580136453176249], \"z\": [0.665045868901636]}, {\"hovertemplate\": \"label=2_FC0_UNIMAN<br>PC1=%{x}<br>PC2=%{y}<br>PC3=%{z}<extra></extra>\", \"legendgroup\": \"2_FC0_UNIMAN\", \"marker\": {\"color\": \"purple\", \"symbol\": \"circle\"}, \"mode\": \"markers\", \"name\": \"2_FC0_UNIMAN\", \"scene\": \"scene\", \"showlegend\": true, \"type\": \"scatter3d\", \"x\": [-0.9301282605125931], \"y\": [-0.34326339033976394], \"z\": [-0.2959320867525661]}, {\"hovertemplate\": \"label=3_FC0_UNIMAN<br>PC1=%{x}<br>PC2=%{y}<br>PC3=%{z}<extra></extra>\", \"legendgroup\": \"3_FC0_UNIMAN\", \"marker\": {\"color\": \"purple\", \"symbol\": \"circle\"}, \"mode\": \"markers\", \"name\": \"3_FC0_UNIMAN\", \"scene\": \"scene\", \"showlegend\": true, \"type\": \"scatter3d\", \"x\": [-0.9793292591845305], \"y\": [-0.40892106533014316], \"z\": [-0.3497944416738553]}, {\"hovertemplate\": \"label=1_FC100_UNIMAN<br>PC1=%{x}<br>PC2=%{y}<br>PC3=%{z}<extra></extra>\", \"legendgroup\": \"1_FC100_UNIMAN\", \"marker\": {\"color\": \"red\", \"symbol\": \"circle\"}, \"mode\": \"markers\", \"name\": \"1_FC100_UNIMAN\", \"scene\": \"scene\", \"showlegend\": true, \"type\": \"scatter3d\", \"x\": [-0.2050193881466165], \"y\": [0.9346126082867717], \"z\": [-0.4809351116432717]}, {\"hovertemplate\": \"label=2_FC100_UNIMAN<br>PC1=%{x}<br>PC2=%{y}<br>PC3=%{z}<extra></extra>\", \"legendgroup\": \"2_FC100_UNIMAN\", \"marker\": {\"color\": \"red\", \"symbol\": \"circle\"}, \"mode\": \"markers\", \"name\": \"2_FC100_UNIMAN\", \"scene\": \"scene\", \"showlegend\": true, \"type\": \"scatter3d\", \"x\": [0.05887858150919112], \"y\": [0.5797421245059886], \"z\": [0.4534261096835814]}, {\"hovertemplate\": \"label=3_FC100_UNIMAN<br>PC1=%{x}<br>PC2=%{y}<br>PC3=%{z}<extra></extra>\", \"legendgroup\": \"3_FC100_UNIMAN\", \"marker\": {\"color\": \"red\", \"symbol\": \"circle\"}, \"mode\": \"markers\", \"name\": \"3_FC100_UNIMAN\", \"scene\": \"scene\", \"showlegend\": true, \"type\": \"scatter3d\", \"x\": [0.002455495283818753], \"y\": [0.6409274098600244], \"z\": [0.3471274446700865]}, {\"hovertemplate\": \"label=1_FC500_UNIMAN<br>PC1=%{x}<br>PC2=%{y}<br>PC3=%{z}<extra></extra>\", \"legendgroup\": \"1_FC500_UNIMAN\", \"marker\": {\"color\": \"turquoise\", \"symbol\": \"circle\"}, \"mode\": \"markers\", \"name\": \"1_FC500_UNIMAN\", \"scene\": \"scene\", \"showlegend\": true, \"type\": \"scatter3d\", \"x\": [1.0], \"y\": [-0.3833352231202176], \"z\": [0.12806075495541444]}, {\"hovertemplate\": \"label=2_FC500_UNIMAN<br>PC1=%{x}<br>PC2=%{y}<br>PC3=%{z}<extra></extra>\", \"legendgroup\": \"2_FC500_UNIMAN\", \"marker\": {\"color\": \"turquoise\", \"symbol\": \"circle\"}, \"mode\": \"markers\", \"name\": \"2_FC500_UNIMAN\", \"scene\": \"scene\", \"showlegend\": true, \"type\": \"scatter3d\", \"x\": [0.975796289495838], \"y\": [-0.3872149379390194], \"z\": [0.03904176791190711]}, {\"hovertemplate\": \"label=3_FC500_UNIMAN<br>PC1=%{x}<br>PC2=%{y}<br>PC3=%{z}<extra></extra>\", \"legendgroup\": \"3_FC500_UNIMAN\", \"marker\": {\"color\": \"turquoise\", \"symbol\": \"circle\"}, \"mode\": \"markers\", \"name\": \"3_FC500_UNIMAN\", \"scene\": \"scene\", \"showlegend\": true, \"type\": \"scatter3d\", \"x\": [0.8210888255014838], \"y\": [-0.174533880606015], \"z\": [-0.506040306052933]}],                        {\"legend\": {\"title\": {\"text\": \"label\"}, \"tracegroupgap\": 0}, \"scene\": {\"domain\": {\"x\": [0.0, 1.0], \"y\": [0.0, 1.0]}, \"xaxis\": {\"title\": {\"text\": \"PC1\"}}, \"yaxis\": {\"title\": {\"text\": \"PC2\"}}, \"zaxis\": {\"title\": {\"text\": \"PC3\"}}}, \"template\": {\"data\": {\"bar\": [{\"error_x\": {\"color\": \"#2a3f5f\"}, \"error_y\": {\"color\": \"#2a3f5f\"}, \"marker\": {\"line\": {\"color\": \"#E5ECF6\", \"width\": 0.5}}, \"type\": \"bar\"}], \"barpolar\": [{\"marker\": {\"line\": {\"color\": \"#E5ECF6\", \"width\": 0.5}}, \"type\": \"barpolar\"}], \"carpet\": [{\"aaxis\": {\"endlinecolor\": \"#2a3f5f\", \"gridcolor\": \"white\", \"linecolor\": \"white\", \"minorgridcolor\": \"white\", \"startlinecolor\": \"#2a3f5f\"}, \"baxis\": {\"endlinecolor\": \"#2a3f5f\", \"gridcolor\": \"white\", \"linecolor\": \"white\", \"minorgridcolor\": \"white\", \"startlinecolor\": \"#2a3f5f\"}, \"type\": \"carpet\"}], \"choropleth\": [{\"colorbar\": {\"outlinewidth\": 0, \"ticks\": \"\"}, \"type\": \"choropleth\"}], \"contour\": [{\"colorbar\": {\"outlinewidth\": 0, \"ticks\": \"\"}, \"colorscale\": [[0.0, \"#0d0887\"], [0.1111111111111111, \"#46039f\"], [0.2222222222222222, \"#7201a8\"], [0.3333333333333333, \"#9c179e\"], [0.4444444444444444, \"#bd3786\"], [0.5555555555555556, \"#d8576b\"], [0.6666666666666666, \"#ed7953\"], [0.7777777777777778, \"#fb9f3a\"], [0.8888888888888888, \"#fdca26\"], [1.0, \"#f0f921\"]], \"type\": \"contour\"}], \"contourcarpet\": [{\"colorbar\": {\"outlinewidth\": 0, \"ticks\": \"\"}, \"type\": \"contourcarpet\"}], \"heatmap\": [{\"colorbar\": {\"outlinewidth\": 0, \"ticks\": \"\"}, \"colorscale\": [[0.0, \"#0d0887\"], [0.1111111111111111, \"#46039f\"], [0.2222222222222222, \"#7201a8\"], [0.3333333333333333, \"#9c179e\"], [0.4444444444444444, \"#bd3786\"], [0.5555555555555556, \"#d8576b\"], [0.6666666666666666, \"#ed7953\"], [0.7777777777777778, \"#fb9f3a\"], [0.8888888888888888, \"#fdca26\"], [1.0, \"#f0f921\"]], \"type\": \"heatmap\"}], \"heatmapgl\": [{\"colorbar\": {\"outlinewidth\": 0, \"ticks\": \"\"}, \"colorscale\": [[0.0, \"#0d0887\"], [0.1111111111111111, \"#46039f\"], [0.2222222222222222, \"#7201a8\"], [0.3333333333333333, \"#9c179e\"], [0.4444444444444444, \"#bd3786\"], [0.5555555555555556, \"#d8576b\"], [0.6666666666666666, \"#ed7953\"], [0.7777777777777778, \"#fb9f3a\"], [0.8888888888888888, \"#fdca26\"], [1.0, \"#f0f921\"]], \"type\": \"heatmapgl\"}], \"histogram\": [{\"marker\": {\"colorbar\": {\"outlinewidth\": 0, \"ticks\": \"\"}}, \"type\": \"histogram\"}], \"histogram2d\": [{\"colorbar\": {\"outlinewidth\": 0, \"ticks\": \"\"}, \"colorscale\": [[0.0, \"#0d0887\"], [0.1111111111111111, \"#46039f\"], [0.2222222222222222, \"#7201a8\"], [0.3333333333333333, \"#9c179e\"], [0.4444444444444444, \"#bd3786\"], [0.5555555555555556, \"#d8576b\"], [0.6666666666666666, \"#ed7953\"], [0.7777777777777778, \"#fb9f3a\"], [0.8888888888888888, \"#fdca26\"], [1.0, \"#f0f921\"]], \"type\": \"histogram2d\"}], \"histogram2dcontour\": [{\"colorbar\": {\"outlinewidth\": 0, \"ticks\": \"\"}, \"colorscale\": [[0.0, \"#0d0887\"], [0.1111111111111111, \"#46039f\"], [0.2222222222222222, \"#7201a8\"], [0.3333333333333333, \"#9c179e\"], [0.4444444444444444, \"#bd3786\"], [0.5555555555555556, \"#d8576b\"], [0.6666666666666666, \"#ed7953\"], [0.7777777777777778, \"#fb9f3a\"], [0.8888888888888888, \"#fdca26\"], [1.0, \"#f0f921\"]], \"type\": \"histogram2dcontour\"}], \"mesh3d\": [{\"colorbar\": {\"outlinewidth\": 0, \"ticks\": \"\"}, \"type\": \"mesh3d\"}], \"parcoords\": [{\"line\": {\"colorbar\": {\"outlinewidth\": 0, \"ticks\": \"\"}}, \"type\": \"parcoords\"}], \"pie\": [{\"automargin\": true, \"type\": \"pie\"}], \"scatter\": [{\"marker\": {\"colorbar\": {\"outlinewidth\": 0, \"ticks\": \"\"}}, \"type\": \"scatter\"}], \"scatter3d\": [{\"line\": {\"colorbar\": {\"outlinewidth\": 0, \"ticks\": \"\"}}, \"marker\": {\"colorbar\": {\"outlinewidth\": 0, \"ticks\": \"\"}}, \"type\": \"scatter3d\"}], \"scattercarpet\": [{\"marker\": {\"colorbar\": {\"outlinewidth\": 0, \"ticks\": \"\"}}, \"type\": \"scattercarpet\"}], \"scattergeo\": [{\"marker\": {\"colorbar\": {\"outlinewidth\": 0, \"ticks\": \"\"}}, \"type\": \"scattergeo\"}], \"scattergl\": [{\"marker\": {\"colorbar\": {\"outlinewidth\": 0, \"ticks\": \"\"}}, \"type\": \"scattergl\"}], \"scattermapbox\": [{\"marker\": {\"colorbar\": {\"outlinewidth\": 0, \"ticks\": \"\"}}, \"type\": \"scattermapbox\"}], \"scatterpolar\": [{\"marker\": {\"colorbar\": {\"outlinewidth\": 0, \"ticks\": \"\"}}, \"type\": \"scatterpolar\"}], \"scatterpolargl\": [{\"marker\": {\"colorbar\": {\"outlinewidth\": 0, \"ticks\": \"\"}}, \"type\": \"scatterpolargl\"}], \"scatterternary\": [{\"marker\": {\"colorbar\": {\"outlinewidth\": 0, \"ticks\": \"\"}}, \"type\": \"scatterternary\"}], \"surface\": [{\"colorbar\": {\"outlinewidth\": 0, \"ticks\": \"\"}, \"colorscale\": [[0.0, \"#0d0887\"], [0.1111111111111111, \"#46039f\"], [0.2222222222222222, \"#7201a8\"], [0.3333333333333333, \"#9c179e\"], [0.4444444444444444, \"#bd3786\"], [0.5555555555555556, \"#d8576b\"], [0.6666666666666666, \"#ed7953\"], [0.7777777777777778, \"#fb9f3a\"], [0.8888888888888888, \"#fdca26\"], [1.0, \"#f0f921\"]], \"type\": \"surface\"}], \"table\": [{\"cells\": {\"fill\": {\"color\": \"#EBF0F8\"}, \"line\": {\"color\": \"white\"}}, \"header\": {\"fill\": {\"color\": \"#C8D4E3\"}, \"line\": {\"color\": \"white\"}}, \"type\": \"table\"}]}, \"layout\": {\"annotationdefaults\": {\"arrowcolor\": \"#2a3f5f\", \"arrowhead\": 0, \"arrowwidth\": 1}, \"autotypenumbers\": \"strict\", \"coloraxis\": {\"colorbar\": {\"outlinewidth\": 0, \"ticks\": \"\"}}, \"colorscale\": {\"diverging\": [[0, \"#8e0152\"], [0.1, \"#c51b7d\"], [0.2, \"#de77ae\"], [0.3, \"#f1b6da\"], [0.4, \"#fde0ef\"], [0.5, \"#f7f7f7\"], [0.6, \"#e6f5d0\"], [0.7, \"#b8e186\"], [0.8, \"#7fbc41\"], [0.9, \"#4d9221\"], [1, \"#276419\"]], \"sequential\": [[0.0, \"#0d0887\"], [0.1111111111111111, \"#46039f\"], [0.2222222222222222, \"#7201a8\"], [0.3333333333333333, \"#9c179e\"], [0.4444444444444444, \"#bd3786\"], [0.5555555555555556, \"#d8576b\"], [0.6666666666666666, \"#ed7953\"], [0.7777777777777778, \"#fb9f3a\"], [0.8888888888888888, \"#fdca26\"], [1.0, \"#f0f921\"]], \"sequentialminus\": [[0.0, \"#0d0887\"], [0.1111111111111111, \"#46039f\"], [0.2222222222222222, \"#7201a8\"], [0.3333333333333333, \"#9c179e\"], [0.4444444444444444, \"#bd3786\"], [0.5555555555555556, \"#d8576b\"], [0.6666666666666666, \"#ed7953\"], [0.7777777777777778, \"#fb9f3a\"], [0.8888888888888888, \"#fdca26\"], [1.0, \"#f0f921\"]]}, \"colorway\": [\"#636efa\", \"#EF553B\", \"#00cc96\", \"#ab63fa\", \"#FFA15A\", \"#19d3f3\", \"#FF6692\", \"#B6E880\", \"#FF97FF\", \"#FECB52\"], \"font\": {\"color\": \"#2a3f5f\"}, \"geo\": {\"bgcolor\": \"white\", \"lakecolor\": \"white\", \"landcolor\": \"#E5ECF6\", \"showlakes\": true, \"showland\": true, \"subunitcolor\": \"white\"}, \"hoverlabel\": {\"align\": \"left\"}, \"hovermode\": \"closest\", \"mapbox\": {\"style\": \"light\"}, \"paper_bgcolor\": \"white\", \"plot_bgcolor\": \"#E5ECF6\", \"polar\": {\"angularaxis\": {\"gridcolor\": \"white\", \"linecolor\": \"white\", \"ticks\": \"\"}, \"bgcolor\": \"#E5ECF6\", \"radialaxis\": {\"gridcolor\": \"white\", \"linecolor\": \"white\", \"ticks\": \"\"}}, \"scene\": {\"xaxis\": {\"backgroundcolor\": \"#E5ECF6\", \"gridcolor\": \"white\", \"gridwidth\": 2, \"linecolor\": \"white\", \"showbackground\": true, \"ticks\": \"\", \"zerolinecolor\": \"white\"}, \"yaxis\": {\"backgroundcolor\": \"#E5ECF6\", \"gridcolor\": \"white\", \"gridwidth\": 2, \"linecolor\": \"white\", \"showbackground\": true, \"ticks\": \"\", \"zerolinecolor\": \"white\"}, \"zaxis\": {\"backgroundcolor\": \"#E5ECF6\", \"gridcolor\": \"white\", \"gridwidth\": 2, \"linecolor\": \"white\", \"showbackground\": true, \"ticks\": \"\", \"zerolinecolor\": \"white\"}}, \"shapedefaults\": {\"line\": {\"color\": \"#2a3f5f\"}}, \"ternary\": {\"aaxis\": {\"gridcolor\": \"white\", \"linecolor\": \"white\", \"ticks\": \"\"}, \"baxis\": {\"gridcolor\": \"white\", \"linecolor\": \"white\", \"ticks\": \"\"}, \"bgcolor\": \"#E5ECF6\", \"caxis\": {\"gridcolor\": \"white\", \"linecolor\": \"white\", \"ticks\": \"\"}}, \"title\": {\"x\": 0.05}, \"xaxis\": {\"automargin\": true, \"gridcolor\": \"white\", \"linecolor\": \"white\", \"ticks\": \"\", \"title\": {\"standoff\": 15}, \"zerolinecolor\": \"white\", \"zerolinewidth\": 2}, \"yaxis\": {\"automargin\": true, \"gridcolor\": \"white\", \"linecolor\": \"white\", \"ticks\": \"\", \"title\": {\"standoff\": 15}, \"zerolinecolor\": \"white\", \"zerolinewidth\": 2}}}, \"title\": {\"text\": \"3D Clustering of FC0, 100 and 500\"}},                        {\"responsive\": true}                    ).then(function(){\n",
       "                            \n",
       "var gd = document.getElementById('7b2ddc89-aab0-49cc-8327-ea99e050d321');\n",
       "var x = new MutationObserver(function (mutations, observer) {{\n",
       "        var display = window.getComputedStyle(gd).display;\n",
       "        if (!display || display === 'none') {{\n",
       "            console.log([gd, 'removed!']);\n",
       "            Plotly.purge(gd);\n",
       "            observer.disconnect();\n",
       "        }}\n",
       "}});\n",
       "\n",
       "// Listen for the removal of the full notebook cells\n",
       "var notebookContainer = gd.closest('#notebook-container');\n",
       "if (notebookContainer) {{\n",
       "    x.observe(notebookContainer, {childList: true});\n",
       "}}\n",
       "\n",
       "// Listen for the clearing of the current output cell\n",
       "var outputEl = gd.closest('.output');\n",
       "if (outputEl) {{\n",
       "    x.observe(outputEl, {childList: true});\n",
       "}}\n",
       "\n",
       "                        })                };                });            </script>        </div>"
      ]
     },
     "metadata": {},
     "output_type": "display_data"
    }
   ],
   "source": [
    "#2D PCA\n",
    "XPC = 'PC1' # Principal component shown on x-axis\n",
    "YPC = 'PC2' # Principal component shown on y-axis\n",
    "fig = px.scatter(scores, x=XPC, y=YPC, color='label', hover_data=[XPC,YPC], title='2D Clustering of FC0, 100 and 500', color_discrete_map={\"1_FC0_UNIMAN\":\"purple\", \"2_FC0_UNIMAN\":\"purple\", \"3_FC0_UNIMAN\":\"purple\", \"1_FC100_UNIMAN\":\"red\", \"2_FC100_UNIMAN\":\"red\", \"3_FC100_UNIMAN\":\"red\", \"1_FC500_UNIMAN\":\"turquoise\", \"2_FC500_UNIMAN\":\"turquoise\", \"3_FC500_UNIMAN\":\"turquoise\"})\n",
    "fig.update_traces(mode='markers', marker_line_width=1, marker_size=8)\n",
    "fig.show()\n",
    "\n",
    "x = np.arange(1,len(fracs)+1)\n",
    "y = np.array(fracs)\n",
    "fig = go.Figure(data=go.Scatter(x=x, y=y))  \n",
    "fig.update_layout(xaxis_title='Principal component', yaxis_title='Variance explained (fraction)',\n",
    "                  xaxis = dict(dtick = 1.0), title='Scree plot for the clustering of FC0, 100 and 500')\n",
    "fig.show()\n",
    "\n",
    "x = np.arange(1,len(fracs)+1)\n",
    "y = np.cumsum(fracs)\n",
    "fig = go.Figure(data=go.Scatter(x=x, y=y))\n",
    "fig.update_layout(xaxis_title='Principal component', yaxis_title='Variance explained (cummulative)',\n",
    "                 xaxis = dict(dtick = 1.0), title='Clustering of FC0, 100 and 500')\n",
    "fig.show()\n",
    "\n",
    "fig = px.scatter_3d(scores, x='PC1', y='PC2', z='PC3', color='label', title='3D Clustering of FC0, 100 and 500', color_discrete_map={\"1_FC0_UNIMAN\":\"purple\", \"2_FC0_UNIMAN\":\"purple\", \"3_FC0_UNIMAN\":\"purple\", \"1_FC100_UNIMAN\":\"red\", \"2_FC100_UNIMAN\":\"red\", \"3_FC100_UNIMAN\":\"red\", \"1_FC500_UNIMAN\":\"turquoise\", \"2_FC500_UNIMAN\":\"turquoise\", \"3_FC500_UNIMAN\":\"turquoise\"})\n",
    "fig.show()"
   ]
  },
  {
   "cell_type": "code",
   "execution_count": 12,
   "id": "dutch-marine",
   "metadata": {},
   "outputs": [
    {
     "data": {
      "text/html": [
       "<div>\n",
       "<style scoped>\n",
       "    .dataframe tbody tr th:only-of-type {\n",
       "        vertical-align: middle;\n",
       "    }\n",
       "\n",
       "    .dataframe tbody tr th {\n",
       "        vertical-align: top;\n",
       "    }\n",
       "\n",
       "    .dataframe thead th {\n",
       "        text-align: right;\n",
       "    }\n",
       "</style>\n",
       "<table border=\"1\" class=\"dataframe\">\n",
       "  <thead>\n",
       "    <tr style=\"text-align: right;\">\n",
       "      <th>Accession</th>\n",
       "      <th>1B18_HUMAN</th>\n",
       "      <th>2AAA_HUMAN</th>\n",
       "      <th>2AAB_HUMAN</th>\n",
       "      <th>4EBP2_HUMAN;4EBP1_HUMAN;4EBP3_HUMAN</th>\n",
       "      <th>6PGD_HUMAN</th>\n",
       "      <th>6PGL_HUMAN</th>\n",
       "      <th>1433B_HUMAN</th>\n",
       "      <th>1433E_HUMAN</th>\n",
       "      <th>1433F_HUMAN</th>\n",
       "      <th>1433G_HUMAN</th>\n",
       "      <th>...</th>\n",
       "      <th>GNA12_HUMAN</th>\n",
       "      <th>SMC2_HUMAN</th>\n",
       "      <th>PPIH_HUMAN</th>\n",
       "      <th>SF3B1_HUMAN</th>\n",
       "      <th>KS6B2_HUMAN</th>\n",
       "      <th>BRK1_HUMAN</th>\n",
       "      <th>PDZD2_HUMAN</th>\n",
       "      <th>SQSTM_HUMAN</th>\n",
       "      <th>VP26A_HUMAN</th>\n",
       "      <th>CC149_HUMAN</th>\n",
       "    </tr>\n",
       "  </thead>\n",
       "  <tbody>\n",
       "    <tr>\n",
       "      <th>1_FC0_UNIMAN</th>\n",
       "      <td>135.786390</td>\n",
       "      <td>2717.152441</td>\n",
       "      <td>0.957894</td>\n",
       "      <td>713.186543</td>\n",
       "      <td>2553.155806</td>\n",
       "      <td>1553.432810</td>\n",
       "      <td>9404.851776</td>\n",
       "      <td>12134.891290</td>\n",
       "      <td>2083.855075</td>\n",
       "      <td>3221.205278</td>\n",
       "      <td>...</td>\n",
       "      <td>1383.424836</td>\n",
       "      <td>0.000000</td>\n",
       "      <td>15069.648050</td>\n",
       "      <td>4826.286732</td>\n",
       "      <td>0.000000</td>\n",
       "      <td>98.556887</td>\n",
       "      <td>1936.422674</td>\n",
       "      <td>2609.835234</td>\n",
       "      <td>735.099695</td>\n",
       "      <td>11677.882160</td>\n",
       "    </tr>\n",
       "    <tr>\n",
       "      <th>2_FC0_UNIMAN</th>\n",
       "      <td>10.772416</td>\n",
       "      <td>3136.231976</td>\n",
       "      <td>2.629231</td>\n",
       "      <td>868.618474</td>\n",
       "      <td>2474.713822</td>\n",
       "      <td>1392.897386</td>\n",
       "      <td>10361.927580</td>\n",
       "      <td>10947.187770</td>\n",
       "      <td>1987.484437</td>\n",
       "      <td>3506.647732</td>\n",
       "      <td>...</td>\n",
       "      <td>1249.159160</td>\n",
       "      <td>0.000000</td>\n",
       "      <td>11550.864400</td>\n",
       "      <td>3855.626138</td>\n",
       "      <td>0.000000</td>\n",
       "      <td>0.000000</td>\n",
       "      <td>1879.789849</td>\n",
       "      <td>2786.084578</td>\n",
       "      <td>659.152613</td>\n",
       "      <td>726.751695</td>\n",
       "    </tr>\n",
       "    <tr>\n",
       "      <th>3_FC0_UNIMAN</th>\n",
       "      <td>36.970907</td>\n",
       "      <td>2999.512457</td>\n",
       "      <td>1.850372</td>\n",
       "      <td>824.142912</td>\n",
       "      <td>2695.017392</td>\n",
       "      <td>1663.945952</td>\n",
       "      <td>9438.361047</td>\n",
       "      <td>11794.136990</td>\n",
       "      <td>2162.094395</td>\n",
       "      <td>3659.968211</td>\n",
       "      <td>...</td>\n",
       "      <td>2555.187122</td>\n",
       "      <td>0.000000</td>\n",
       "      <td>12840.776210</td>\n",
       "      <td>4007.991453</td>\n",
       "      <td>0.000000</td>\n",
       "      <td>0.000000</td>\n",
       "      <td>2057.976458</td>\n",
       "      <td>3283.612188</td>\n",
       "      <td>1100.849505</td>\n",
       "      <td>1008.956092</td>\n",
       "    </tr>\n",
       "    <tr>\n",
       "      <th>1_FC100_UNIMAN</th>\n",
       "      <td>6.934908</td>\n",
       "      <td>3005.875169</td>\n",
       "      <td>0.195782</td>\n",
       "      <td>597.389097</td>\n",
       "      <td>2826.013498</td>\n",
       "      <td>1036.265158</td>\n",
       "      <td>7802.223217</td>\n",
       "      <td>8535.870247</td>\n",
       "      <td>2219.713738</td>\n",
       "      <td>3423.353485</td>\n",
       "      <td>...</td>\n",
       "      <td>1459.031062</td>\n",
       "      <td>0.000000</td>\n",
       "      <td>10518.028920</td>\n",
       "      <td>3798.314783</td>\n",
       "      <td>0.000000</td>\n",
       "      <td>40.164241</td>\n",
       "      <td>1013.182087</td>\n",
       "      <td>1868.223448</td>\n",
       "      <td>656.675534</td>\n",
       "      <td>1874.429476</td>\n",
       "    </tr>\n",
       "    <tr>\n",
       "      <th>2_FC100_UNIMAN</th>\n",
       "      <td>45.906352</td>\n",
       "      <td>2795.020062</td>\n",
       "      <td>0.128790</td>\n",
       "      <td>565.994562</td>\n",
       "      <td>2642.527782</td>\n",
       "      <td>966.392636</td>\n",
       "      <td>8231.534193</td>\n",
       "      <td>9481.924830</td>\n",
       "      <td>1972.722544</td>\n",
       "      <td>3021.289539</td>\n",
       "      <td>...</td>\n",
       "      <td>1596.916623</td>\n",
       "      <td>0.000000</td>\n",
       "      <td>12331.798240</td>\n",
       "      <td>3343.531266</td>\n",
       "      <td>19.658531</td>\n",
       "      <td>90.792069</td>\n",
       "      <td>1753.996543</td>\n",
       "      <td>1108.381242</td>\n",
       "      <td>263.825213</td>\n",
       "      <td>5130.321783</td>\n",
       "    </tr>\n",
       "    <tr>\n",
       "      <th>3_FC100_UNIMAN</th>\n",
       "      <td>16.630828</td>\n",
       "      <td>2821.660669</td>\n",
       "      <td>0.368443</td>\n",
       "      <td>603.498396</td>\n",
       "      <td>2649.418069</td>\n",
       "      <td>911.539294</td>\n",
       "      <td>7207.384058</td>\n",
       "      <td>9357.748538</td>\n",
       "      <td>1666.463579</td>\n",
       "      <td>3039.437635</td>\n",
       "      <td>...</td>\n",
       "      <td>944.553160</td>\n",
       "      <td>5.020573</td>\n",
       "      <td>11514.501490</td>\n",
       "      <td>3475.156301</td>\n",
       "      <td>8.968705</td>\n",
       "      <td>80.584932</td>\n",
       "      <td>1794.266837</td>\n",
       "      <td>1483.254327</td>\n",
       "      <td>366.702038</td>\n",
       "      <td>4683.595291</td>\n",
       "    </tr>\n",
       "    <tr>\n",
       "      <th>1_FC500_UNIMAN</th>\n",
       "      <td>34.062256</td>\n",
       "      <td>2347.035699</td>\n",
       "      <td>5.536934</td>\n",
       "      <td>681.696694</td>\n",
       "      <td>2324.440121</td>\n",
       "      <td>904.307932</td>\n",
       "      <td>5982.145641</td>\n",
       "      <td>9142.506278</td>\n",
       "      <td>1438.015395</td>\n",
       "      <td>2814.279645</td>\n",
       "      <td>...</td>\n",
       "      <td>603.479544</td>\n",
       "      <td>50.786320</td>\n",
       "      <td>5986.918454</td>\n",
       "      <td>2227.797289</td>\n",
       "      <td>26.742719</td>\n",
       "      <td>6.401598</td>\n",
       "      <td>1300.057608</td>\n",
       "      <td>1194.204777</td>\n",
       "      <td>434.087824</td>\n",
       "      <td>4424.153049</td>\n",
       "    </tr>\n",
       "    <tr>\n",
       "      <th>2_FC500_UNIMAN</th>\n",
       "      <td>21.822042</td>\n",
       "      <td>2334.977402</td>\n",
       "      <td>2.783264</td>\n",
       "      <td>658.935351</td>\n",
       "      <td>2307.042407</td>\n",
       "      <td>823.108470</td>\n",
       "      <td>6645.799110</td>\n",
       "      <td>8890.837549</td>\n",
       "      <td>1251.276573</td>\n",
       "      <td>2882.666074</td>\n",
       "      <td>...</td>\n",
       "      <td>804.005369</td>\n",
       "      <td>31.827833</td>\n",
       "      <td>4912.573754</td>\n",
       "      <td>1400.202232</td>\n",
       "      <td>12.389011</td>\n",
       "      <td>10.217394</td>\n",
       "      <td>1319.553976</td>\n",
       "      <td>1221.458516</td>\n",
       "      <td>534.910767</td>\n",
       "      <td>3339.198646</td>\n",
       "    </tr>\n",
       "    <tr>\n",
       "      <th>3_FC500_UNIMAN</th>\n",
       "      <td>9.196085</td>\n",
       "      <td>2740.521080</td>\n",
       "      <td>4.803573</td>\n",
       "      <td>712.519704</td>\n",
       "      <td>2446.558760</td>\n",
       "      <td>826.493416</td>\n",
       "      <td>6233.009015</td>\n",
       "      <td>8620.934413</td>\n",
       "      <td>1537.268474</td>\n",
       "      <td>3152.588740</td>\n",
       "      <td>...</td>\n",
       "      <td>840.597858</td>\n",
       "      <td>0.000000</td>\n",
       "      <td>4950.512730</td>\n",
       "      <td>2444.526916</td>\n",
       "      <td>7.338352</td>\n",
       "      <td>4.239393</td>\n",
       "      <td>1194.265009</td>\n",
       "      <td>1213.826232</td>\n",
       "      <td>430.708927</td>\n",
       "      <td>542.741078</td>\n",
       "    </tr>\n",
       "  </tbody>\n",
       "</table>\n",
       "<p>9 rows × 2628 columns</p>\n",
       "</div>"
      ],
      "text/plain": [
       "Accession       1B18_HUMAN   2AAA_HUMAN  2AAB_HUMAN  \\\n",
       "1_FC0_UNIMAN    135.786390  2717.152441    0.957894   \n",
       "2_FC0_UNIMAN     10.772416  3136.231976    2.629231   \n",
       "3_FC0_UNIMAN     36.970907  2999.512457    1.850372   \n",
       "1_FC100_UNIMAN    6.934908  3005.875169    0.195782   \n",
       "2_FC100_UNIMAN   45.906352  2795.020062    0.128790   \n",
       "3_FC100_UNIMAN   16.630828  2821.660669    0.368443   \n",
       "1_FC500_UNIMAN   34.062256  2347.035699    5.536934   \n",
       "2_FC500_UNIMAN   21.822042  2334.977402    2.783264   \n",
       "3_FC500_UNIMAN    9.196085  2740.521080    4.803573   \n",
       "\n",
       "Accession       4EBP2_HUMAN;4EBP1_HUMAN;4EBP3_HUMAN   6PGD_HUMAN   6PGL_HUMAN  \\\n",
       "1_FC0_UNIMAN                             713.186543  2553.155806  1553.432810   \n",
       "2_FC0_UNIMAN                             868.618474  2474.713822  1392.897386   \n",
       "3_FC0_UNIMAN                             824.142912  2695.017392  1663.945952   \n",
       "1_FC100_UNIMAN                           597.389097  2826.013498  1036.265158   \n",
       "2_FC100_UNIMAN                           565.994562  2642.527782   966.392636   \n",
       "3_FC100_UNIMAN                           603.498396  2649.418069   911.539294   \n",
       "1_FC500_UNIMAN                           681.696694  2324.440121   904.307932   \n",
       "2_FC500_UNIMAN                           658.935351  2307.042407   823.108470   \n",
       "3_FC500_UNIMAN                           712.519704  2446.558760   826.493416   \n",
       "\n",
       "Accession        1433B_HUMAN   1433E_HUMAN  1433F_HUMAN  1433G_HUMAN  ...  \\\n",
       "1_FC0_UNIMAN     9404.851776  12134.891290  2083.855075  3221.205278  ...   \n",
       "2_FC0_UNIMAN    10361.927580  10947.187770  1987.484437  3506.647732  ...   \n",
       "3_FC0_UNIMAN     9438.361047  11794.136990  2162.094395  3659.968211  ...   \n",
       "1_FC100_UNIMAN   7802.223217   8535.870247  2219.713738  3423.353485  ...   \n",
       "2_FC100_UNIMAN   8231.534193   9481.924830  1972.722544  3021.289539  ...   \n",
       "3_FC100_UNIMAN   7207.384058   9357.748538  1666.463579  3039.437635  ...   \n",
       "1_FC500_UNIMAN   5982.145641   9142.506278  1438.015395  2814.279645  ...   \n",
       "2_FC500_UNIMAN   6645.799110   8890.837549  1251.276573  2882.666074  ...   \n",
       "3_FC500_UNIMAN   6233.009015   8620.934413  1537.268474  3152.588740  ...   \n",
       "\n",
       "Accession       GNA12_HUMAN  SMC2_HUMAN    PPIH_HUMAN  SF3B1_HUMAN  \\\n",
       "1_FC0_UNIMAN    1383.424836    0.000000  15069.648050  4826.286732   \n",
       "2_FC0_UNIMAN    1249.159160    0.000000  11550.864400  3855.626138   \n",
       "3_FC0_UNIMAN    2555.187122    0.000000  12840.776210  4007.991453   \n",
       "1_FC100_UNIMAN  1459.031062    0.000000  10518.028920  3798.314783   \n",
       "2_FC100_UNIMAN  1596.916623    0.000000  12331.798240  3343.531266   \n",
       "3_FC100_UNIMAN   944.553160    5.020573  11514.501490  3475.156301   \n",
       "1_FC500_UNIMAN   603.479544   50.786320   5986.918454  2227.797289   \n",
       "2_FC500_UNIMAN   804.005369   31.827833   4912.573754  1400.202232   \n",
       "3_FC500_UNIMAN   840.597858    0.000000   4950.512730  2444.526916   \n",
       "\n",
       "Accession       KS6B2_HUMAN  BRK1_HUMAN  PDZD2_HUMAN  SQSTM_HUMAN  \\\n",
       "1_FC0_UNIMAN       0.000000   98.556887  1936.422674  2609.835234   \n",
       "2_FC0_UNIMAN       0.000000    0.000000  1879.789849  2786.084578   \n",
       "3_FC0_UNIMAN       0.000000    0.000000  2057.976458  3283.612188   \n",
       "1_FC100_UNIMAN     0.000000   40.164241  1013.182087  1868.223448   \n",
       "2_FC100_UNIMAN    19.658531   90.792069  1753.996543  1108.381242   \n",
       "3_FC100_UNIMAN     8.968705   80.584932  1794.266837  1483.254327   \n",
       "1_FC500_UNIMAN    26.742719    6.401598  1300.057608  1194.204777   \n",
       "2_FC500_UNIMAN    12.389011   10.217394  1319.553976  1221.458516   \n",
       "3_FC500_UNIMAN     7.338352    4.239393  1194.265009  1213.826232   \n",
       "\n",
       "Accession       VP26A_HUMAN   CC149_HUMAN  \n",
       "1_FC0_UNIMAN     735.099695  11677.882160  \n",
       "2_FC0_UNIMAN     659.152613    726.751695  \n",
       "3_FC0_UNIMAN    1100.849505   1008.956092  \n",
       "1_FC100_UNIMAN   656.675534   1874.429476  \n",
       "2_FC100_UNIMAN   263.825213   5130.321783  \n",
       "3_FC100_UNIMAN   366.702038   4683.595291  \n",
       "1_FC500_UNIMAN   434.087824   4424.153049  \n",
       "2_FC500_UNIMAN   534.910767   3339.198646  \n",
       "3_FC500_UNIMAN   430.708927    542.741078  \n",
       "\n",
       "[9 rows x 2628 columns]"
      ]
     },
     "execution_count": 12,
     "metadata": {},
     "output_type": "execute_result"
    }
   ],
   "source": [
    "#Clustering (k-means, agglomerative hierarchical, performance analysis)\n",
    "#reloading data as new variable for clustering\n",
    "df_segmentation = pd.read_csv (r'/Users/katemeeson/Desktop/06052021.csv', index_col=[0])\n",
    "df_segmentation = df_segmentation.transpose()\n",
    "df_segmentation"
   ]
  },
  {
   "cell_type": "code",
   "execution_count": 14,
   "id": "enclosed-simon",
   "metadata": {},
   "outputs": [],
   "source": [
    "#Perform PCA again ready for working out optimal cluster frequency. \n",
    "#Scaling data for PCA. \n",
    "scaler = StandardScaler()\n",
    "segmentation_std = scaler.fit_transform(df_segmentation)"
   ]
  },
  {
   "cell_type": "code",
   "execution_count": 16,
   "id": "civic-rental",
   "metadata": {},
   "outputs": [
    {
     "data": {
      "text/plain": [
       "array([[-33.73594729, -20.77537412,  30.16629935],\n",
       "       [-42.19036438, -15.57033383, -13.4233988 ],\n",
       "       [-44.42210827, -18.54854807, -15.86658053],\n",
       "       [ -9.29962357,  42.39377317, -21.81508558],\n",
       "       [  2.67071641,  26.29694475,  20.56728475],\n",
       "       [  0.1113806 ,  29.07229262,  15.74560628],\n",
       "       [ 45.35972744, -17.38798124,   5.80880094],\n",
       "       [ 44.26185373, -17.56396405,   1.77092395],\n",
       "       [ 37.24436533,  -7.91680925, -22.95385036]])"
      ]
     },
     "execution_count": 16,
     "metadata": {},
     "output_type": "execute_result"
    }
   ],
   "source": [
    "#Performing PCA. Using three components, as scree plots above show these contain the majority of the variance. \n",
    "pca = PCA(n_components = 3)\n",
    "pca.fit(segmentation_std)\n",
    "pca.transform(segmentation_std)"
   ]
  },
  {
   "cell_type": "code",
   "execution_count": 17,
   "id": "biblical-delight",
   "metadata": {},
   "outputs": [],
   "source": [
    "#Assigning variable to PCA scores ready for within-cluster-sum-of-squares analysis. \n",
    "scores_pca = pca.transform(segmentation_std)"
   ]
  },
  {
   "cell_type": "code",
   "execution_count": 30,
   "id": "vocational-lease",
   "metadata": {},
   "outputs": [
    {
     "name": "stdout",
     "output_type": "stream",
     "text": [
      "Optimal number of clusters 3\n"
     ]
    },
    {
     "data": {
      "image/png": "[encoded data removed]",
      "text/plain": [
       "<Figure size 720x576 with 1 Axes>"
      ]
     },
     "metadata": {},
     "output_type": "display_data"
    }
   ],
   "source": [
    "#Performing WCSS to calculate optimal cluster frequency, prior to clustering. \n",
    "wcss = []\n",
    "max_clusters = 9\n",
    "for i in range(1, max_clusters):\n",
    "    kmeans_pca = KMeans(i, init='k-means++', random_state=42)\n",
    "    kmeans_pca.fit(scores_pca)\n",
    "    wcss.append(kmeans_pca.inertia_)\n",
    "\n",
    "n_clusters = KneeLocator([i for i in range(1, max_clusters)], wcss, curve='convex', direction='decreasing').knee\n",
    "print(\"Optimal number of clusters\", n_clusters)\n",
    "\n",
    "fig = plt.figure(figsize=(10,8))\n",
    "plt.plot(range(1, 9), wcss, marker='o', linestyle='--')\n",
    "# plt.vlines(n_clusters, ymin=0, ymax=max(wcss), linestyles='dashed')\n",
    "plt.xlabel('Number of Clusters', fontsize=18)\n",
    "plt.ylabel('Within Cluster Sum of Squares (WCSS)', fontsize=18)\n",
    "plt.xticks(fontsize=16)\n",
    "plt.yticks(fontsize=16)\n",
    "plt.show()"
   ]
  },
  {
   "cell_type": "code",
   "execution_count": 41,
   "id": "bulgarian-screening",
   "metadata": {},
   "outputs": [
    {
     "data": {
      "text/plain": [
       "1_FC0_UNIMAN      1\n",
       "2_FC0_UNIMAN      1\n",
       "3_FC0_UNIMAN      1\n",
       "1_FC100_UNIMAN    2\n",
       "2_FC100_UNIMAN    2\n",
       "3_FC100_UNIMAN    2\n",
       "1_FC500_UNIMAN    0\n",
       "2_FC500_UNIMAN    0\n",
       "3_FC500_UNIMAN    0\n",
       "Name: Cluster, dtype: int32"
      ]
     },
     "execution_count": 41,
     "metadata": {},
     "output_type": "execute_result"
    }
   ],
   "source": [
    "#Assigning K-means labels based on PCA scores. \n",
    "kmeans_pca = KMeans(n_clusters=n_clusters, init='k-means++', random_state=42)\n",
    "kmeans_pca.fit(scores_pca)\n",
    "df_segmentation['Cluster'] = kmeans_pca.labels_\n",
    "df_segmentation['Cluster']"
   ]
  },
  {
   "cell_type": "code",
   "execution_count": 45,
   "id": "artistic-assessment",
   "metadata": {},
   "outputs": [
    {
     "data": {
      "text/html": [
       "<div>\n",
       "<style scoped>\n",
       "    .dataframe tbody tr th:only-of-type {\n",
       "        vertical-align: middle;\n",
       "    }\n",
       "\n",
       "    .dataframe tbody tr th {\n",
       "        vertical-align: top;\n",
       "    }\n",
       "\n",
       "    .dataframe thead th {\n",
       "        text-align: right;\n",
       "    }\n",
       "</style>\n",
       "<table border=\"1\" class=\"dataframe\">\n",
       "  <thead>\n",
       "    <tr style=\"text-align: right;\">\n",
       "      <th></th>\n",
       "      <th>1B18_HUMAN</th>\n",
       "      <th>2AAA_HUMAN</th>\n",
       "      <th>2AAB_HUMAN</th>\n",
       "      <th>4EBP2_HUMAN;4EBP1_HUMAN;4EBP3_HUMAN</th>\n",
       "      <th>6PGD_HUMAN</th>\n",
       "      <th>6PGL_HUMAN</th>\n",
       "      <th>1433B_HUMAN</th>\n",
       "      <th>1433E_HUMAN</th>\n",
       "      <th>1433F_HUMAN</th>\n",
       "      <th>1433G_HUMAN</th>\n",
       "      <th>...</th>\n",
       "      <th>BRK1_HUMAN</th>\n",
       "      <th>PDZD2_HUMAN</th>\n",
       "      <th>SQSTM_HUMAN</th>\n",
       "      <th>VP26A_HUMAN</th>\n",
       "      <th>CC149_HUMAN</th>\n",
       "      <th>Cluster</th>\n",
       "      <th>Component 1</th>\n",
       "      <th>Component 2</th>\n",
       "      <th>Component 3</th>\n",
       "      <th>Segment K-means PCA</th>\n",
       "    </tr>\n",
       "  </thead>\n",
       "  <tbody>\n",
       "    <tr>\n",
       "      <th>0</th>\n",
       "      <td>135.786390</td>\n",
       "      <td>2717.152441</td>\n",
       "      <td>0.957894</td>\n",
       "      <td>713.186543</td>\n",
       "      <td>2553.155806</td>\n",
       "      <td>1553.432810</td>\n",
       "      <td>9404.851776</td>\n",
       "      <td>12134.891290</td>\n",
       "      <td>2083.855075</td>\n",
       "      <td>3221.205278</td>\n",
       "      <td>...</td>\n",
       "      <td>98.556887</td>\n",
       "      <td>1936.422674</td>\n",
       "      <td>2609.835234</td>\n",
       "      <td>735.099695</td>\n",
       "      <td>11677.882160</td>\n",
       "      <td>1</td>\n",
       "      <td>-33.735947</td>\n",
       "      <td>-20.775374</td>\n",
       "      <td>30.166299</td>\n",
       "      <td>1</td>\n",
       "    </tr>\n",
       "    <tr>\n",
       "      <th>1</th>\n",
       "      <td>10.772416</td>\n",
       "      <td>3136.231976</td>\n",
       "      <td>2.629231</td>\n",
       "      <td>868.618474</td>\n",
       "      <td>2474.713822</td>\n",
       "      <td>1392.897386</td>\n",
       "      <td>10361.927580</td>\n",
       "      <td>10947.187770</td>\n",
       "      <td>1987.484437</td>\n",
       "      <td>3506.647732</td>\n",
       "      <td>...</td>\n",
       "      <td>0.000000</td>\n",
       "      <td>1879.789849</td>\n",
       "      <td>2786.084578</td>\n",
       "      <td>659.152613</td>\n",
       "      <td>726.751695</td>\n",
       "      <td>1</td>\n",
       "      <td>-42.190364</td>\n",
       "      <td>-15.570334</td>\n",
       "      <td>-13.423399</td>\n",
       "      <td>1</td>\n",
       "    </tr>\n",
       "    <tr>\n",
       "      <th>2</th>\n",
       "      <td>36.970907</td>\n",
       "      <td>2999.512457</td>\n",
       "      <td>1.850372</td>\n",
       "      <td>824.142912</td>\n",
       "      <td>2695.017392</td>\n",
       "      <td>1663.945952</td>\n",
       "      <td>9438.361047</td>\n",
       "      <td>11794.136990</td>\n",
       "      <td>2162.094395</td>\n",
       "      <td>3659.968211</td>\n",
       "      <td>...</td>\n",
       "      <td>0.000000</td>\n",
       "      <td>2057.976458</td>\n",
       "      <td>3283.612188</td>\n",
       "      <td>1100.849505</td>\n",
       "      <td>1008.956092</td>\n",
       "      <td>1</td>\n",
       "      <td>-44.422108</td>\n",
       "      <td>-18.548548</td>\n",
       "      <td>-15.866581</td>\n",
       "      <td>1</td>\n",
       "    </tr>\n",
       "    <tr>\n",
       "      <th>3</th>\n",
       "      <td>6.934908</td>\n",
       "      <td>3005.875169</td>\n",
       "      <td>0.195782</td>\n",
       "      <td>597.389097</td>\n",
       "      <td>2826.013498</td>\n",
       "      <td>1036.265158</td>\n",
       "      <td>7802.223217</td>\n",
       "      <td>8535.870247</td>\n",
       "      <td>2219.713738</td>\n",
       "      <td>3423.353485</td>\n",
       "      <td>...</td>\n",
       "      <td>40.164241</td>\n",
       "      <td>1013.182087</td>\n",
       "      <td>1868.223448</td>\n",
       "      <td>656.675534</td>\n",
       "      <td>1874.429476</td>\n",
       "      <td>2</td>\n",
       "      <td>-9.299624</td>\n",
       "      <td>42.393773</td>\n",
       "      <td>-21.815086</td>\n",
       "      <td>2</td>\n",
       "    </tr>\n",
       "    <tr>\n",
       "      <th>4</th>\n",
       "      <td>45.906352</td>\n",
       "      <td>2795.020062</td>\n",
       "      <td>0.128790</td>\n",
       "      <td>565.994562</td>\n",
       "      <td>2642.527782</td>\n",
       "      <td>966.392636</td>\n",
       "      <td>8231.534193</td>\n",
       "      <td>9481.924830</td>\n",
       "      <td>1972.722544</td>\n",
       "      <td>3021.289539</td>\n",
       "      <td>...</td>\n",
       "      <td>90.792069</td>\n",
       "      <td>1753.996543</td>\n",
       "      <td>1108.381242</td>\n",
       "      <td>263.825213</td>\n",
       "      <td>5130.321783</td>\n",
       "      <td>2</td>\n",
       "      <td>2.670716</td>\n",
       "      <td>26.296945</td>\n",
       "      <td>20.567285</td>\n",
       "      <td>2</td>\n",
       "    </tr>\n",
       "  </tbody>\n",
       "</table>\n",
       "<p>5 rows × 2633 columns</p>\n",
       "</div>"
      ],
      "text/plain": [
       "   1B18_HUMAN   2AAA_HUMAN  2AAB_HUMAN  4EBP2_HUMAN;4EBP1_HUMAN;4EBP3_HUMAN  \\\n",
       "0  135.786390  2717.152441    0.957894                           713.186543   \n",
       "1   10.772416  3136.231976    2.629231                           868.618474   \n",
       "2   36.970907  2999.512457    1.850372                           824.142912   \n",
       "3    6.934908  3005.875169    0.195782                           597.389097   \n",
       "4   45.906352  2795.020062    0.128790                           565.994562   \n",
       "\n",
       "    6PGD_HUMAN   6PGL_HUMAN   1433B_HUMAN   1433E_HUMAN  1433F_HUMAN  \\\n",
       "0  2553.155806  1553.432810   9404.851776  12134.891290  2083.855075   \n",
       "1  2474.713822  1392.897386  10361.927580  10947.187770  1987.484437   \n",
       "2  2695.017392  1663.945952   9438.361047  11794.136990  2162.094395   \n",
       "3  2826.013498  1036.265158   7802.223217   8535.870247  2219.713738   \n",
       "4  2642.527782   966.392636   8231.534193   9481.924830  1972.722544   \n",
       "\n",
       "   1433G_HUMAN  ...  BRK1_HUMAN  PDZD2_HUMAN  SQSTM_HUMAN  VP26A_HUMAN  \\\n",
       "0  3221.205278  ...   98.556887  1936.422674  2609.835234   735.099695   \n",
       "1  3506.647732  ...    0.000000  1879.789849  2786.084578   659.152613   \n",
       "2  3659.968211  ...    0.000000  2057.976458  3283.612188  1100.849505   \n",
       "3  3423.353485  ...   40.164241  1013.182087  1868.223448   656.675534   \n",
       "4  3021.289539  ...   90.792069  1753.996543  1108.381242   263.825213   \n",
       "\n",
       "    CC149_HUMAN  Cluster  Component 1  Component 2  Component 3  \\\n",
       "0  11677.882160        1   -33.735947   -20.775374    30.166299   \n",
       "1    726.751695        1   -42.190364   -15.570334   -13.423399   \n",
       "2   1008.956092        1   -44.422108   -18.548548   -15.866581   \n",
       "3   1874.429476        2    -9.299624    42.393773   -21.815086   \n",
       "4   5130.321783        2     2.670716    26.296945    20.567285   \n",
       "\n",
       "   Segment K-means PCA  \n",
       "0                    1  \n",
       "1                    1  \n",
       "2                    1  \n",
       "3                    2  \n",
       "4                    2  \n",
       "\n",
       "[5 rows x 2633 columns]"
      ]
     },
     "execution_count": 45,
     "metadata": {},
     "output_type": "execute_result"
    }
   ],
   "source": [
    "#Creating dataframe to contain protein abundances, PCA scores, and K-means cluster.\n",
    "df_segm_pca_kmeans = pd.concat([df_segmentation.reset_index(drop = True), pd.DataFrame(scores_pca)], axis = 1)\n",
    "df_segm_pca_kmeans.columns.values[-3:]=['Component 1', 'Component 2', 'Component 3']\n",
    "df_segm_pca_kmeans['Segment K-means PCA'] = kmeans_pca.labels_\n",
    "df_segm_pca_kmeans.head()"
   ]
  },
  {
   "cell_type": "code",
   "execution_count": 46,
   "id": "chicken-boston",
   "metadata": {},
   "outputs": [],
   "source": [
    "df_segm_pca_kmeans['Segment'] = df_segm_pca_kmeans['Segment K-means PCA'].map({2:'1-3_FC0_UNIMAN', 0:'1-3_FC500_UNIMAN', 1:'1-3_FC100_UNIMAN'})"
   ]
  },
  {
   "cell_type": "code",
   "execution_count": 47,
   "id": "organized-breakdown",
   "metadata": {},
   "outputs": [
    {
     "data": {
      "image/png": "[encoded data removed]",
      "text/plain": [
       "<Figure size 720x72 with 1 Axes>"
      ]
     },
     "metadata": {},
     "output_type": "display_data"
    }
   ],
   "source": [
    "palette = sns.palplot(sns.color_palette(\"Paired\", 10))"
   ]
  },
  {
   "cell_type": "code",
   "execution_count": 48,
   "id": "introductory-frank",
   "metadata": {},
   "outputs": [
    {
     "name": "stderr",
     "output_type": "stream",
     "text": [
      "/opt/anaconda3/envs/sklearn-env/lib/python3.9/site-packages/seaborn/_decorators.py:36: FutureWarning:\n",
      "\n",
      "Pass the following variables as keyword args: x, y. From version 0.12, the only valid positional argument will be `data`, and passing other arguments without an explicit keyword will result in an error or misinterpretation.\n",
      "\n"
     ]
    },
    {
     "data": {
      "image/png": "[encoded data removed]",
      "text/plain": [
       "<Figure size 720x576 with 1 Axes>"
      ]
     },
     "metadata": {},
     "output_type": "display_data"
    }
   ],
   "source": [
    "x_axis = df_segm_pca_kmeans['Component 2']\n",
    "y_axis = df_segm_pca_kmeans['Component 1']\n",
    "plt.figure(figsize = (10,8))\n",
    "sns.scatterplot(x_axis, y_axis, hue = df_segm_pca_kmeans['Segment'], palette = palette)\n",
    "plt.title('Clusters by PCA Components')\n",
    "plt.show()"
   ]
  },
  {
   "cell_type": "code",
   "execution_count": 62,
   "id": "improving-sherman",
   "metadata": {},
   "outputs": [
    {
     "data": {
      "text/html": [
       "<div>\n",
       "<style scoped>\n",
       "    .dataframe tbody tr th:only-of-type {\n",
       "        vertical-align: middle;\n",
       "    }\n",
       "\n",
       "    .dataframe tbody tr th {\n",
       "        vertical-align: top;\n",
       "    }\n",
       "\n",
       "    .dataframe thead th {\n",
       "        text-align: right;\n",
       "    }\n",
       "</style>\n",
       "<table border=\"1\" class=\"dataframe\">\n",
       "  <thead>\n",
       "    <tr style=\"text-align: right;\">\n",
       "      <th>Accession</th>\n",
       "      <th>1B18_HUMAN</th>\n",
       "      <th>2AAA_HUMAN</th>\n",
       "      <th>2AAB_HUMAN</th>\n",
       "      <th>4EBP2_HUMAN;4EBP1_HUMAN;4EBP3_HUMAN</th>\n",
       "      <th>6PGD_HUMAN</th>\n",
       "      <th>6PGL_HUMAN</th>\n",
       "      <th>1433B_HUMAN</th>\n",
       "      <th>1433E_HUMAN</th>\n",
       "      <th>1433F_HUMAN</th>\n",
       "      <th>1433G_HUMAN</th>\n",
       "      <th>...</th>\n",
       "      <th>GNA12_HUMAN</th>\n",
       "      <th>SMC2_HUMAN</th>\n",
       "      <th>PPIH_HUMAN</th>\n",
       "      <th>SF3B1_HUMAN</th>\n",
       "      <th>KS6B2_HUMAN</th>\n",
       "      <th>BRK1_HUMAN</th>\n",
       "      <th>PDZD2_HUMAN</th>\n",
       "      <th>SQSTM_HUMAN</th>\n",
       "      <th>VP26A_HUMAN</th>\n",
       "      <th>CC149_HUMAN</th>\n",
       "    </tr>\n",
       "  </thead>\n",
       "  <tbody>\n",
       "    <tr>\n",
       "      <th>1_FC0_UNIMAN</th>\n",
       "      <td>135.786390</td>\n",
       "      <td>2717.152441</td>\n",
       "      <td>0.957894</td>\n",
       "      <td>713.186543</td>\n",
       "      <td>2553.155806</td>\n",
       "      <td>1553.432810</td>\n",
       "      <td>9404.851776</td>\n",
       "      <td>12134.891290</td>\n",
       "      <td>2083.855075</td>\n",
       "      <td>3221.205278</td>\n",
       "      <td>...</td>\n",
       "      <td>1383.424836</td>\n",
       "      <td>0.000000</td>\n",
       "      <td>15069.648050</td>\n",
       "      <td>4826.286732</td>\n",
       "      <td>0.000000</td>\n",
       "      <td>98.556887</td>\n",
       "      <td>1936.422674</td>\n",
       "      <td>2609.835234</td>\n",
       "      <td>735.099695</td>\n",
       "      <td>11677.882160</td>\n",
       "    </tr>\n",
       "    <tr>\n",
       "      <th>2_FC0_UNIMAN</th>\n",
       "      <td>10.772416</td>\n",
       "      <td>3136.231976</td>\n",
       "      <td>2.629231</td>\n",
       "      <td>868.618474</td>\n",
       "      <td>2474.713822</td>\n",
       "      <td>1392.897386</td>\n",
       "      <td>10361.927580</td>\n",
       "      <td>10947.187770</td>\n",
       "      <td>1987.484437</td>\n",
       "      <td>3506.647732</td>\n",
       "      <td>...</td>\n",
       "      <td>1249.159160</td>\n",
       "      <td>0.000000</td>\n",
       "      <td>11550.864400</td>\n",
       "      <td>3855.626138</td>\n",
       "      <td>0.000000</td>\n",
       "      <td>0.000000</td>\n",
       "      <td>1879.789849</td>\n",
       "      <td>2786.084578</td>\n",
       "      <td>659.152613</td>\n",
       "      <td>726.751695</td>\n",
       "    </tr>\n",
       "    <tr>\n",
       "      <th>3_FC0_UNIMAN</th>\n",
       "      <td>36.970907</td>\n",
       "      <td>2999.512457</td>\n",
       "      <td>1.850372</td>\n",
       "      <td>824.142912</td>\n",
       "      <td>2695.017392</td>\n",
       "      <td>1663.945952</td>\n",
       "      <td>9438.361047</td>\n",
       "      <td>11794.136990</td>\n",
       "      <td>2162.094395</td>\n",
       "      <td>3659.968211</td>\n",
       "      <td>...</td>\n",
       "      <td>2555.187122</td>\n",
       "      <td>0.000000</td>\n",
       "      <td>12840.776210</td>\n",
       "      <td>4007.991453</td>\n",
       "      <td>0.000000</td>\n",
       "      <td>0.000000</td>\n",
       "      <td>2057.976458</td>\n",
       "      <td>3283.612188</td>\n",
       "      <td>1100.849505</td>\n",
       "      <td>1008.956092</td>\n",
       "    </tr>\n",
       "    <tr>\n",
       "      <th>1_FC100_UNIMAN</th>\n",
       "      <td>6.934908</td>\n",
       "      <td>3005.875169</td>\n",
       "      <td>0.195782</td>\n",
       "      <td>597.389097</td>\n",
       "      <td>2826.013498</td>\n",
       "      <td>1036.265158</td>\n",
       "      <td>7802.223217</td>\n",
       "      <td>8535.870247</td>\n",
       "      <td>2219.713738</td>\n",
       "      <td>3423.353485</td>\n",
       "      <td>...</td>\n",
       "      <td>1459.031062</td>\n",
       "      <td>0.000000</td>\n",
       "      <td>10518.028920</td>\n",
       "      <td>3798.314783</td>\n",
       "      <td>0.000000</td>\n",
       "      <td>40.164241</td>\n",
       "      <td>1013.182087</td>\n",
       "      <td>1868.223448</td>\n",
       "      <td>656.675534</td>\n",
       "      <td>1874.429476</td>\n",
       "    </tr>\n",
       "    <tr>\n",
       "      <th>2_FC100_UNIMAN</th>\n",
       "      <td>45.906352</td>\n",
       "      <td>2795.020062</td>\n",
       "      <td>0.128790</td>\n",
       "      <td>565.994562</td>\n",
       "      <td>2642.527782</td>\n",
       "      <td>966.392636</td>\n",
       "      <td>8231.534193</td>\n",
       "      <td>9481.924830</td>\n",
       "      <td>1972.722544</td>\n",
       "      <td>3021.289539</td>\n",
       "      <td>...</td>\n",
       "      <td>1596.916623</td>\n",
       "      <td>0.000000</td>\n",
       "      <td>12331.798240</td>\n",
       "      <td>3343.531266</td>\n",
       "      <td>19.658531</td>\n",
       "      <td>90.792069</td>\n",
       "      <td>1753.996543</td>\n",
       "      <td>1108.381242</td>\n",
       "      <td>263.825213</td>\n",
       "      <td>5130.321783</td>\n",
       "    </tr>\n",
       "    <tr>\n",
       "      <th>3_FC100_UNIMAN</th>\n",
       "      <td>16.630828</td>\n",
       "      <td>2821.660669</td>\n",
       "      <td>0.368443</td>\n",
       "      <td>603.498396</td>\n",
       "      <td>2649.418069</td>\n",
       "      <td>911.539294</td>\n",
       "      <td>7207.384058</td>\n",
       "      <td>9357.748538</td>\n",
       "      <td>1666.463579</td>\n",
       "      <td>3039.437635</td>\n",
       "      <td>...</td>\n",
       "      <td>944.553160</td>\n",
       "      <td>5.020573</td>\n",
       "      <td>11514.501490</td>\n",
       "      <td>3475.156301</td>\n",
       "      <td>8.968705</td>\n",
       "      <td>80.584932</td>\n",
       "      <td>1794.266837</td>\n",
       "      <td>1483.254327</td>\n",
       "      <td>366.702038</td>\n",
       "      <td>4683.595291</td>\n",
       "    </tr>\n",
       "    <tr>\n",
       "      <th>1_FC500_UNIMAN</th>\n",
       "      <td>34.062256</td>\n",
       "      <td>2347.035699</td>\n",
       "      <td>5.536934</td>\n",
       "      <td>681.696694</td>\n",
       "      <td>2324.440121</td>\n",
       "      <td>904.307932</td>\n",
       "      <td>5982.145641</td>\n",
       "      <td>9142.506278</td>\n",
       "      <td>1438.015395</td>\n",
       "      <td>2814.279645</td>\n",
       "      <td>...</td>\n",
       "      <td>603.479544</td>\n",
       "      <td>50.786320</td>\n",
       "      <td>5986.918454</td>\n",
       "      <td>2227.797289</td>\n",
       "      <td>26.742719</td>\n",
       "      <td>6.401598</td>\n",
       "      <td>1300.057608</td>\n",
       "      <td>1194.204777</td>\n",
       "      <td>434.087824</td>\n",
       "      <td>4424.153049</td>\n",
       "    </tr>\n",
       "    <tr>\n",
       "      <th>2_FC500_UNIMAN</th>\n",
       "      <td>21.822042</td>\n",
       "      <td>2334.977402</td>\n",
       "      <td>2.783264</td>\n",
       "      <td>658.935351</td>\n",
       "      <td>2307.042407</td>\n",
       "      <td>823.108470</td>\n",
       "      <td>6645.799110</td>\n",
       "      <td>8890.837549</td>\n",
       "      <td>1251.276573</td>\n",
       "      <td>2882.666074</td>\n",
       "      <td>...</td>\n",
       "      <td>804.005369</td>\n",
       "      <td>31.827833</td>\n",
       "      <td>4912.573754</td>\n",
       "      <td>1400.202232</td>\n",
       "      <td>12.389011</td>\n",
       "      <td>10.217394</td>\n",
       "      <td>1319.553976</td>\n",
       "      <td>1221.458516</td>\n",
       "      <td>534.910767</td>\n",
       "      <td>3339.198646</td>\n",
       "    </tr>\n",
       "    <tr>\n",
       "      <th>3_FC500_UNIMAN</th>\n",
       "      <td>9.196085</td>\n",
       "      <td>2740.521080</td>\n",
       "      <td>4.803573</td>\n",
       "      <td>712.519704</td>\n",
       "      <td>2446.558760</td>\n",
       "      <td>826.493416</td>\n",
       "      <td>6233.009015</td>\n",
       "      <td>8620.934413</td>\n",
       "      <td>1537.268474</td>\n",
       "      <td>3152.588740</td>\n",
       "      <td>...</td>\n",
       "      <td>840.597858</td>\n",
       "      <td>0.000000</td>\n",
       "      <td>4950.512730</td>\n",
       "      <td>2444.526916</td>\n",
       "      <td>7.338352</td>\n",
       "      <td>4.239393</td>\n",
       "      <td>1194.265009</td>\n",
       "      <td>1213.826232</td>\n",
       "      <td>430.708927</td>\n",
       "      <td>542.741078</td>\n",
       "    </tr>\n",
       "  </tbody>\n",
       "</table>\n",
       "<p>9 rows × 2628 columns</p>\n",
       "</div>"
      ],
      "text/plain": [
       "Accession       1B18_HUMAN   2AAA_HUMAN  2AAB_HUMAN  \\\n",
       "1_FC0_UNIMAN    135.786390  2717.152441    0.957894   \n",
       "2_FC0_UNIMAN     10.772416  3136.231976    2.629231   \n",
       "3_FC0_UNIMAN     36.970907  2999.512457    1.850372   \n",
       "1_FC100_UNIMAN    6.934908  3005.875169    0.195782   \n",
       "2_FC100_UNIMAN   45.906352  2795.020062    0.128790   \n",
       "3_FC100_UNIMAN   16.630828  2821.660669    0.368443   \n",
       "1_FC500_UNIMAN   34.062256  2347.035699    5.536934   \n",
       "2_FC500_UNIMAN   21.822042  2334.977402    2.783264   \n",
       "3_FC500_UNIMAN    9.196085  2740.521080    4.803573   \n",
       "\n",
       "Accession       4EBP2_HUMAN;4EBP1_HUMAN;4EBP3_HUMAN   6PGD_HUMAN   6PGL_HUMAN  \\\n",
       "1_FC0_UNIMAN                             713.186543  2553.155806  1553.432810   \n",
       "2_FC0_UNIMAN                             868.618474  2474.713822  1392.897386   \n",
       "3_FC0_UNIMAN                             824.142912  2695.017392  1663.945952   \n",
       "1_FC100_UNIMAN                           597.389097  2826.013498  1036.265158   \n",
       "2_FC100_UNIMAN                           565.994562  2642.527782   966.392636   \n",
       "3_FC100_UNIMAN                           603.498396  2649.418069   911.539294   \n",
       "1_FC500_UNIMAN                           681.696694  2324.440121   904.307932   \n",
       "2_FC500_UNIMAN                           658.935351  2307.042407   823.108470   \n",
       "3_FC500_UNIMAN                           712.519704  2446.558760   826.493416   \n",
       "\n",
       "Accession        1433B_HUMAN   1433E_HUMAN  1433F_HUMAN  1433G_HUMAN  ...  \\\n",
       "1_FC0_UNIMAN     9404.851776  12134.891290  2083.855075  3221.205278  ...   \n",
       "2_FC0_UNIMAN    10361.927580  10947.187770  1987.484437  3506.647732  ...   \n",
       "3_FC0_UNIMAN     9438.361047  11794.136990  2162.094395  3659.968211  ...   \n",
       "1_FC100_UNIMAN   7802.223217   8535.870247  2219.713738  3423.353485  ...   \n",
       "2_FC100_UNIMAN   8231.534193   9481.924830  1972.722544  3021.289539  ...   \n",
       "3_FC100_UNIMAN   7207.384058   9357.748538  1666.463579  3039.437635  ...   \n",
       "1_FC500_UNIMAN   5982.145641   9142.506278  1438.015395  2814.279645  ...   \n",
       "2_FC500_UNIMAN   6645.799110   8890.837549  1251.276573  2882.666074  ...   \n",
       "3_FC500_UNIMAN   6233.009015   8620.934413  1537.268474  3152.588740  ...   \n",
       "\n",
       "Accession       GNA12_HUMAN  SMC2_HUMAN    PPIH_HUMAN  SF3B1_HUMAN  \\\n",
       "1_FC0_UNIMAN    1383.424836    0.000000  15069.648050  4826.286732   \n",
       "2_FC0_UNIMAN    1249.159160    0.000000  11550.864400  3855.626138   \n",
       "3_FC0_UNIMAN    2555.187122    0.000000  12840.776210  4007.991453   \n",
       "1_FC100_UNIMAN  1459.031062    0.000000  10518.028920  3798.314783   \n",
       "2_FC100_UNIMAN  1596.916623    0.000000  12331.798240  3343.531266   \n",
       "3_FC100_UNIMAN   944.553160    5.020573  11514.501490  3475.156301   \n",
       "1_FC500_UNIMAN   603.479544   50.786320   5986.918454  2227.797289   \n",
       "2_FC500_UNIMAN   804.005369   31.827833   4912.573754  1400.202232   \n",
       "3_FC500_UNIMAN   840.597858    0.000000   4950.512730  2444.526916   \n",
       "\n",
       "Accession       KS6B2_HUMAN  BRK1_HUMAN  PDZD2_HUMAN  SQSTM_HUMAN  \\\n",
       "1_FC0_UNIMAN       0.000000   98.556887  1936.422674  2609.835234   \n",
       "2_FC0_UNIMAN       0.000000    0.000000  1879.789849  2786.084578   \n",
       "3_FC0_UNIMAN       0.000000    0.000000  2057.976458  3283.612188   \n",
       "1_FC100_UNIMAN     0.000000   40.164241  1013.182087  1868.223448   \n",
       "2_FC100_UNIMAN    19.658531   90.792069  1753.996543  1108.381242   \n",
       "3_FC100_UNIMAN     8.968705   80.584932  1794.266837  1483.254327   \n",
       "1_FC500_UNIMAN    26.742719    6.401598  1300.057608  1194.204777   \n",
       "2_FC500_UNIMAN    12.389011   10.217394  1319.553976  1221.458516   \n",
       "3_FC500_UNIMAN     7.338352    4.239393  1194.265009  1213.826232   \n",
       "\n",
       "Accession       VP26A_HUMAN   CC149_HUMAN  \n",
       "1_FC0_UNIMAN     735.099695  11677.882160  \n",
       "2_FC0_UNIMAN     659.152613    726.751695  \n",
       "3_FC0_UNIMAN    1100.849505   1008.956092  \n",
       "1_FC100_UNIMAN   656.675534   1874.429476  \n",
       "2_FC100_UNIMAN   263.825213   5130.321783  \n",
       "3_FC100_UNIMAN   366.702038   4683.595291  \n",
       "1_FC500_UNIMAN   434.087824   4424.153049  \n",
       "2_FC500_UNIMAN   534.910767   3339.198646  \n",
       "3_FC500_UNIMAN   430.708927    542.741078  \n",
       "\n",
       "[9 rows x 2628 columns]"
      ]
     },
     "execution_count": 62,
     "metadata": {},
     "output_type": "execute_result"
    }
   ],
   "source": [
    "#Agglomerative hierarchical clustering (dendrogram and cluster plot).\n",
    "#Loading dataset again to assign new variable for agglomerative clustering.\n",
    "data = pd.read_csv (r'/Users/katemeeson/Desktop/06052021.csv', index_col=[0])\n",
    "data = data.transpose()\n",
    "data"
   ]
  },
  {
   "cell_type": "code",
   "execution_count": 63,
   "id": "finnish-commitment",
   "metadata": {},
   "outputs": [],
   "source": [
    "#Scaling data for PCA. \n",
    "scaler = StandardScaler()\n",
    "segmentation_std = scaler.fit_transform(data)\n",
    "pca = PCA()\n",
    "pca.fit(segmentation_std)\n",
    "pca = PCA(n_components = 2)\n",
    "pca.fit(segmentation_std)\n",
    "pca.transform(segmentation_std)\n",
    "scores_pca = pca.transform(segmentation_std)\n",
    "data = scores_pca"
   ]
  },
  {
   "cell_type": "code",
   "execution_count": 64,
   "id": "patent-visibility",
   "metadata": {},
   "outputs": [
    {
     "data": {
      "text/plain": [
       "array([[-33.73594729, -20.77537412],\n",
       "       [-42.19036438, -15.57033383],\n",
       "       [-44.42210827, -18.54854807],\n",
       "       [ -9.29962357,  42.39377317],\n",
       "       [  2.67071641,  26.29694475],\n",
       "       [  0.1113806 ,  29.07229262],\n",
       "       [ 45.35972744, -17.38798124],\n",
       "       [ 44.26185373, -17.56396405],\n",
       "       [ 37.24436533,  -7.91680925]])"
      ]
     },
     "execution_count": 64,
     "metadata": {},
     "output_type": "execute_result"
    }
   ],
   "source": [
    "#Showing PCA scores.\n",
    "scores_pca"
   ]
  },
  {
   "cell_type": "code",
   "execution_count": 65,
   "id": "legitimate-person",
   "metadata": {},
   "outputs": [
    {
     "name": "stderr",
     "output_type": "stream",
     "text": [
      "<ipython-input-65-520b425f61fb>:6: MatplotlibDeprecationWarning:\n",
      "\n",
      "savefig() got unexpected keyword argument \"papertype\" which is no longer supported as of 3.3 and will become an error two minor releases later\n",
      "\n",
      "<ipython-input-65-520b425f61fb>:6: MatplotlibDeprecationWarning:\n",
      "\n",
      "savefig() got unexpected keyword argument \"frameon\" which is no longer supported as of 3.3 and will become an error two minor releases later\n",
      "\n"
     ]
    },
    {
     "data": {
      "image/png": "[encoded data removed]",
      "text/plain": [
       "<Figure size 720x504 with 1 Axes>"
      ]
     },
     "metadata": {},
     "output_type": "display_data"
    }
   ],
   "source": [
    "#Generating dendrogram. \n",
    "plt.figure(figsize=(10, 7))\n",
    "plt.title(\"Agglomerative hierarchical clustering of data\")\n",
    "dend = shc.dendrogram(shc.linkage(data, method='ward'))\n",
    "plt.xlabel('Myc expression conditions')\n",
    "plt.savefig('x5', dpi=None, facecolor='w', edgecolor='w',\n",
    "        orientation='portrait', papertype=None, format=None,\n",
    "        transparent=False, bbox_inches=None, pad_inches=0.1,\n",
    "        frameon=None, metadata=None)"
   ]
  },
  {
   "cell_type": "code",
   "execution_count": 78,
   "id": "approximate-symbol",
   "metadata": {},
   "outputs": [
    {
     "data": {
      "text/plain": [
       "array([2, 2, 2, 0, 0, 0, 1, 1, 1])"
      ]
     },
     "execution_count": 78,
     "metadata": {},
     "output_type": "execute_result"
    }
   ],
   "source": [
    "#Labelling Myc conditions/repeats with their cluster number. \n",
    "cluster = AgglomerativeClustering(n_clusters=3, affinity='euclidean', linkage='ward')\n",
    "cluster.fit_predict(data)"
   ]
  },
  {
   "cell_type": "code",
   "execution_count": 68,
   "id": "related-prefix",
   "metadata": {},
   "outputs": [
    {
     "name": "stderr",
     "output_type": "stream",
     "text": [
      "<ipython-input-68-11399d1036f5>:5: MatplotlibDeprecationWarning:\n",
      "\n",
      "savefig() got unexpected keyword argument \"papertype\" which is no longer supported as of 3.3 and will become an error two minor releases later\n",
      "\n",
      "<ipython-input-68-11399d1036f5>:5: MatplotlibDeprecationWarning:\n",
      "\n",
      "savefig() got unexpected keyword argument \"frameon\" which is no longer supported as of 3.3 and will become an error two minor releases later\n",
      "\n"
     ]
    },
    {
     "data": {
      "image/png": "[encoded data removed]",
      "text/plain": [
       "<Figure size 720x504 with 1 Axes>"
      ]
     },
     "metadata": {},
     "output_type": "display_data"
    }
   ],
   "source": [
    "#Plotting agglomerative hierarchical cluster plot.\n",
    "plt.figure(figsize=(10, 7))\n",
    "plt.scatter(data[:,0], data[:,1], c=cluster.labels_, cmap='rainbow', )\n",
    "plt.title('Clusters according to agglomerative hierarchical clustering')\n",
    "plt.savefig('x4', dpi=None, facecolor='w', edgecolor='w',\n",
    "        orientation='portrait', papertype=None, format=None,\n",
    "        transparent=False, bbox_inches=None, pad_inches=0.1,\n",
    "        frameon=None, metadata=None)"
   ]
  },
  {
   "cell_type": "code",
   "execution_count": 74,
   "id": "acquired-reynolds",
   "metadata": {},
   "outputs": [
    {
     "data": {
      "image/png": "[encoded data removed]",
      "text/plain": [
       "<Figure size 1080x360 with 2 Axes>"
      ]
     },
     "metadata": {
      "needs_background": "light"
     },
     "output_type": "display_data"
    },
    {
     "data": {
      "image/png": "[encoded data removed]",
      "text/plain": [
       "<Figure size 1080x360 with 2 Axes>"
      ]
     },
     "metadata": {
      "needs_background": "light"
     },
     "output_type": "display_data"
    },
    {
     "data": {
      "image/png": "[encoded data removed]",
      "text/plain": [
       "<Figure size 1080x360 with 2 Axes>"
      ]
     },
     "metadata": {
      "needs_background": "light"
     },
     "output_type": "display_data"
    }
   ],
   "source": [
    "#Sillhouette plot to assess quality of clustering/optimal frequency.\n",
    "#Score close to 1 indicates high similarity of sample to its own cluster and low similarity to other clusters. \n",
    "for i,k in enumerate([1,2,3]):\n",
    "    \n",
    "    fig, ax = plt.subplots(1,2,figsize=(15,5))\n",
    "    \n",
    "km = KMeans(n_clusters=k)\n",
    "y_predict = km.fit_predict(data)\n",
    "centroids  = km.cluster_centers_\n",
    "\n",
    "silhouette_vals = silhouette_samples(data,y_predict)\n",
    "\n",
    "y_ticks = []\n",
    "y_lower = y_upper = 0\n",
    "\n",
    "for i,cluster in enumerate(np.unique(y_predict)):\n",
    "   cluster_silhouette_vals = silhouette_vals[y_predict ==cluster]\n",
    "   cluster_silhouette_vals.sort()\n",
    "   y_upper += len(cluster_silhouette_vals)\n",
    "   \n",
    "   ax[0].barh(range(y_lower,y_upper),\n",
    "   cluster_silhouette_vals,height =1);\n",
    "   ax[0].text(-0.03,(y_lower+y_upper)/2,str(i+1))\n",
    "   y_lower += len(cluster_silhouette_vals)\n",
    "\n",
    "avg_score = np.mean(silhouette_vals)\n",
    "ax[0].axvline(avg_score,linestyle ='--',linewidth =2,color = 'green')\n",
    "ax[0].set_yticks([])\n",
    "ax[0].set_xlim([-0.1, 1])\n",
    "ax[0].set_xlabel('Silhouette coefficient values')\n",
    "ax[0].set_ylabel('Cluster labels')\n",
    "ax[0].set_title('Silhouette plot for the various clusters');"
   ]
  },
  {
   "cell_type": "code",
   "execution_count": 82,
   "id": "controversial-czech",
   "metadata": {},
   "outputs": [
    {
     "data": {
      "text/plain": [
       "1.0"
      ]
     },
     "execution_count": 82,
     "metadata": {},
     "output_type": "execute_result"
    }
   ],
   "source": [
    "#Adjusted rand index to find agreement between K-means and agglomerative hierarchical clustering.\n",
    "labels2 = cluster.fit_predict(data) #Cluster labels assigned during agglomerative hierarchical analysis.\n",
    "\n",
    "k_means_clusters = df_segmentation['Cluster'] #Cluster labels assigned during K-means analysis.  \n",
    "\n",
    "adjusted_rand_score(k_means_clusters, agg_hier_clusters)"
   ]
  },
  {
   "cell_type": "code",
   "execution_count": null,
   "id": "hispanic-celebrity",
   "metadata": {},
   "outputs": [],
   "source": []
  }
 ],
 "metadata": {
  "kernelspec": {
   "display_name": "Python 3",
   "language": "python",
   "name": "python3"
  },
  "language_info": {
   "codemirror_mode": {
    "name": "ipython",
    "version": 3
   },
   "file_extension": ".py",
   "mimetype": "text/x-python",
   "name": "python",
   "nbconvert_exporter": "python",
   "pygments_lexer": "ipython3",
   "version": "3.9.1"
  }
 },
 "nbformat": 4,
 "nbformat_minor": 5
}
